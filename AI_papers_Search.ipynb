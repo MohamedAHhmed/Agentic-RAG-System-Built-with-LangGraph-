{
  "cells": [
    {
      "cell_type": "code",
      "execution_count": null,
      "metadata": {
        "colab": {
          "base_uri": "https://localhost:8080/"
        },
        "id": "GjxivW_qQVqR",
        "outputId": "ef1e09da-4bdf-40dc-d95d-02dc6839d145"
      },
      "outputs": [
        {
          "output_type": "stream",
          "name": "stdout",
          "text": [
            "\u001b[?25l   \u001b[90m━━━━━━━━━━━━━━━━━━━━━━━━━━━━━━━━━━━━━━━━\u001b[0m \u001b[32m0.0/75.0 kB\u001b[0m \u001b[31m?\u001b[0m eta \u001b[36m-:--:--\u001b[0m\r\u001b[2K   \u001b[90m━━━━━━━━━━━━━━━━━━━━━━━━━━━━━━━━━━━━━━━━\u001b[0m \u001b[32m75.0/75.0 kB\u001b[0m \u001b[31m5.7 MB/s\u001b[0m eta \u001b[36m0:00:00\u001b[0m\n",
            "\u001b[2K   \u001b[90m━━━━━━━━━━━━━━━━━━━━━━━━━━━━━━━━━━━━━━━━\u001b[0m \u001b[32m2.5/2.5 MB\u001b[0m \u001b[31m36.0 MB/s\u001b[0m eta \u001b[36m0:00:00\u001b[0m\n",
            "\u001b[2K   \u001b[90m━━━━━━━━━━━━━━━━━━━━━━━━━━━━━━━━━━━━━━━━\u001b[0m \u001b[32m386.3/386.3 kB\u001b[0m \u001b[31m18.2 MB/s\u001b[0m eta \u001b[36m0:00:00\u001b[0m\n",
            "\u001b[2K   \u001b[90m━━━━━━━━━━━━━━━━━━━━━━━━━━━━━━━━━━━━━━━━\u001b[0m \u001b[32m64.7/64.7 kB\u001b[0m \u001b[31m2.9 MB/s\u001b[0m eta \u001b[36m0:00:00\u001b[0m\n",
            "\u001b[2K   \u001b[90m━━━━━━━━━━━━━━━━━━━━━━━━━━━━━━━━━━━━━━━━\u001b[0m \u001b[32m50.9/50.9 kB\u001b[0m \u001b[31m3.8 MB/s\u001b[0m eta \u001b[36m0:00:00\u001b[0m\n",
            "\u001b[?25h\u001b[31mERROR: pip's dependency resolver does not currently take into account all the packages that are installed. This behaviour is the source of the following dependency conflicts.\n",
            "google-colab 1.0.0 requires requests==2.32.4, but you have requests 2.32.5 which is incompatible.\u001b[0m\u001b[31m\n",
            "\u001b[0m"
          ]
        }
      ],
      "source": [
        "!pip install -qU langchain-core langchain-openai langchain_huggingface langchain-community langsmith"
      ]
    },
    {
      "cell_type": "code",
      "execution_count": null,
      "metadata": {
        "colab": {
          "base_uri": "https://localhost:8080/"
        },
        "id": "B3DbSRut5KuD",
        "outputId": "6aa54535-45b1-49af-d453-2d40f3b802d6"
      },
      "outputs": [
        {
          "output_type": "stream",
          "name": "stdout",
          "text": [
            "\u001b[2K   \u001b[90m━━━━━━━━━━━━━━━━━━━━━━━━━━━━━━━━━━━━━━━━\u001b[0m \u001b[32m31.4/31.4 MB\u001b[0m \u001b[31m75.3 MB/s\u001b[0m eta \u001b[36m0:00:00\u001b[0m\n",
            "\u001b[?25h"
          ]
        }
      ],
      "source": [
        "!pip install -qU faiss-cpu"
      ]
    },
    {
      "cell_type": "code",
      "execution_count": null,
      "metadata": {
        "colab": {
          "base_uri": "https://localhost:8080/"
        },
        "id": "ydxLPVUP6BCM",
        "outputId": "b47275c8-2d4a-486a-c6af-b85452dc9946"
      },
      "outputs": [
        {
          "output_type": "stream",
          "name": "stdout",
          "text": [
            "\u001b[?25l     \u001b[90m━━━━━━━━━━━━━━━━━━━━━━━━━━━━━━━━━━━━━━━━\u001b[0m \u001b[32m0.0/43.7 kB\u001b[0m \u001b[31m?\u001b[0m eta \u001b[36m-:--:--\u001b[0m\r\u001b[2K     \u001b[90m━━━━━━━━━━━━━━━━━━━━━━━━━━━━━━━━━━━━━━━━\u001b[0m \u001b[32m43.7/43.7 kB\u001b[0m \u001b[31m4.0 MB/s\u001b[0m eta \u001b[36m0:00:00\u001b[0m\n",
            "\u001b[?25h\u001b[?25l   \u001b[90m━━━━━━━━━━━━━━━━━━━━━━━━━━━━━━━━━━━━━━━━\u001b[0m \u001b[32m0.0/153.3 kB\u001b[0m \u001b[31m?\u001b[0m eta \u001b[36m-:--:--\u001b[0m\r\u001b[2K   \u001b[90m━━━━━━━━━━━━━━━━━━━━━━━━━━━━━━━━━━━━━━━━\u001b[0m \u001b[32m153.3/153.3 kB\u001b[0m \u001b[31m15.9 MB/s\u001b[0m eta \u001b[36m0:00:00\u001b[0m\n",
            "\u001b[?25h\u001b[?25l   \u001b[90m━━━━━━━━━━━━━━━━━━━━━━━━━━━━━━━━━━━━━━━━\u001b[0m \u001b[32m0.0/43.9 kB\u001b[0m \u001b[31m?\u001b[0m eta \u001b[36m-:--:--\u001b[0m\r\u001b[2K   \u001b[90m━━━━━━━━━━━━━━━━━━━━━━━━━━━━━━━━━━━━━━━━\u001b[0m \u001b[32m43.9/43.9 kB\u001b[0m \u001b[31m4.2 MB/s\u001b[0m eta \u001b[36m0:00:00\u001b[0m\n",
            "\u001b[2K   \u001b[90m━━━━━━━━━━━━━━━━━━━━━━━━━━━━━━━━━━━━━━━━\u001b[0m \u001b[32m56.8/56.8 kB\u001b[0m \u001b[31m3.2 MB/s\u001b[0m eta \u001b[36m0:00:00\u001b[0m\n",
            "\u001b[2K   \u001b[90m━━━━━━━━━━━━━━━━━━━━━━━━━━━━━━━━━━━━━━━━\u001b[0m \u001b[32m216.7/216.7 kB\u001b[0m \u001b[31m17.2 MB/s\u001b[0m eta \u001b[36m0:00:00\u001b[0m\n",
            "\u001b[?25h"
          ]
        }
      ],
      "source": [
        "!pip install -qU langgraph"
      ]
    },
    {
      "cell_type": "code",
      "source": [
        "!pip install rank_bm25"
      ],
      "metadata": {
        "colab": {
          "base_uri": "https://localhost:8080/"
        },
        "id": "iEgna0SXe2Uk",
        "outputId": "374f589f-9cf0-40ab-93eb-8918078b2e33"
      },
      "execution_count": null,
      "outputs": [
        {
          "output_type": "stream",
          "name": "stdout",
          "text": [
            "Collecting rank_bm25\n",
            "  Downloading rank_bm25-0.2.2-py3-none-any.whl.metadata (3.2 kB)\n",
            "Requirement already satisfied: numpy in /usr/local/lib/python3.12/dist-packages (from rank_bm25) (2.0.2)\n",
            "Downloading rank_bm25-0.2.2-py3-none-any.whl (8.6 kB)\n",
            "Installing collected packages: rank_bm25\n",
            "Successfully installed rank_bm25-0.2.2\n"
          ]
        }
      ]
    },
    {
      "cell_type": "markdown",
      "metadata": {
        "id": "aUILJslQe5Uw"
      },
      "source": [
        "# imports"
      ]
    },
    {
      "cell_type": "code",
      "execution_count": null,
      "metadata": {
        "id": "7fXffXxbe8I_"
      },
      "outputs": [],
      "source": [
        "from typing import TypedDict, Annotated\n",
        "from langgraph.graph.message import add_messages\n",
        "import os\n",
        "from google.colab import userdata\n",
        "import os\n",
        "from langchain_openai import ChatOpenAI\n",
        "from langchain_huggingface import HuggingFaceEmbeddings\n",
        "from langchain.vectorstores import FAISS\n",
        "import faiss\n",
        "from langchain_community.docstore.in_memory import InMemoryDocstore\n",
        "from uuid import uuid4\n",
        "from langchain_community.document_loaders import WebBaseLoader\n",
        "from langchain_text_splitters import RecursiveCharacterTextSplitter\n",
        "from langchain.tools.retriever import create_retriever_tool\n",
        "from langgraph.graph import MessagesState\n",
        "from langchain.prompts import PromptTemplate\n",
        "from pydantic import BaseModel, Field\n",
        "from langchain_core.messages import HumanMessage\n",
        "from langchain_core.output_parsers import StrOutputParser\n",
        "from langchain import hub\n",
        "from langchain_core.messages import SystemMessage\n",
        "from langchain_openai import ChatOpenAI\n",
        "from langchain.agents import load_tools\n",
        "from langgraph.prebuilt import create_react_agent\n",
        "from langgraph.graph import START, END, StateGraph, MessagesState\n",
        "from langgraph.prebuilt import ToolNode, tools_condition\n",
        "from functools import partial\n",
        "from langgraph.checkpoint.memory import MemorySaver\n",
        "from langchain_core.messages import SystemMessage, HumanMessage, RemoveMessage , AIMessage\n",
        "from langchain.retrievers import BM25Retriever, EnsembleRetriever\n",
        "from IPython.display import Image, display,Markdown"
      ]
    },
    {
      "cell_type": "code",
      "execution_count": null,
      "metadata": {
        "id": "aVOtCtOVQEzW"
      },
      "outputs": [],
      "source": [
        "os.environ[\"GITHUB_TOKEN\"] = userdata.get(\"GITHUB_TOKEN\")"
      ]
    },
    {
      "cell_type": "code",
      "execution_count": null,
      "metadata": {
        "id": "E9tx_iuiy0ZA"
      },
      "outputs": [],
      "source": [
        "os.environ['SERPER_API_KEY'] = userdata.get('SERPER_API_KEY')"
      ]
    },
    {
      "cell_type": "code",
      "execution_count": null,
      "metadata": {
        "id": "IbwhZCyB3Z-e"
      },
      "outputs": [],
      "source": [
        "model = ChatOpenAI(\n",
        "    model=\"gpt-4o-mini\",\n",
        "    temperature=1,\n",
        "    max_tokens=4096,\n",
        "    openai_api_base=\"https://models.inference.ai.azure.com\",\n",
        "    api_key=os.getenv(\"GITHUB_TOKEN\"),\n",
        ")"
      ]
    },
    {
      "cell_type": "code",
      "execution_count": null,
      "metadata": {
        "id": "5DTfizyv3-iq",
        "colab": {
          "base_uri": "https://localhost:8080/",
          "height": 337,
          "referenced_widgets": [
            "3dc2d1c674a1414f8a6c09fbbf02f1df",
            "8dfcea0265c149f3878f5bf6de578045",
            "3096fdf6e8a54a9680c78649ac17180c",
            "642d53c2898c457f95c4cbd080c73422",
            "f244301444ba4f5886fdc94fd839712c",
            "6dd4667c3b4944e6bf275b3379060f89",
            "e9e29e6478464f8e93ec68d246299826",
            "54dec151227744bd863d5dc8f42a05b8",
            "7ad0b01f38a04b0ea094c447a88ee060",
            "bf442e1e0f9a43b3890f8c02300537e0",
            "0d0e5fe213d34dd0a686d647758b3218",
            "a426138fc87d479e99db3b0c2bf9fa38",
            "20cb7e53bb7c432d82f3f1a3c5f79b24",
            "9cdc005ada1c4d3c8a9491824f08c24e",
            "5f50e56194e048f19dab2cb2d87479f7",
            "d5c0eb6cb184477d95331ef897000ffe",
            "26a7123678424bf2a884b7f9e16cf59f",
            "392d1f9c1d7a475a804f01eb638133ed",
            "890009f4173740c5980e13545d28c260",
            "9c243691968946f4bfaab00447cecb2b",
            "6b89e96456174b9faa2a071ae8023311",
            "184c60615622487888b5ae2af5ad66df",
            "c014b675c6524bed90cd58b53fb63642",
            "1c3a97ae61304439ac209dd93f6ae3c8",
            "bfbd273a35f04af0ac2a1778672bf690",
            "d3493488451446aba825dc8977201a98",
            "ff0cbf645027448490953db4ece4c4c6",
            "3f67e248b9f348339571dd9d5eb05859",
            "996088e21e484de2a9b40acc82e72a10",
            "4aea2aa46476440286b2704f2202c8a4",
            "65b9c64793bf4619a88240a82469881e",
            "b7c0d710e409490a8fa47bef3c0b6622",
            "63915f4b4a524d4ca746f06daf666151",
            "641991b9914743b281a606f36f528bef",
            "de01cc25260f4644acabbf15c0147acf",
            "03e260b663c94db5a2bee7b6afef8164",
            "ded1170dade743809f90dee9c96cfcc4",
            "0059046388784d4bbc8a03c51c2b204e",
            "6e7314ad14df4624a5d834e657c1faef",
            "26a03bf680304f45b808ab700b985867",
            "69ebc9a3877248f8a88b7ba883a02a14",
            "6bff9911ea1d434194a05e0eef24a577",
            "68ae4cfff6c44be59c50569978e5593d",
            "33962d0dd2c34481b2f4edfa47e60752",
            "55d6175bfa8a4627b812a6fccbf47491",
            "f5fd29936ac045a5972e69a1fe3e7f05",
            "0668913dcc984fe5909ac27a6bbc9152",
            "58245e5ebe59484bb8717140f9f1ebf7",
            "7fc1edb24b2044a9ab95eab376fa7515",
            "fe71bed00c9b41f29c4b6027b9c1f1cf",
            "54b9c9ea2b494e5685841ec0eaccd2ae",
            "102de0207c8a4a668e85bd0b24322a7f",
            "360729a8fcdc4182ba1bda9f2a52486f",
            "53db6b4b77cd4a4cae44bbe411e13176",
            "236854b4f453424ca8040fca5cf2cd0f",
            "fd4f3c11a4a445a3b2fab6fa315b6e5d",
            "1acb1e981c9041b983068b4d32b22ee9",
            "59c713a8ad134c8dbd0f63de95bb8d9c",
            "7f1f5b0f510e45ddb5225df36803f83d",
            "e06954c3807743e2861ef0cd65871c33",
            "5ef38f7dcd064881b0334cf6eef37873",
            "a0a2eb4b87924b98841d711241fb1180",
            "02f4aa3be3d44e42aba6b5890f0560d5",
            "6c0c885b486c49b3830ffacfdd698415",
            "bea98f67cf984a19a444784273506105",
            "e8b261484d8347d69e7fbb378c5fa7be",
            "d75b2dcd888549f183a9cae83a86711a",
            "8565f5861d014c6ab42ea45e9c78fe95",
            "8db6dc812c664ef499aa7138c1571a4a",
            "45799691b21a4612863dc24cdecf5014",
            "442a1559158a48aca28e8dd91739dec1",
            "dac75c1d6a4344b489c71d7c34825f54",
            "3ae672446a8d4ec584ced06448ab495b",
            "a17fc30546ab44efbe539700a214ec75",
            "89c96f0a56cb4f62b97d7d7d3f316a38",
            "c7ced2f4e2f542f0988fe009c0f47cdb",
            "245fa94d12324dbe97dd56871d5ee7f9",
            "fb7eff797e964253b9a947ffa1f33787",
            "94fc2763245645eab03bf00d984d4dfe",
            "96f4d46245db4e4099b1595d630b3fde",
            "49b83f5a1a964ce4a2cb537ca2f4c629",
            "8b7245df6fd2465ab675a39870d898c0",
            "b454e6b16e52443e9a133b9be82829d3",
            "f26e3f7bcb9f44f0b231c075f1e9d68b",
            "f6e2cc498e0c493a991cdc40a590b169",
            "d29a7310c1db47209c58a2b8f3fee848",
            "28ffb7052792489fb943da082a391e49",
            "b24c5987cfc94c7ea004bb006755f33b",
            "975dc24274c949a9a4145e3fa76d1902",
            "00c51b44812a43a68a0c407d90857fd3",
            "e93b120a398b4423b3aa00f5c32276b9",
            "d322bf88093e404cab0710f0d081ac33",
            "72c5cef500d247b78448cb20a98c3448",
            "94da5371a7ec406f852f4ee9600d18aa",
            "954f31d95277415ab79831f19470db94",
            "5c9aa9d105fc4ace960d59fc78afdc97",
            "6ce6a8a678ed4945a17966a9af35975f",
            "6b8026fd9a984de1b145f5e3568b3817",
            "f1fd1fa049384425aea076956955568e",
            "6427f79b1c5f400bb1083e17751598f7",
            "9df722513d40475bb24596026e7886e2",
            "9da65765b12341e196f881f3462e6518",
            "23df36013deb429496caf9201277b03b",
            "17a1b4c4e75145c2a484794ff713de4c",
            "f0daf5c9ee3041b5b443f7dbafe1f0dc",
            "6f8b0fa90c134ebd87c020a24b705226",
            "9c97306b25fc4835a441f5a1e8e02c08",
            "2e84709743f24ee49163295759e97b6d",
            "de729d4570d74a57b96f257e64f93ed8",
            "5b2eac8abe864e1881192affda766405"
          ]
        },
        "outputId": "bbad340c-5f87-41ab-d38a-b3e3ca3866c1"
      },
      "outputs": [
        {
          "output_type": "display_data",
          "data": {
            "text/plain": [
              "modules.json:   0%|          | 0.00/229 [00:00<?, ?B/s]"
            ],
            "application/vnd.jupyter.widget-view+json": {
              "version_major": 2,
              "version_minor": 0,
              "model_id": "3dc2d1c674a1414f8a6c09fbbf02f1df"
            }
          },
          "metadata": {}
        },
        {
          "output_type": "display_data",
          "data": {
            "text/plain": [
              "config_sentence_transformers.json:   0%|          | 0.00/122 [00:00<?, ?B/s]"
            ],
            "application/vnd.jupyter.widget-view+json": {
              "version_major": 2,
              "version_minor": 0,
              "model_id": "a426138fc87d479e99db3b0c2bf9fa38"
            }
          },
          "metadata": {}
        },
        {
          "output_type": "display_data",
          "data": {
            "text/plain": [
              "README.md: 0.00B [00:00, ?B/s]"
            ],
            "application/vnd.jupyter.widget-view+json": {
              "version_major": 2,
              "version_minor": 0,
              "model_id": "c014b675c6524bed90cd58b53fb63642"
            }
          },
          "metadata": {}
        },
        {
          "output_type": "display_data",
          "data": {
            "text/plain": [
              "sentence_bert_config.json:   0%|          | 0.00/53.0 [00:00<?, ?B/s]"
            ],
            "application/vnd.jupyter.widget-view+json": {
              "version_major": 2,
              "version_minor": 0,
              "model_id": "641991b9914743b281a606f36f528bef"
            }
          },
          "metadata": {}
        },
        {
          "output_type": "display_data",
          "data": {
            "text/plain": [
              "config.json:   0%|          | 0.00/645 [00:00<?, ?B/s]"
            ],
            "application/vnd.jupyter.widget-view+json": {
              "version_major": 2,
              "version_minor": 0,
              "model_id": "55d6175bfa8a4627b812a6fccbf47491"
            }
          },
          "metadata": {}
        },
        {
          "output_type": "display_data",
          "data": {
            "text/plain": [
              "model.safetensors:   0%|          | 0.00/471M [00:00<?, ?B/s]"
            ],
            "application/vnd.jupyter.widget-view+json": {
              "version_major": 2,
              "version_minor": 0,
              "model_id": "fd4f3c11a4a445a3b2fab6fa315b6e5d"
            }
          },
          "metadata": {}
        },
        {
          "output_type": "display_data",
          "data": {
            "text/plain": [
              "tokenizer_config.json:   0%|          | 0.00/480 [00:00<?, ?B/s]"
            ],
            "application/vnd.jupyter.widget-view+json": {
              "version_major": 2,
              "version_minor": 0,
              "model_id": "d75b2dcd888549f183a9cae83a86711a"
            }
          },
          "metadata": {}
        },
        {
          "output_type": "display_data",
          "data": {
            "text/plain": [
              "tokenizer.json:   0%|          | 0.00/9.08M [00:00<?, ?B/s]"
            ],
            "application/vnd.jupyter.widget-view+json": {
              "version_major": 2,
              "version_minor": 0,
              "model_id": "fb7eff797e964253b9a947ffa1f33787"
            }
          },
          "metadata": {}
        },
        {
          "output_type": "display_data",
          "data": {
            "text/plain": [
              "special_tokens_map.json:   0%|          | 0.00/239 [00:00<?, ?B/s]"
            ],
            "application/vnd.jupyter.widget-view+json": {
              "version_major": 2,
              "version_minor": 0,
              "model_id": "975dc24274c949a9a4145e3fa76d1902"
            }
          },
          "metadata": {}
        },
        {
          "output_type": "display_data",
          "data": {
            "text/plain": [
              "config.json:   0%|          | 0.00/190 [00:00<?, ?B/s]"
            ],
            "application/vnd.jupyter.widget-view+json": {
              "version_major": 2,
              "version_minor": 0,
              "model_id": "6427f79b1c5f400bb1083e17751598f7"
            }
          },
          "metadata": {}
        }
      ],
      "source": [
        "model_name = \"sentence-transformers/paraphrase-multilingual-MiniLM-L12-v2\"\n",
        "\n",
        "embedding_llm = HuggingFaceEmbeddings(model_name=model_name)"
      ]
    },
    {
      "cell_type": "code",
      "execution_count": null,
      "metadata": {
        "id": "k7kU-vyfP1-o"
      },
      "outputs": [],
      "source": [
        "embedding_dim = len(embedding_llm.embed_query(\"hello world\"))\n",
        "index = faiss.IndexFlatL2(embedding_dim)\n",
        "\n",
        "vector_store = FAISS(\n",
        "    embedding_function=embedding_llm,\n",
        "    index=index,\n",
        "    docstore=InMemoryDocstore(),\n",
        "    index_to_docstore_id={},\n",
        ")"
      ]
    },
    {
      "cell_type": "code",
      "execution_count": null,
      "metadata": {
        "id": "8gnYx3F6w2nY"
      },
      "outputs": [],
      "source": [
        "def add_documents_to_vdb(url, vector_store):\n",
        "    try:\n",
        "        docs = WebBaseLoader(url).load()\n",
        "        text_splitter = RecursiveCharacterTextSplitter.from_tiktoken_encoder(\n",
        "            chunk_size=100, chunk_overlap=50\n",
        "        )\n",
        "        doc_chunks = text_splitter.split_documents(docs)\n",
        "        uuids = [str(uuid4()) for _ in range(len(doc_chunks))]\n",
        "        vector_store.add_documents(documents=doc_chunks, ids=uuids)\n",
        "        dense_retriever = vector_store.as_retriever(k=5)\n",
        "        bm25_retriever = BM25Retriever.from_documents(doc_chunks)\n",
        "        bm25_retriever.k = 8\n",
        "        hybrid_retriever = EnsembleRetriever(\n",
        "            retrievers=[bm25_retriever, dense_retriever],\n",
        "            weights=[0.4, 0.6]\n",
        "        )\n",
        "        return hybrid_retriever\n",
        "    except Exception as e:\n",
        "        print(f\"Error adding documents: {str(e)}\")\n",
        "        return False"
      ]
    },
    {
      "cell_type": "code",
      "source": [
        "url = [\"https://lilianweng.github.io/posts/2023-06-23-agent/\",\n",
        "       \"https://lilianweng.github.io/posts/2025-05-01-thinking/\",\n",
        "       \"https://lilianweng.github.io/posts/2024-07-07-hallucination/\"\n",
        "       ]"
      ],
      "metadata": {
        "id": "zGlBqCRedfOx"
      },
      "execution_count": null,
      "outputs": []
    },
    {
      "cell_type": "code",
      "execution_count": null,
      "metadata": {
        "id": "URudazxPSmP2"
      },
      "outputs": [],
      "source": [
        "hybrid_retriever = add_documents_to_vdb(url, vector_store)\n",
        "retriever_tool = create_retriever_tool(\n",
        "        hybrid_retriever,\n",
        "        \"retrieve_blog_posts\",\n",
        "        \"Search and return information about blog posts on LLMs, LLM agents, prompt engineering, and adversarial attacks on LLMs.\",\n",
        "    )"
      ]
    },
    {
      "cell_type": "code",
      "execution_count": null,
      "metadata": {
        "id": "ERXgbV34xtEX"
      },
      "outputs": [],
      "source": [
        "tools = [retriever_tool]"
      ]
    },
    {
      "cell_type": "code",
      "execution_count": null,
      "metadata": {
        "id": "CT2QjhPQx5wt",
        "colab": {
          "base_uri": "https://localhost:8080/"
        },
        "outputId": "65ebff5a-9613-48f7-b3d3-b622ba118475"
      },
      "outputs": [
        {
          "output_type": "execute_result",
          "data": {
            "text/plain": [
              "EnsembleRetriever(retrievers=[BM25Retriever(vectorizer=<rank_bm25.BM25Okapi object at 0x7bb7f5575820>, k=8), VectorStoreRetriever(tags=['FAISS', 'HuggingFaceEmbeddings'], vectorstore=<langchain_community.vectorstores.faiss.FAISS object at 0x7bb817017110>, search_kwargs={})], weights=[0.4, 0.6])"
            ]
          },
          "metadata": {},
          "execution_count": 19
        }
      ],
      "source": [
        "add_documents_to_vdb(url, vector_store)"
      ]
    },
    {
      "cell_type": "code",
      "execution_count": null,
      "metadata": {
        "id": "SY42sXojyKC8"
      },
      "outputs": [],
      "source": [
        "retrieved_chunks = hybrid_retriever.get_relevant_documents(\"What's Agent System Overview?\")"
      ]
    },
    {
      "cell_type": "code",
      "execution_count": null,
      "metadata": {
        "id": "rgN-YmcB5qaV",
        "colab": {
          "base_uri": "https://localhost:8080/",
          "height": 36
        },
        "outputId": "5b4a7e48-ac81-4695-b538-aec1b84f766a"
      },
      "outputs": [
        {
          "output_type": "execute_result",
          "data": {
            "text/plain": [
              "'Agent System Overview#\\nIn a LLM-powered autonomous agent system, LLM functions as the agent’s brain, complemented by several key components:'"
            ],
            "application/vnd.google.colaboratory.intrinsic+json": {
              "type": "string"
            }
          },
          "metadata": {},
          "execution_count": 22
        }
      ],
      "source": [
        "retrieved_chunks[0].page_content\n"
      ]
    },
    {
      "cell_type": "code",
      "execution_count": null,
      "metadata": {
        "id": "nZnZTlQIddAr"
      },
      "outputs": [],
      "source": [
        "class CustomState(TypedDict):\n",
        "    messages: Annotated[list, add_messages]\n",
        "    rewrite_count: int\n",
        "    summary: str"
      ]
    },
    {
      "cell_type": "code",
      "execution_count": null,
      "metadata": {
        "id": "R0AigvErVWw9"
      },
      "outputs": [],
      "source": [
        "def grade_documents(state):\n",
        "    \"\"\"\n",
        "    Determines whether the retrieved documents are relevant to the question.\n",
        "\n",
        "    Args:\n",
        "        state (messages): The current state\n",
        "\n",
        "    Returns:\n",
        "        str: A decision for whether the documents are relevant or not\n",
        "    \"\"\"\n",
        "\n",
        "    print(\"---CHECK RELEVANCE---\")\n",
        "\n",
        "    # Data model\n",
        "    class grade(BaseModel):\n",
        "        \"\"\"Binary score for relevance check.\"\"\"\n",
        "\n",
        "        binary_score: str = Field(description=\"Relevance score 'yes' or 'no'\")\n",
        "\n",
        "    # LLM\n",
        "    model = ChatOpenAI(model=\"gpt-4o-mini\",openai_api_base=\"https://models.inference.ai.azure.com\",api_key=os.getenv(\"GITHUB_TOKEN\"),)\n",
        "\n",
        "    # LLM with tool and validation\n",
        "    llm_with_tool = model.with_structured_output(grade)\n",
        "\n",
        "    # Prompt\n",
        "    prompt = PromptTemplate(\n",
        "        template=\"\"\"You are a helpful assistant that checks if documents match user questions. \\n\n",
        "                  Here is the document: \\n\\n {context} \\n\\n\n",
        "                  Here is the user question: {question} \\n\n",
        "                  Does this document help answer the question? \\n\n",
        "                  Reply with 'yes' if it helps answer the question, or 'no' if it does not help.\"\"\",\n",
        "        input_variables=[\"context\", \"question\"],\n",
        "    )\n",
        "\n",
        "    # Chain\n",
        "    chain = prompt | llm_with_tool\n",
        "\n",
        "    messages = state[\"messages\"]\n",
        "    last_message = messages[-1]\n",
        "\n",
        "    # CHANGED: Find the last human question instead of always using messages[0]\n",
        "    question = None\n",
        "    for msg in reversed(messages):\n",
        "        if isinstance(msg, HumanMessage):\n",
        "            question = msg.content\n",
        "            break\n",
        "    if question is None:\n",
        "        question = messages[0].content  # fallback to original logic\n",
        "\n",
        "    docs = last_message.content\n",
        "    current_count = state.get(\"rewrite_count\", 0)\n",
        "\n",
        "    scored_result = chain.invoke({\"question\": question, \"context\": docs})\n",
        "\n",
        "    score = scored_result.binary_score\n",
        "\n",
        "    if score == \"yes\":\n",
        "        print(\"---DECISION: DOCS RELEVANT---\")\n",
        "        return \"generate\"\n",
        "\n",
        "    elif score == \"no\":\n",
        "        if current_count >= 3:\n",
        "            print(f\"---DECISION: MAX REWRITES REACHED ({current_count}), GOING TO GOOGLE---\")\n",
        "            return \"search_google\"\n",
        "        else:\n",
        "            print(f\"---DECISION: DOCS NOT RELEVANT, REWRITE ATTEMPT {current_count + 1}---\")\n",
        "            return \"rewrite\""
      ]
    },
    {
      "cell_type": "code",
      "execution_count": null,
      "metadata": {
        "id": "jPyli7FAvNxG"
      },
      "outputs": [],
      "source": [
        "def agent(state, tools):\n",
        "    \"\"\"\n",
        "    Invokes the agent model to generate a response based on the current state. Given\n",
        "    the question, it will decide to retrieve using the retriever tool, or simply end.\n",
        "\n",
        "    Args:\n",
        "        state (messages): The current state\n",
        "\n",
        "    Returns:\n",
        "        dict: The updated state with the agent response appended to messages\n",
        "    \"\"\"\n",
        "    summary = state.get(\"summary\", \"\")\n",
        "    messages = state[\"messages\"]\n",
        "    if summary:\n",
        "        system_message = f\"\"\"Summary of conversation earlier: {summary}\n",
        "\n",
        "      NOTE: If the user asks about previous questions or conversation history, answer directly from this summary. For technical questions, use the retriever tool.\"\"\"\n",
        "\n",
        "\n",
        "        messages = [SystemMessage(content=system_message)] + state[\"messages\"]\n",
        "\n",
        "    else:\n",
        "        messages = state[\"messages\"]\n",
        "\n",
        "    print(\"---CALL AGENT---\")\n",
        "    model = ChatOpenAI(model=\"gpt-4o-mini\",openai_api_base=\"https://models.inference.ai.azure.com\",api_key=os.getenv(\"GITHUB_TOKEN\"),)\n",
        "    model = model.bind_tools(tools)\n",
        "    response = model.invoke(messages)\n",
        "\n",
        "    return {\"messages\": [response]}"
      ]
    },
    {
      "cell_type": "code",
      "execution_count": null,
      "metadata": {
        "id": "VKYreIDvvcY7"
      },
      "outputs": [],
      "source": [
        "def rewrite(state):\n",
        "    \"\"\"\n",
        "    Transform the query to produce a better question.\n",
        "\n",
        "    Args:\n",
        "        state (messages): The current state\n",
        "\n",
        "    Returns:\n",
        "        dict: The updated state with re-phrased question\n",
        "    \"\"\"\n",
        "\n",
        "    print(\"---TRANSFORM QUERY---\")\n",
        "    messages = state[\"messages\"]\n",
        "\n",
        "    question = None\n",
        "    for msg in reversed(messages):\n",
        "        if isinstance(msg, HumanMessage):\n",
        "            question = msg.content\n",
        "            break\n",
        "    if question is None:\n",
        "        question = messages[0].content\n",
        "\n",
        "    current_count = state.get(\"rewrite_count\", 0)\n",
        "    new_count = current_count + 1\n",
        "    print(f\"---REWRITE ATTEMPT: {new_count}---\")\n",
        "\n",
        "    msg = [\n",
        "        HumanMessage(\n",
        "            content=f\"\"\" \\n\n",
        "                    Look at the input and try to reason about the underlying semantic intent / meaning. \\n\n",
        "                    Here is the initial question:\n",
        "                    \\n ------- \\n\n",
        "                    {question}\n",
        "                    \\n ------- \\n\n",
        "                    Formulate an improved question: \"\"\",\n",
        "        )\n",
        "    ]\n",
        "\n",
        "    model = ChatOpenAI(model=\"gpt-4o-mini\",openai_api_base=\"https://models.inference.ai.azure.com\",api_key=os.getenv(\"GITHUB_TOKEN\"),)\n",
        "    response = model.invoke(msg)\n",
        "    return {\n",
        "        \"messages\": [response],\n",
        "        \"rewrite_count\": new_count\n",
        "    }"
      ]
    },
    {
      "cell_type": "code",
      "execution_count": null,
      "metadata": {
        "id": "kWHvP4KUvr2P"
      },
      "outputs": [],
      "source": [
        "def generate(state):\n",
        "    \"\"\"\n",
        "    Generate answer\n",
        "\n",
        "    Args:\n",
        "        state (messages): The current state\n",
        "\n",
        "    Returns:\n",
        "         dict: The updated state with re-phrased question\n",
        "    \"\"\"\n",
        "    print(\"---GENERATE---\")\n",
        "    messages = state[\"messages\"]\n",
        "\n",
        "    # MAIN FIX: Find the last human question instead of always using messages[0]\n",
        "    question = None\n",
        "    for msg in reversed(messages):\n",
        "        if hasattr(msg, 'content') and isinstance(msg, HumanMessage):\n",
        "            question = msg.content\n",
        "            break\n",
        "\n",
        "    if question is None:\n",
        "        question = messages[0].content  # fallback to original logic\n",
        "\n",
        "    last_message = messages[-1]\n",
        "    docs = last_message.content\n",
        "\n",
        "    # Initialize a Chat Prompt Template\n",
        "    prompt_template = hub.pull(\"rlm/rag-prompt\")\n",
        "\n",
        "    # Initialize a Generator (i.e. Chat Model)\n",
        "    chat_model = ChatOpenAI(model=\"gpt-4o-mini\",openai_api_base=\"https://models.inference.ai.azure.com\",api_key=os.getenv(\"GITHUB_TOKEN\"),)\n",
        "\n",
        "    # Initialize a Output Parser\n",
        "    output_parser = StrOutputParser()\n",
        "\n",
        "    # RAG Chain\n",
        "    rag_chain = prompt_template | chat_model | output_parser\n",
        "\n",
        "    response = rag_chain.invoke({\"context\": docs, \"question\": question})\n",
        "\n",
        "    return {\"messages\": [AIMessage(content=response)]}"
      ]
    },
    {
      "cell_type": "code",
      "execution_count": null,
      "metadata": {
        "id": "o2MWs0skw9cd"
      },
      "outputs": [],
      "source": [
        "def search_google(state):\n",
        "    \"\"\"\n",
        "    Search Google using the query stored in state[\"message\"].\n",
        "    Useful for searching recent or factual information from Google.\n",
        "    \"\"\"\n",
        "    print(\"---SEARCH GOOGLE---\")\n",
        "    messages = state[\"messages\"]\n",
        "    query = messages[0].content\n",
        "    tools = load_tools([\"google-serper\"])\n",
        "    llm = ChatOpenAI(model=\"gpt-4o-mini\",openai_api_base=\"https://models.inference.ai.azure.com\",api_key=os.getenv(\"GITHUB_TOKEN\"))\n",
        "    agent = create_react_agent(llm, tools)\n",
        "    response = agent.invoke({\"messages\": [(\"human\", query)]})\n",
        "    final_answer = response[\"messages\"][-1].content\n",
        "    return {\n",
        "        \"messages\": [AIMessage(content=final_answer)],\n",
        "        \"rewrite_count\": 0\n",
        "    }"
      ]
    },
    {
      "cell_type": "code",
      "execution_count": null,
      "metadata": {
        "id": "imA_a5JMNM1H"
      },
      "outputs": [],
      "source": [
        "def summarize_conversation(state):\n",
        "\n",
        "    print(\"---start SUMMARIZE---\")\n",
        "\n",
        "\n",
        "    summary = state.get(\"summary\", \"\")\n",
        "\n",
        "\n",
        "    if summary:\n",
        "\n",
        "\n",
        "        summary_message = (\n",
        "            f\"This is summary of the conversation to date: {summary}\\n\\n\"\n",
        "            \"Extend the summary by taking into account the new messages above:\"\n",
        "        )\n",
        "\n",
        "    else:\n",
        "        summary_message = \"Create a summary of the conversation above:\"\n",
        "\n",
        "\n",
        "    messages = state[\"messages\"] + [HumanMessage(content=summary_message)]\n",
        "    response = model.invoke(messages)\n",
        "\n",
        "\n",
        "    delete_messages = [RemoveMessage(id=m.id) for m in state[\"messages\"][:-4]]\n",
        "    return {\"summary\": response.content, \"messages\": delete_messages}"
      ]
    },
    {
      "cell_type": "code",
      "execution_count": null,
      "metadata": {
        "id": "Bd3FVhM3Njzf"
      },
      "outputs": [],
      "source": [
        "def should_summarize(state):\n",
        "    \"\"\"\n",
        "    Always return 'summarize' to ensure we always summarize at the end\n",
        "    This function can be used if you want conditional summarization logic\n",
        "    \"\"\"\n",
        "    print(\"---DECISION: PROCEEDING TO FINAL SUMMARIZATION---\")\n",
        "\n",
        "    \"\"\"Return the next node to execute.\"\"\"\n",
        "\n",
        "    messages = state[\"messages\"]\n",
        "\n",
        "\n",
        "    if len(messages) > 10:\n",
        "        return True\n",
        "\n",
        "    return False"
      ]
    },
    {
      "cell_type": "code",
      "execution_count": null,
      "metadata": {
        "id": "JgykXt7cv_TB"
      },
      "outputs": [],
      "source": [
        "def get_graph(retriever_tool):\n",
        "    tools = [retriever_tool]  # Create tools list here\n",
        "\n",
        "    # Define a new graph\n",
        "    workflow = StateGraph(CustomState)\n",
        "\n",
        "    # Use partial to pass tools to the agent function\n",
        "    workflow.add_node(\"agent\", partial(agent, tools=tools))\n",
        "\n",
        "    # Rest of the graph setup remains the same\n",
        "    retrieve = ToolNode(tools)\n",
        "    workflow.add_node(\"retrieve\", retrieve)\n",
        "    workflow.add_node(\"search_google\", search_google)\n",
        "    workflow.add_node(\"rewrite\", rewrite)\n",
        "    workflow.add_node(\"summarize\", summarize_conversation)\n",
        "    workflow.add_node(\"generate\", generate)\n",
        "    workflow.add_edge(START, \"agent\")\n",
        "\n",
        "    # Decide whether to retrieve\n",
        "    workflow.add_conditional_edges(\n",
        "        \"agent\",\n",
        "        # Assess agent decision\n",
        "        tools_condition,\n",
        "        {\n",
        "            \"tools\": \"retrieve\",\n",
        "            END: END,\n",
        "        },\n",
        "    )\n",
        "\n",
        "    # Edges taken after the `action` node is called.\n",
        "    workflow.add_conditional_edges(\n",
        "        \"retrieve\",\n",
        "        # Assess agent decision\n",
        "        grade_documents,\n",
        "        {\n",
        "        \"rewrite\": \"rewrite\",\n",
        "        \"generate\": \"generate\",\n",
        "        \"search_google\": \"search_google\",\n",
        "    },\n",
        "    )\n",
        "\n",
        "    workflow.add_conditional_edges(\n",
        "        \"generate\",\n",
        "        # Assess agent decision\n",
        "        should_summarize,\n",
        "        {\n",
        "            True: \"summarize\",\n",
        "            False: END,\n",
        "        },\n",
        "    )\n",
        "\n",
        "    workflow.add_edge(\"search_google\", \"generate\")\n",
        "    workflow.add_edge(\"summarize\", END)\n",
        "    workflow.add_edge(\"rewrite\", \"agent\")\n",
        "\n",
        "\n",
        "\n",
        "    # Compile\n",
        "    within_thread_memory = MemorySaver()\n",
        "    graph = workflow.compile(checkpointer=within_thread_memory)\n",
        "\n",
        "    return graph"
      ]
    },
    {
      "cell_type": "code",
      "execution_count": null,
      "metadata": {
        "id": "dG9dEiliwa-9"
      },
      "outputs": [],
      "source": [
        "graph = get_graph(retriever_tool)"
      ]
    },
    {
      "cell_type": "code",
      "execution_count": null,
      "metadata": {
        "id": "GsKA9SWDyfDY",
        "colab": {
          "base_uri": "https://localhost:8080/",
          "height": 695
        },
        "outputId": "de9f2fe1-1b3d-430f-e852-3754390e254a"
      },
      "outputs": [
        {
          "output_type": "execute_result",
          "data": {
            "text/plain": [
              "<langgraph.graph.state.CompiledStateGraph object at 0x7bb77c239f10>"
            ],
            "image/png": "[encoded data removed]"
          },
          "metadata": {},
          "execution_count": 33
        }
      ],
      "source": [
        "graph"
      ]
    },
    {
      "cell_type": "code",
      "source": [
        "def equations(query):\n",
        "inputs = {\"messages\": [HumanMessage(content=query)],\n",
        "          \"rewrite_count\": 0}\n",
        "config = {\"configurable\": {\"thread_id\": \"1\"}}\n",
        "output = graph.invoke(inputs,config)\n",
        "return output['messages'][-1].content"
      ],
      "metadata": {
        "id": "9zmz9XA7Vgzf"
      },
      "execution_count": null,
      "outputs": []
    },
    {
      "cell_type": "code",
      "execution_count": null,
      "metadata": {
        "id": "TB-OUg7oygBP"
      },
      "outputs": [],
      "source": [
        "query = \"What is GPT-5 architecture?\"\n",
        "inputs = {\"messages\": [HumanMessage(content=query)],\n",
        "          \"rewrite_count\": 0}"
      ]
    },
    {
      "cell_type": "code",
      "execution_count": null,
      "metadata": {
        "colab": {
          "base_uri": "https://localhost:8080/"
        },
        "id": "IaDVuIezzgwl",
        "outputId": "c3e4c995-8897-4a26-deb1-6f1ef9c64515"
      },
      "outputs": [
        {
          "output_type": "stream",
          "name": "stdout",
          "text": [
            "---CALL AGENT---\n",
            "---CHECK RELEVANCE---\n",
            "---DECISION: DOCS NOT RELEVANT, REWRITE ATTEMPT 1---\n",
            "---TRANSFORM QUERY---\n",
            "---REWRITE ATTEMPT: 1---\n",
            "---CALL AGENT---\n",
            "---CHECK RELEVANCE---\n",
            "---DECISION: DOCS NOT RELEVANT, REWRITE ATTEMPT 2---\n",
            "---TRANSFORM QUERY---\n",
            "---REWRITE ATTEMPT: 2---\n",
            "---CALL AGENT---\n",
            "---CHECK RELEVANCE---\n",
            "---DECISION: DOCS NOT RELEVANT, REWRITE ATTEMPT 3---\n",
            "---TRANSFORM QUERY---\n",
            "---REWRITE ATTEMPT: 3---\n",
            "---CALL AGENT---\n",
            "---CHECK RELEVANCE---\n",
            "---DECISION: MAX REWRITES REACHED (3), GOING TO GOOGLE---\n",
            "---SEARCH GOOGLE---\n",
            "---GENERATE---\n",
            "---DECISION: PROCEEDING TO FINAL SUMMARIZATION---\n",
            "---start SUMMARIZE---\n"
          ]
        }
      ],
      "source": [
        "config = {\"configurable\": {\"thread_id\": \"1\"}}\n",
        "output = graph.invoke(inputs,config)"
      ]
    },
    {
      "cell_type": "code",
      "execution_count": null,
      "metadata": {
        "colab": {
          "base_uri": "https://localhost:8080/"
        },
        "id": "ov8FR4T-3Y2s",
        "outputId": "e63a9fe9-2548-4aad-87e4-d2257601f53c"
      },
      "outputs": [
        {
          "output_type": "stream",
          "name": "stdout",
          "text": [
            "AIMessage(content='', additional_kwargs={'tool_calls': [{'id': 'call_s4SCsaYc1N0xEEZYzIPgAmf3', 'function': {'arguments': '{\"query\":\"GPT-5 enhancements features improvements\"}', 'name': 'retrieve_blog_posts'}, 'type': 'function'}], 'refusal': None}, response_metadata={'token_usage': {'completion_tokens': 21, 'prompt_tokens': 2388, 'total_tokens': 2409, 'completion_tokens_details': {'accepted_prediction_tokens': 0, 'audio_tokens': 0, 'reasoning_tokens': 0, 'rejected_prediction_tokens': 0}, 'prompt_tokens_details': {'audio_tokens': 0, 'cached_tokens': 1408}}, 'model_name': 'gpt-4o-mini-2024-07-18', 'system_fingerprint': 'fp_efad92c60b', 'id': 'chatcmpl-CJvGjM1VSa8fUTRb7CN6EwW7QodLF', 'service_tier': None, 'finish_reason': 'tool_calls', 'logprobs': None}, id='run--1f7a65fa-f77b-4ed2-881b-07f097c63c7e-0', tool_calls=[{'name': 'retrieve_blog_posts', 'args': {'query': 'GPT-5 enhancements features improvements'}, 'id': 'call_s4SCsaYc1N0xEEZYzIPgAmf3', 'type': 'tool_call'}], usage_metadata={'input_tokens': 2388, 'output_tokens': 21, 'total_tokens': 2409, 'input_token_details': {'audio': 0, 'cache_read': 1408}, 'output_token_details': {'audio': 0, 'reasoning': 0}})\n",
            "ToolMessage(content='One interesting observation is that while the LLM-based evaluation concluded that GPT-4 and ChemCrow perform nearly equivalently, human evaluations with experts oriented towards the completion and chemical correctness of the solutions showed that ChemCrow outperforms GPT-4 by a large margin. This indicates a potential problem with using LLM to evaluate its own performance on domains that requires deep expertise. The lack of expertise may cause LLMs not knowing its flaws and thus cannot well judge the correctness of task\\n\\nThe accuracy of instruct-GPT series models of different sizes (left to right, small to large). Larger model doing better on binary classification of answerable and unanswerable questions in SelfAware eval. (Image source: Yin et al. 2023)\\n\\nTest time compute (Graves et al. 2016, Ling, et al. 2017, Cobbe et al. 2021) and Chain-of-thought (CoT) (Wei et al. 2022, Nye et al. 2021), have led to significant improvements in model performance, while raising many research questions. This post aims to review recent developments in how to effectively use test-time compute (i.e. “thinking time”) and why it helps.\\n\\nThe latent variable perspective is particularly useful for understanding methods that involve collecting multiple parallel CoTs or searching over the CoT–these algorithms can be seen as sampling from the posterior $P(z \\\\mid x, y)$. This view also suggests the benefits of using the log loss $\\\\log P(y \\\\mid x)$ as the target objective to optimize, as the log loss objective has been so effective in pretraining.\\nThinking in Tokens#\\n\\nthe distribution over math problems and solutions by letting $x$ denote a problem statement, $y$ be ground truth answer or proof, and $z$ as a free-form thought process that leads to the proof. The marginal probability distribution to optimize would be $P(y \\\\mid x) = \\\\sum_{z \\\\sim p(z\\\\mid x)} P(y \\\\mid x, z)$\\n\\nover the possible values of the latent variable allows us to express a rich distribution over the visible variables, $P(y) = \\\\sum_{z \\\\sim P(z)} P(y \\\\mid z)$. For example, we can model the distribution over math problems and solutions by letting $x$ denote a problem statement, $y$ be ground truth answer or proof, and $z$ as a free-form thought process that leads to the proof. The marginal probability distribution to optimize\\n\\nA classic idea in machine learning is to define a probabilistic model with a latent (hidden) variable $z$ and a visible variable $y$, where $y$ is given to our learning algorithm. Marginalizing (summing) over the possible values of the latent variable allows us to express a rich distribution over the visible variables, $P(y) = \\\\sum_{z \\\\sim P(z)} P(y \\\\mid z)$. For example, we can model\\n\\nOn the other hand, CoT enables the model to perform far more flops of computation for each token of the answer that it is trying to compute. In fact, CoT has a nice property that it allows the model to use a variable amount of compute depending on the hardness of the problem.\\nLatent Variable Modeling#\\n\\nIn Transformer models, the amount of computation (flops) that the model does for each generated token is roughly 2 times the number of parameters. For sparse models like mixture of experts (MoE), only a fraction of the parameters are used in each forward pass, so computation = 2 * parameters / sparsity, where sparsity is the fraction of experts active.\\n\\nthese resources–they’ll figure out how to organize these resources into circuits for calculation and information storage. From this view, if we design an architecture or system that can do more computation at test time, and we train it to effectively use this resource, it’ll work better.', name='retrieve_blog_posts', id='fce06251-5159-49a0-8b9e-ee2ebf7cb055', tool_call_id='call_s4SCsaYc1N0xEEZYzIPgAmf3')\n",
            "AIMessage(content='GPT-5 is a multimodal large language model developed by OpenAI and represents the fifth iteration in the generative pre-trained transformer series. Its architecture is described as a unified system that intelligently routes user requests and enhances performance in various critical domains.\\n\\nKey features of GPT-5\\'s architecture include:\\n\\n1. **Unified Architecture**: GPT-5 employs a design that allows it to handle a wider range of tasks by integrating different models, making it smarter and more efficient in responding to user queries.\\n\\n2. **Enhanced Reasoning and Instruction Following**: The model includes improvements in reasoning capabilities and is better at following complex instructions, making it particularly effective for challenging tasks.\\n\\n3. **Multimodal Capabilities**: GPT-5 can process and understand multiple types of input, including text and potentially other forms such as voice, enhancing its versatility.\\n\\n4. **Router Mechanism**: GPT-5 utilizes a \"router\" that directs requests to specialized \"expert\" subnetworks. This aspect of its architecture allows it to optimize responses based on the specific query, rather than relying on a single monolithic model.\\n\\n5. **Targeted Development**: The project, code-named Orion, has been under development for over 18 months and aims to significantly improve collaboration on complex projects, such as front-end generation and debugging of larger code repositories.\\n\\nTogether, these features mark a significant leap forward in the capabilities of generative pre-trained transformer models, particularly in terms of scalability and performance across various languages and tasks.', additional_kwargs={}, response_metadata={}, id='4c3d8c90-3c5c-455a-b6c8-0f897adaac88')\n",
            "AIMessage(content='GPT-5 is a multimodal large language model developed by OpenAI, characterized by its unified architecture that intelligently routes user requests and enhances performance across various tasks. It features improved reasoning capabilities, better instruction following, and a router mechanism that directs queries to specialized subnetworks for optimized responses. Additionally, GPT-5 can process multiple input types, such as text and voice, enhancing its versatility.', additional_kwargs={}, response_metadata={}, id='b960dc00-361c-4f9e-8189-a6943d7b1e98')\n"
          ]
        }
      ],
      "source": [
        "from pprint import pprint\n",
        "for m in output['messages']:\n",
        "  pprint(m)"
      ]
    },
    {
      "cell_type": "code",
      "execution_count": null,
      "metadata": {
        "colab": {
          "base_uri": "https://localhost:8080/",
          "height": 70
        },
        "id": "zAhlIBcbOAPU",
        "outputId": "3a277ad7-eb82-45ec-e609-5af2ab74a8b3"
      },
      "outputs": [
        {
          "output_type": "execute_result",
          "data": {
            "text/plain": [
              "'GPT-5 is a multimodal large language model developed by OpenAI, characterized by its unified architecture that intelligently routes user requests and enhances performance across various tasks. It features improved reasoning capabilities, better instruction following, and a router mechanism that directs queries to specialized subnetworks for optimized responses. Additionally, GPT-5 can process multiple input types, such as text and voice, enhancing its versatility.'"
            ],
            "application/vnd.google.colaboratory.intrinsic+json": {
              "type": "string"
            }
          },
          "metadata": {},
          "execution_count": 37
        }
      ],
      "source": [
        "output['messages'][-1].content"
      ]
    },
    {
      "cell_type": "code",
      "source": [
        "graph.get_state(config).values.get(\"summary\",\"\")"
      ],
      "metadata": {
        "colab": {
          "base_uri": "https://localhost:8080/",
          "height": 88
        },
        "id": "DPMDM3euIgDk",
        "outputId": "ab9376c5-51cb-46fe-9110-888600e80ab5"
      },
      "execution_count": null,
      "outputs": [
        {
          "output_type": "execute_result",
          "data": {
            "text/plain": [
              "'In the conversation, the user inquired about the architecture and advancements of GPT-5 compared to its predecessors. The assistant provided an overview of GPT-5 as a multimodal large language model developed by OpenAI. Key features highlighted include its unified architecture that allows for intelligent routing of user requests, enhanced reasoning and instruction following capabilities, multimodal processing (text and voice), a router mechanism for optimized responses through specialized subnetworks, and targeted development aimed at improving collaboration on complex projects. Overall, these advancements represent a significant leap in the capabilities of generative pre-trained transformer models.'"
            ],
            "application/vnd.google.colaboratory.intrinsic+json": {
              "type": "string"
            }
          },
          "metadata": {},
          "execution_count": 38
        }
      ]
    },
    {
      "cell_type": "code",
      "execution_count": null,
      "metadata": {
        "colab": {
          "base_uri": "https://localhost:8080/"
        },
        "id": "Xvj6zAXAPHuY",
        "outputId": "495b2099-e9f2-4425-9d3e-34386d2705ff"
      },
      "outputs": [
        {
          "output_type": "stream",
          "name": "stdout",
          "text": [
            "---CALL AGENT---\n",
            "---CHECK RELEVANCE---\n",
            "---DECISION: DOCS RELEVANT---\n",
            "---GENERATE---\n",
            "---DECISION: PROCEEDING TO FINAL SUMMARIZATION---\n"
          ]
        }
      ],
      "source": [
        "query = \"What's Agent System Overview?\"\n",
        "inputs = {\"messages\": [HumanMessage(content=query)],\n",
        "          \"rewrite_count\": 0}\n",
        "output = graph.invoke(inputs,config)"
      ]
    },
    {
      "cell_type": "code",
      "execution_count": null,
      "metadata": {
        "colab": {
          "base_uri": "https://localhost:8080/"
        },
        "id": "CQJ-1be9zCZW",
        "outputId": "4fa97365-3c50-47c6-9f24-aa4170af2aec"
      },
      "outputs": [
        {
          "output_type": "stream",
          "name": "stdout",
          "text": [
            "AIMessage(content='', additional_kwargs={'tool_calls': [{'id': 'call_s4SCsaYc1N0xEEZYzIPgAmf3', 'function': {'arguments': '{\"query\":\"GPT-5 enhancements features improvements\"}', 'name': 'retrieve_blog_posts'}, 'type': 'function'}], 'refusal': None}, response_metadata={'token_usage': {'completion_tokens': 21, 'prompt_tokens': 2388, 'total_tokens': 2409, 'completion_tokens_details': {'accepted_prediction_tokens': 0, 'audio_tokens': 0, 'reasoning_tokens': 0, 'rejected_prediction_tokens': 0}, 'prompt_tokens_details': {'audio_tokens': 0, 'cached_tokens': 1408}}, 'model_name': 'gpt-4o-mini-2024-07-18', 'system_fingerprint': 'fp_efad92c60b', 'id': 'chatcmpl-CJvGjM1VSa8fUTRb7CN6EwW7QodLF', 'service_tier': None, 'finish_reason': 'tool_calls', 'logprobs': None}, id='run--1f7a65fa-f77b-4ed2-881b-07f097c63c7e-0', tool_calls=[{'name': 'retrieve_blog_posts', 'args': {'query': 'GPT-5 enhancements features improvements'}, 'id': 'call_s4SCsaYc1N0xEEZYzIPgAmf3', 'type': 'tool_call'}], usage_metadata={'input_tokens': 2388, 'output_tokens': 21, 'total_tokens': 2409, 'input_token_details': {'audio': 0, 'cache_read': 1408}, 'output_token_details': {'audio': 0, 'reasoning': 0}})\n",
            "ToolMessage(content='One interesting observation is that while the LLM-based evaluation concluded that GPT-4 and ChemCrow perform nearly equivalently, human evaluations with experts oriented towards the completion and chemical correctness of the solutions showed that ChemCrow outperforms GPT-4 by a large margin. This indicates a potential problem with using LLM to evaluate its own performance on domains that requires deep expertise. The lack of expertise may cause LLMs not knowing its flaws and thus cannot well judge the correctness of task\\n\\nThe accuracy of instruct-GPT series models of different sizes (left to right, small to large). Larger model doing better on binary classification of answerable and unanswerable questions in SelfAware eval. (Image source: Yin et al. 2023)\\n\\nTest time compute (Graves et al. 2016, Ling, et al. 2017, Cobbe et al. 2021) and Chain-of-thought (CoT) (Wei et al. 2022, Nye et al. 2021), have led to significant improvements in model performance, while raising many research questions. This post aims to review recent developments in how to effectively use test-time compute (i.e. “thinking time”) and why it helps.\\n\\nThe latent variable perspective is particularly useful for understanding methods that involve collecting multiple parallel CoTs or searching over the CoT–these algorithms can be seen as sampling from the posterior $P(z \\\\mid x, y)$. This view also suggests the benefits of using the log loss $\\\\log P(y \\\\mid x)$ as the target objective to optimize, as the log loss objective has been so effective in pretraining.\\nThinking in Tokens#\\n\\nthe distribution over math problems and solutions by letting $x$ denote a problem statement, $y$ be ground truth answer or proof, and $z$ as a free-form thought process that leads to the proof. The marginal probability distribution to optimize would be $P(y \\\\mid x) = \\\\sum_{z \\\\sim p(z\\\\mid x)} P(y \\\\mid x, z)$\\n\\nover the possible values of the latent variable allows us to express a rich distribution over the visible variables, $P(y) = \\\\sum_{z \\\\sim P(z)} P(y \\\\mid z)$. For example, we can model the distribution over math problems and solutions by letting $x$ denote a problem statement, $y$ be ground truth answer or proof, and $z$ as a free-form thought process that leads to the proof. The marginal probability distribution to optimize\\n\\nA classic idea in machine learning is to define a probabilistic model with a latent (hidden) variable $z$ and a visible variable $y$, where $y$ is given to our learning algorithm. Marginalizing (summing) over the possible values of the latent variable allows us to express a rich distribution over the visible variables, $P(y) = \\\\sum_{z \\\\sim P(z)} P(y \\\\mid z)$. For example, we can model\\n\\nOn the other hand, CoT enables the model to perform far more flops of computation for each token of the answer that it is trying to compute. In fact, CoT has a nice property that it allows the model to use a variable amount of compute depending on the hardness of the problem.\\nLatent Variable Modeling#\\n\\nIn Transformer models, the amount of computation (flops) that the model does for each generated token is roughly 2 times the number of parameters. For sparse models like mixture of experts (MoE), only a fraction of the parameters are used in each forward pass, so computation = 2 * parameters / sparsity, where sparsity is the fraction of experts active.\\n\\nthese resources–they’ll figure out how to organize these resources into circuits for calculation and information storage. From this view, if we design an architecture or system that can do more computation at test time, and we train it to effectively use this resource, it’ll work better.', name='retrieve_blog_posts', id='fce06251-5159-49a0-8b9e-ee2ebf7cb055', tool_call_id='call_s4SCsaYc1N0xEEZYzIPgAmf3')\n",
            "AIMessage(content='GPT-5 is a multimodal large language model developed by OpenAI and represents the fifth iteration in the generative pre-trained transformer series. Its architecture is described as a unified system that intelligently routes user requests and enhances performance in various critical domains.\\n\\nKey features of GPT-5\\'s architecture include:\\n\\n1. **Unified Architecture**: GPT-5 employs a design that allows it to handle a wider range of tasks by integrating different models, making it smarter and more efficient in responding to user queries.\\n\\n2. **Enhanced Reasoning and Instruction Following**: The model includes improvements in reasoning capabilities and is better at following complex instructions, making it particularly effective for challenging tasks.\\n\\n3. **Multimodal Capabilities**: GPT-5 can process and understand multiple types of input, including text and potentially other forms such as voice, enhancing its versatility.\\n\\n4. **Router Mechanism**: GPT-5 utilizes a \"router\" that directs requests to specialized \"expert\" subnetworks. This aspect of its architecture allows it to optimize responses based on the specific query, rather than relying on a single monolithic model.\\n\\n5. **Targeted Development**: The project, code-named Orion, has been under development for over 18 months and aims to significantly improve collaboration on complex projects, such as front-end generation and debugging of larger code repositories.\\n\\nTogether, these features mark a significant leap forward in the capabilities of generative pre-trained transformer models, particularly in terms of scalability and performance across various languages and tasks.', additional_kwargs={}, response_metadata={}, id='4c3d8c90-3c5c-455a-b6c8-0f897adaac88')\n",
            "AIMessage(content='GPT-5 is a multimodal large language model developed by OpenAI, characterized by its unified architecture that intelligently routes user requests and enhances performance across various tasks. It features improved reasoning capabilities, better instruction following, and a router mechanism that directs queries to specialized subnetworks for optimized responses. Additionally, GPT-5 can process multiple input types, such as text and voice, enhancing its versatility.', additional_kwargs={}, response_metadata={}, id='b960dc00-361c-4f9e-8189-a6943d7b1e98')\n",
            "HumanMessage(content=\"What's Agent System Overview?\", additional_kwargs={}, response_metadata={}, id='3a1db8d4-67cc-4f8b-ad68-7ac78faf2a75')\n",
            "AIMessage(content='', additional_kwargs={'tool_calls': [{'id': 'call_I4aWj43y78y7W299M5CKGGP0', 'function': {'arguments': '{\"query\":\"Agent System Overview\"}', 'name': 'retrieve_blog_posts'}, 'type': 'function'}], 'refusal': None}, response_metadata={'token_usage': {'completion_tokens': 18, 'prompt_tokens': 1451, 'total_tokens': 1469, 'completion_tokens_details': {'accepted_prediction_tokens': 0, 'audio_tokens': 0, 'reasoning_tokens': 0, 'rejected_prediction_tokens': 0}, 'prompt_tokens_details': {'audio_tokens': 0, 'cached_tokens': 0}}, 'model_name': 'gpt-4o-mini-2024-07-18', 'system_fingerprint': 'fp_efad92c60b', 'id': 'chatcmpl-CJvHWOjXKmNNxglhCLUKKb34kpEQF', 'service_tier': None, 'finish_reason': 'tool_calls', 'logprobs': None}, id='run--f052982f-9186-4be0-95cb-fa5fdabeaabd-0', tool_calls=[{'name': 'retrieve_blog_posts', 'args': {'query': 'Agent System Overview'}, 'id': 'call_I4aWj43y78y7W299M5CKGGP0', 'type': 'tool_call'}], usage_metadata={'input_tokens': 1451, 'output_tokens': 18, 'total_tokens': 1469, 'input_token_details': {'audio': 0, 'cache_read': 0}, 'output_token_details': {'audio': 0, 'reasoning': 0}})\n",
            "ToolMessage(content=\"Agent System Overview#\\nIn a LLM-powered autonomous agent system, LLM functions as the agent’s brain, complemented by several key components:\\n\\nThe generative agent architecture. (Image source: Park et al. 2023)\\n\\nTable of Contents\\n\\n\\n\\nAgent System Overview\\n\\nComponent One: Planning\\n\\nTask Decomposition\\n\\nSelf-Reflection\\n\\n\\nComponent Two: Memory\\n\\nTypes of Memory\\n\\nMaximum Inner Product Search (MIPS)\\n\\n\\nComponent Three: Tool Use\\n\\nCase Studies\\n\\nScientific Discovery Agent\\n\\nGenerative Agents Simulation\\n\\nProof-of-Concept Examples\\n\\n\\nChallenges\\n\\nCitation\\n\\nReferences\\n\\nLLM Powered Autonomous Agents\\n    \\nDate: June 23, 2023  |  Estimated Reading Time: 31 min  |  Author: Lilian Weng\\n\\n\\n \\n\\n\\nTable of Contents\\n\\n\\n\\nAgent System Overview\\n\\nComponent One: Planning\\n\\nTask Decomposition\\n\\nSelf-Reflection\\n\\n\\nComponent Two: Memory\\n\\nTypes of Memory\\n\\nMaximum Inner Product Search (MIPS)\\n\\nBuilding agents with LLM (large language model) as its core controller is a cool concept. Several proof-of-concepts demos, such as AutoGPT, GPT-Engineer and BabyAGI, serve as inspiring examples. The potentiality of LLM extends beyond generating well-written copies, stories, essays and programs; it can be framed as a powerful general problem solver.\\nAgent System Overview#\\n\\nOverview of SelfCheckGPT. (Image source: Manakul et al. 2023)\\n\\nNlp\\nLanguage-Model\\nAgent\\nSteerability\\nPrompting\\n\\n\\n\\n« \\n\\nAdversarial Attacks on LLMs\\n\\n\\n »\\n\\nPrompt Engineering\\n\\n\\n\\n\\n\\n\\n\\n\\n\\n\\n\\n\\n\\n\\n\\n\\n\\n\\n\\n\\n\\n\\n\\n\\n\\n\\n\\n\\n\\n\\n\\n\\n\\n\\n\\n\\n\\n\\n© 2025 Lil'Log\\n\\n        Powered by\\n        Hugo &\\n        PaperMod\\n\\nOverview of Chain-of-Verification (CoVe) method, running in four key steps.\\n (Image source: Dhuliawala et al. 2023)\\n\\nHere are some interesting observations from the CoVe experiments:\\n\\nBecause System 1 thinking is fast and easy, it often ends up being the main decision driver, at the cost of accuracy and logic. It naturally relies on our brain’s mental shortcuts (i.e., heuristics) and can lead to errors and biases. By consciously slowing down and taking more time to reflect, improve and analyze, we can engage in System 2 thinking to challenge our instincts and make more rational choices.\\nComputation as a Resource#\", name='retrieve_blog_posts', id='8ad7c64f-68c7-45ca-af38-5e987288a5d4', tool_call_id='call_I4aWj43y78y7W299M5CKGGP0')\n",
            "AIMessage(content=\"Agent System Overview refers to the framework of a large language model (LLM)-powered autonomous agent system, which includes components such as planning, memory, and tool use. It highlights the LLM as the central controller for tasks like task decomposition, self-reflection, and using various types of memory. The system's design allows LLMs to act as effective problem solvers across diverse applications.\", additional_kwargs={}, response_metadata={}, id='247f90e2-e832-4d77-8da5-df7c3a7c5ff5')\n"
          ]
        }
      ],
      "source": [
        "from pprint import pprint\n",
        "for m in output['messages']:\n",
        "  pprint(m)"
      ]
    },
    {
      "cell_type": "code",
      "source": [
        "output['messages'][-1].content"
      ],
      "metadata": {
        "colab": {
          "base_uri": "https://localhost:8080/",
          "height": 70
        },
        "id": "-iv25gF1M8n9",
        "outputId": "d20cdccf-c994-4963-baed-4fdc560da266"
      },
      "execution_count": null,
      "outputs": [
        {
          "output_type": "execute_result",
          "data": {
            "text/plain": [
              "\"Agent System Overview refers to the framework of a large language model (LLM)-powered autonomous agent system, which includes components such as planning, memory, and tool use. It highlights the LLM as the central controller for tasks like task decomposition, self-reflection, and using various types of memory. The system's design allows LLMs to act as effective problem solvers across diverse applications.\""
            ],
            "application/vnd.google.colaboratory.intrinsic+json": {
              "type": "string"
            }
          },
          "metadata": {},
          "execution_count": 41
        }
      ]
    },
    {
      "cell_type": "code",
      "source": [
        "graph.get_state(config).values.get(\"summary\",\"\")"
      ],
      "metadata": {
        "colab": {
          "base_uri": "https://localhost:8080/",
          "height": 88
        },
        "id": "bP7IYOssCntI",
        "outputId": "f41edf3f-c102-43f1-975b-cd1db1d881b6"
      },
      "execution_count": null,
      "outputs": [
        {
          "output_type": "execute_result",
          "data": {
            "text/plain": [
              "'In the conversation, the user inquired about the architecture and advancements of GPT-5 compared to its predecessors. The assistant provided an overview of GPT-5 as a multimodal large language model developed by OpenAI. Key features highlighted include its unified architecture that allows for intelligent routing of user requests, enhanced reasoning and instruction following capabilities, multimodal processing (text and voice), a router mechanism for optimized responses through specialized subnetworks, and targeted development aimed at improving collaboration on complex projects. Overall, these advancements represent a significant leap in the capabilities of generative pre-trained transformer models.'"
            ],
            "application/vnd.google.colaboratory.intrinsic+json": {
              "type": "string"
            }
          },
          "metadata": {},
          "execution_count": 42
        }
      ]
    },
    {
      "cell_type": "code",
      "execution_count": null,
      "metadata": {
        "colab": {
          "base_uri": "https://localhost:8080/"
        },
        "id": "kD-ffZgCV1uu",
        "outputId": "5860056e-9b66-4a14-94c1-036fc225dca7"
      },
      "outputs": [
        {
          "output_type": "stream",
          "name": "stdout",
          "text": [
            "---CALL AGENT---\n",
            "---CHECK RELEVANCE---\n",
            "---DECISION: DOCS RELEVANT---\n",
            "---GENERATE---\n",
            "---DECISION: PROCEEDING TO FINAL SUMMARIZATION---\n",
            "---start SUMMARIZE---\n"
          ]
        }
      ],
      "source": [
        "query = \"What's Task Decomposition?\"\n",
        "inputs = {\"messages\": [HumanMessage(content=query)],\n",
        "          \"rewrite_count\": 0}\n",
        "output = graph.invoke(inputs,config)"
      ]
    },
    {
      "cell_type": "code",
      "execution_count": null,
      "metadata": {
        "colab": {
          "base_uri": "https://localhost:8080/"
        },
        "id": "ICeK-dr0sR7_",
        "outputId": "f30f6148-04b5-4638-d876-c8215b2403ad"
      },
      "outputs": [
        {
          "output_type": "stream",
          "name": "stdout",
          "text": [
            "HumanMessage(content=\"What's Task Decomposition?\", additional_kwargs={}, response_metadata={}, id='76441482-8d5d-406e-a4de-029600131b7c')\n",
            "AIMessage(content='', additional_kwargs={'tool_calls': [{'id': 'call_ThWzbVlkvCagSfmhOQ0yQxWn', 'function': {'arguments': '{\"query\":\"Task Decomposition in LLMs\"}', 'name': 'retrieve_blog_posts'}, 'type': 'function'}], 'refusal': None}, response_metadata={'token_usage': {'completion_tokens': 22, 'prompt_tokens': 2041, 'total_tokens': 2063, 'completion_tokens_details': {'accepted_prediction_tokens': 0, 'audio_tokens': 0, 'reasoning_tokens': 0, 'rejected_prediction_tokens': 0}, 'prompt_tokens_details': {'audio_tokens': 0, 'cached_tokens': 1408}}, 'model_name': 'gpt-4o-mini-2024-07-18', 'system_fingerprint': 'fp_efad92c60b', 'id': 'chatcmpl-CJvHtwQWIeZYRDcdbzlFhosp04rSS', 'service_tier': None, 'finish_reason': 'tool_calls', 'logprobs': None}, id='run--69647396-8cc4-419e-9b1b-d38094f421d5-0', tool_calls=[{'name': 'retrieve_blog_posts', 'args': {'query': 'Task Decomposition in LLMs'}, 'id': 'call_ThWzbVlkvCagSfmhOQ0yQxWn', 'type': 'tool_call'}], usage_metadata={'input_tokens': 2041, 'output_tokens': 22, 'total_tokens': 2063, 'input_token_details': {'audio': 0, 'cache_read': 1408}, 'output_token_details': {'audio': 0, 'reasoning': 0}})\n",
            "ToolMessage(content='Task decomposition can be done (1) by LLM with simple prompting like \"Steps for XYZ.\\\\n1.\", \"What are the subgoals for achieving XYZ?\", (2) by using task-specific instructions; e.g. \"Write a story outline.\" for writing a novel, or (3) with human inputs.\\n\\nTask Decomposition#\\nChain of thought (CoT; Wei et al. 2022) has become a standard prompting technique for enhancing model performance on complex tasks. The model is instructed to “think step by step” to utilize more test-time computation to decompose hard tasks into smaller and simpler steps. CoT transforms big tasks into multiple manageable tasks and shed lights into an interpretation of the model’s thinking process.\\n\\nTable of Contents\\n\\n\\n\\nAgent System Overview\\n\\nComponent One: Planning\\n\\nTask Decomposition\\n\\nSelf-Reflection\\n\\n\\nComponent Two: Memory\\n\\nTypes of Memory\\n\\nMaximum Inner Product Search (MIPS)\\n\\n\\nComponent Three: Tool Use\\n\\nCase Studies\\n\\nScientific Discovery Agent\\n\\nGenerative Agents Simulation\\n\\nProof-of-Concept Examples\\n\\n\\nChallenges\\n\\nCitation\\n\\nReferences\\n\\nLLM Powered Autonomous Agents\\n    \\nDate: June 23, 2023  |  Estimated Reading Time: 31 min  |  Author: Lilian Weng\\n\\n\\n \\n\\n\\nTable of Contents\\n\\n\\n\\nAgent System Overview\\n\\nComponent One: Planning\\n\\nTask Decomposition\\n\\nSelf-Reflection\\n\\n\\nComponent Two: Memory\\n\\nTypes of Memory\\n\\nMaximum Inner Product Search (MIPS)\\n\\n(3) Task execution: Expert models execute on the specific tasks and log results.\\nInstruction:\\n\\n18. Send Tweet: \"send_tweet\", args: \"text\": \"<text>\"\\n19. Do Nothing: \"do_nothing\", args:\\n20. Task Complete (Shutdown): \"task_complete\", args: \"reason\": \"<reason>\"\\n\\nExtrinsic Hallucinations in LLMs | Lil\\'Log\\n\\n\\n\\n\\n\\n\\n\\n\\n\\n\\n\\n\\n\\n\\n\\n\\n\\n\\n\\n\\n\\n\\n\\n\\n\\n\\n\\n\\n\\n\\n\\n\\n\\n\\n\\n\\n\\n\\n\\nLil\\'Log\\n\\n\\n\\n\\n\\n\\n\\n\\n\\n\\n\\n\\n\\n\\n\\n\\n\\n|\\n\\n\\n\\n\\n\\n\\nPosts\\n\\n\\n\\n\\nArchive\\n\\n\\n\\n\\nSearch\\n\\n\\n\\n\\nTags\\n\\n\\n\\n\\nFAQ\\n\\nComponent One: Planning#\\nA complicated task usually involves many steps. An agent needs to know what they are and plan ahead.\\nTask Decomposition#\\n\\nWith the input and the inference results, the AI assistant needs to describe the process and results. The previous stages can be formed as - User Input: {{ User Input }}, Task Planning: {{ Tasks }}, Model Selection: {{ Model Assignment }}, Task Execution: {{ Predictions }}. You must first answer the user\\'s request in a straightforward manner. Then describe the task process and show your analysis and model inference results to the user in the first person. If inference results contain a file\\n\\n[24] DeepSeek-AI. “DeepSeek-V3 Technical Report.” arXiv preprint arXiv:2412.19437 (2024).\\n[25] DeepSeek-AI. “DeepSeek-R1: Incentivizing Reasoning Capability in LLMs via Reinforcement Learning.”. arXiv preprint arXiv:2501.12948 (2025).', name='retrieve_blog_posts', id='8eed83ae-e984-4213-ae94-747bc027a6e6', tool_call_id='call_ThWzbVlkvCagSfmhOQ0yQxWn')\n",
            "AIMessage(content='Task decomposition is the process of breaking down complex tasks into smaller, manageable steps or subgoals, which can be achieved through various methods, such as prompting a large language model (LLM) or using specific instructions. This approach enhances the model\\'s performance by allowing it to \"think step by step,\" effectively transforming larger tasks into simpler ones. It facilitates better planning and execution by clarifying the overall process and guiding the model’s reasoning.', additional_kwargs={}, response_metadata={}, id='81cb7917-2c59-4174-a6e5-5709e91e8be4')\n"
          ]
        }
      ],
      "source": [
        "from pprint import pprint\n",
        "for m in output['messages']:\n",
        "  pprint(m)"
      ]
    },
    {
      "cell_type": "code",
      "execution_count": null,
      "metadata": {
        "id": "yLtUeypaz5zd",
        "colab": {
          "base_uri": "https://localhost:8080/",
          "height": 70
        },
        "outputId": "a239676f-ab36-421b-9940-d565c4b8d6f6"
      },
      "outputs": [
        {
          "output_type": "execute_result",
          "data": {
            "text/plain": [
              "'Task decomposition is the process of breaking down complex tasks into smaller, manageable steps or subgoals, which can be achieved through various methods, such as prompting a large language model (LLM) or using specific instructions. This approach enhances the model\\'s performance by allowing it to \"think step by step,\" effectively transforming larger tasks into simpler ones. It facilitates better planning and execution by clarifying the overall process and guiding the model’s reasoning.'"
            ],
            "application/vnd.google.colaboratory.intrinsic+json": {
              "type": "string"
            }
          },
          "metadata": {},
          "execution_count": 45
        }
      ],
      "source": [
        "output['messages'][-1].content"
      ]
    },
    {
      "cell_type": "code",
      "source": [
        "graph.get_state(config).values.get(\"summary\",\"\")"
      ],
      "metadata": {
        "colab": {
          "base_uri": "https://localhost:8080/",
          "height": 123
        },
        "id": "iWpuRf_xNPke",
        "outputId": "ea35d864-eb01-421c-8139-76a86c77a759"
      },
      "execution_count": null,
      "outputs": [
        {
          "output_type": "execute_result",
          "data": {
            "text/plain": [
              "\"In the conversation, the user inquired about the architecture and advancements of GPT-5 compared to its predecessors. The assistant provided an overview of GPT-5 as a multimodal large language model developed by OpenAI. Key features highlighted include its unified architecture that allows for intelligent routing of user requests, enhanced reasoning and instruction-following capabilities, multimodal processing (text and voice), a router mechanism for optimized responses through specialized subnetworks, and targeted development aimed at improving collaboration on complex projects. These advancements represent a significant leap in the capabilities of generative pre-trained transformer models.\\n\\nAdditionally, the user asked about the concept of Agent System Overview and Task Decomposition. The assistant explained that within a large language model (LLM)-powered autonomous agent system, the LLM acts as the brain, involving key components such as planning, memory, and tool use. Task decomposition was discussed as a method for breaking down complex tasks into smaller, manageable steps. This can be accomplished through different techniques, including simple prompting and task-specific instructions. The use of methods like Chain of Thought (CoT) enhances the model's reasoning by directing it to think step by step, which is essential for effective problem-solving and task execution.\""
            ],
            "application/vnd.google.colaboratory.intrinsic+json": {
              "type": "string"
            }
          },
          "metadata": {},
          "execution_count": 46
        }
      ]
    },
    {
      "cell_type": "code",
      "source": [
        "query = \"what is Component of Memory\"\n",
        "inputs = {\"messages\": [HumanMessage(content=query)],\n",
        "          \"rewrite_count\": 0}\n",
        "output = graph.invoke(inputs,config)"
      ],
      "metadata": {
        "colab": {
          "base_uri": "https://localhost:8080/"
        },
        "id": "aBeU_YL4mLrN",
        "outputId": "995d853a-ff4b-43c5-87e8-488d11618061"
      },
      "execution_count": null,
      "outputs": [
        {
          "output_type": "stream",
          "name": "stdout",
          "text": [
            "---CALL AGENT---\n",
            "---CHECK RELEVANCE---\n",
            "---DECISION: DOCS RELEVANT---\n",
            "---GENERATE---\n",
            "---DECISION: PROCEEDING TO FINAL SUMMARIZATION---\n"
          ]
        }
      ]
    },
    {
      "cell_type": "code",
      "source": [
        "output['messages'][-1].content"
      ],
      "metadata": {
        "colab": {
          "base_uri": "https://localhost:8080/",
          "height": 53
        },
        "id": "2OM8nv0NNpNS",
        "outputId": "07c26c9f-27fb-4dd8-e7ce-a4ad55371a14"
      },
      "execution_count": null,
      "outputs": [
        {
          "output_type": "execute_result",
          "data": {
            "text/plain": [
              "'The components of memory include Long-Term Memory (LTM) and Short-Term Memory (STM). LTM can retain information for a long period, while STM holds information temporarily for immediate tasks, typically lasting 20-30 seconds. Each type has distinct functions and capacities relevant to cognitive processes.'"
            ],
            "application/vnd.google.colaboratory.intrinsic+json": {
              "type": "string"
            }
          },
          "metadata": {},
          "execution_count": 48
        }
      ]
    },
    {
      "cell_type": "code",
      "source": [
        "from pprint import pprint\n",
        "for m in output['messages']:\n",
        "  pprint(m)"
      ],
      "metadata": {
        "id": "1SMf_W0vmcEq",
        "colab": {
          "base_uri": "https://localhost:8080/"
        },
        "outputId": "8b27c17d-cd11-47b0-cccd-0af6970e363d"
      },
      "execution_count": null,
      "outputs": [
        {
          "output_type": "stream",
          "name": "stdout",
          "text": [
            "HumanMessage(content=\"What's Task Decomposition?\", additional_kwargs={}, response_metadata={}, id='76441482-8d5d-406e-a4de-029600131b7c')\n",
            "AIMessage(content='', additional_kwargs={'tool_calls': [{'id': 'call_ThWzbVlkvCagSfmhOQ0yQxWn', 'function': {'arguments': '{\"query\":\"Task Decomposition in LLMs\"}', 'name': 'retrieve_blog_posts'}, 'type': 'function'}], 'refusal': None}, response_metadata={'token_usage': {'completion_tokens': 22, 'prompt_tokens': 2041, 'total_tokens': 2063, 'completion_tokens_details': {'accepted_prediction_tokens': 0, 'audio_tokens': 0, 'reasoning_tokens': 0, 'rejected_prediction_tokens': 0}, 'prompt_tokens_details': {'audio_tokens': 0, 'cached_tokens': 1408}}, 'model_name': 'gpt-4o-mini-2024-07-18', 'system_fingerprint': 'fp_efad92c60b', 'id': 'chatcmpl-CJvHtwQWIeZYRDcdbzlFhosp04rSS', 'service_tier': None, 'finish_reason': 'tool_calls', 'logprobs': None}, id='run--69647396-8cc4-419e-9b1b-d38094f421d5-0', tool_calls=[{'name': 'retrieve_blog_posts', 'args': {'query': 'Task Decomposition in LLMs'}, 'id': 'call_ThWzbVlkvCagSfmhOQ0yQxWn', 'type': 'tool_call'}], usage_metadata={'input_tokens': 2041, 'output_tokens': 22, 'total_tokens': 2063, 'input_token_details': {'audio': 0, 'cache_read': 1408}, 'output_token_details': {'audio': 0, 'reasoning': 0}})\n",
            "ToolMessage(content='Task decomposition can be done (1) by LLM with simple prompting like \"Steps for XYZ.\\\\n1.\", \"What are the subgoals for achieving XYZ?\", (2) by using task-specific instructions; e.g. \"Write a story outline.\" for writing a novel, or (3) with human inputs.\\n\\nTask Decomposition#\\nChain of thought (CoT; Wei et al. 2022) has become a standard prompting technique for enhancing model performance on complex tasks. The model is instructed to “think step by step” to utilize more test-time computation to decompose hard tasks into smaller and simpler steps. CoT transforms big tasks into multiple manageable tasks and shed lights into an interpretation of the model’s thinking process.\\n\\nTable of Contents\\n\\n\\n\\nAgent System Overview\\n\\nComponent One: Planning\\n\\nTask Decomposition\\n\\nSelf-Reflection\\n\\n\\nComponent Two: Memory\\n\\nTypes of Memory\\n\\nMaximum Inner Product Search (MIPS)\\n\\n\\nComponent Three: Tool Use\\n\\nCase Studies\\n\\nScientific Discovery Agent\\n\\nGenerative Agents Simulation\\n\\nProof-of-Concept Examples\\n\\n\\nChallenges\\n\\nCitation\\n\\nReferences\\n\\nLLM Powered Autonomous Agents\\n    \\nDate: June 23, 2023  |  Estimated Reading Time: 31 min  |  Author: Lilian Weng\\n\\n\\n \\n\\n\\nTable of Contents\\n\\n\\n\\nAgent System Overview\\n\\nComponent One: Planning\\n\\nTask Decomposition\\n\\nSelf-Reflection\\n\\n\\nComponent Two: Memory\\n\\nTypes of Memory\\n\\nMaximum Inner Product Search (MIPS)\\n\\n(3) Task execution: Expert models execute on the specific tasks and log results.\\nInstruction:\\n\\n18. Send Tweet: \"send_tweet\", args: \"text\": \"<text>\"\\n19. Do Nothing: \"do_nothing\", args:\\n20. Task Complete (Shutdown): \"task_complete\", args: \"reason\": \"<reason>\"\\n\\nExtrinsic Hallucinations in LLMs | Lil\\'Log\\n\\n\\n\\n\\n\\n\\n\\n\\n\\n\\n\\n\\n\\n\\n\\n\\n\\n\\n\\n\\n\\n\\n\\n\\n\\n\\n\\n\\n\\n\\n\\n\\n\\n\\n\\n\\n\\n\\n\\nLil\\'Log\\n\\n\\n\\n\\n\\n\\n\\n\\n\\n\\n\\n\\n\\n\\n\\n\\n\\n|\\n\\n\\n\\n\\n\\n\\nPosts\\n\\n\\n\\n\\nArchive\\n\\n\\n\\n\\nSearch\\n\\n\\n\\n\\nTags\\n\\n\\n\\n\\nFAQ\\n\\nComponent One: Planning#\\nA complicated task usually involves many steps. An agent needs to know what they are and plan ahead.\\nTask Decomposition#\\n\\nWith the input and the inference results, the AI assistant needs to describe the process and results. The previous stages can be formed as - User Input: {{ User Input }}, Task Planning: {{ Tasks }}, Model Selection: {{ Model Assignment }}, Task Execution: {{ Predictions }}. You must first answer the user\\'s request in a straightforward manner. Then describe the task process and show your analysis and model inference results to the user in the first person. If inference results contain a file\\n\\n[24] DeepSeek-AI. “DeepSeek-V3 Technical Report.” arXiv preprint arXiv:2412.19437 (2024).\\n[25] DeepSeek-AI. “DeepSeek-R1: Incentivizing Reasoning Capability in LLMs via Reinforcement Learning.”. arXiv preprint arXiv:2501.12948 (2025).', name='retrieve_blog_posts', id='8eed83ae-e984-4213-ae94-747bc027a6e6', tool_call_id='call_ThWzbVlkvCagSfmhOQ0yQxWn')\n",
            "AIMessage(content='Task decomposition is the process of breaking down complex tasks into smaller, manageable steps or subgoals, which can be achieved through various methods, such as prompting a large language model (LLM) or using specific instructions. This approach enhances the model\\'s performance by allowing it to \"think step by step,\" effectively transforming larger tasks into simpler ones. It facilitates better planning and execution by clarifying the overall process and guiding the model’s reasoning.', additional_kwargs={}, response_metadata={}, id='81cb7917-2c59-4174-a6e5-5709e91e8be4')\n",
            "HumanMessage(content='what is Component of Memory', additional_kwargs={}, response_metadata={}, id='23a4e88c-ae0a-43e4-b6fc-368854f882c2')\n",
            "AIMessage(content='', additional_kwargs={'tool_calls': [{'id': 'call_vmEKcqIC4XwosJ4j3C44vTzo', 'function': {'arguments': '{\"query\":\"Components of Memory in LLMs\"}', 'name': 'retrieve_blog_posts'}, 'type': 'function'}], 'refusal': None}, response_metadata={'token_usage': {'completion_tokens': 22, 'prompt_tokens': 1087, 'total_tokens': 1109, 'completion_tokens_details': {'accepted_prediction_tokens': 0, 'audio_tokens': 0, 'reasoning_tokens': 0, 'rejected_prediction_tokens': 0}, 'prompt_tokens_details': {'audio_tokens': 0, 'cached_tokens': 0}}, 'model_name': 'gpt-4o-mini-2024-07-18', 'system_fingerprint': 'fp_efad92c60b', 'id': 'chatcmpl-CJvIQH3Db1ZrW6gmfyQDShiFrnGWH', 'service_tier': None, 'finish_reason': 'tool_calls', 'logprobs': None}, id='run--fe8144eb-e102-4b3f-8f8b-7060b99ea0a5-0', tool_calls=[{'name': 'retrieve_blog_posts', 'args': {'query': 'Components of Memory in LLMs'}, 'id': 'call_vmEKcqIC4XwosJ4j3C44vTzo', 'type': 'tool_call'}], usage_metadata={'input_tokens': 1087, 'output_tokens': 22, 'total_tokens': 1109, 'input_token_details': {'audio': 0, 'cache_read': 0}, 'output_token_details': {'audio': 0, 'reasoning': 0}})\n",
            "ToolMessage(content='memory as an information retrieval mechanism. Within RECITE’s recite-and-answer scheme, the LLM is asked to first recite relevant information and then generate the output. Precisely, we can use few-shot in-context prompting to teach the model to generate recitation and then generate answers conditioned on recitation. Further it can be combined with self-consistency ensemble consuming multiple samples and extended to support multi-hop QA.\\n\\nComponent Two: Memory#\\n(Big thank you to ChatGPT for helping me draft this section. I’ve learned a lot about the human brain and data structure for fast MIPS in my conversations with ChatGPT.)\\nTypes of Memory#\\nMemory can be defined as the processes used to acquire, store, retain, and later retrieve information. There are several types of memory in human brains.\\n\\nTable of Contents\\n\\n\\n\\nAgent System Overview\\n\\nComponent One: Planning\\n\\nTask Decomposition\\n\\nSelf-Reflection\\n\\n\\nComponent Two: Memory\\n\\nTypes of Memory\\n\\nMaximum Inner Product Search (MIPS)\\n\\n\\nComponent Three: Tool Use\\n\\nCase Studies\\n\\nScientific Discovery Agent\\n\\nGenerative Agents Simulation\\n\\nProof-of-Concept Examples\\n\\n\\nChallenges\\n\\nCitation\\n\\nReferences\\n\\nLLM Powered Autonomous Agents\\n    \\nDate: June 23, 2023  |  Estimated Reading Time: 31 min  |  Author: Lilian Weng\\n\\n\\n \\n\\n\\nTable of Contents\\n\\n\\n\\nAgent System Overview\\n\\nComponent One: Planning\\n\\nTask Decomposition\\n\\nSelf-Reflection\\n\\n\\nComponent Two: Memory\\n\\nTypes of Memory\\n\\nMaximum Inner Product Search (MIPS)\\n\\nLong-Term Memory (LTM): Long-term memory can store information for a remarkably long time, ranging from a few days to decades, with an essentially unlimited storage capacity. There are two subtypes of LTM:\\n\\n[10] Xuezhi Wang, et al. “Self-consistency Improves Chain of Thought Reasoning in Language Models.”. ACL 2023.\\n[11] Ryo Kamoi, et al. “When Can LLMs Actually Correct Their Own Mistakes? A Critical Survey of Self-Correction of LLMs.”. TACL 2024.\\n\\nChatGPT Plugins and OpenAI API  function calling are good examples of LLMs augmented with tool use capability working in practice. The collection of tool APIs can be provided by other developers (as in Plugins) or self-defined (as in function calls).\\n\\nShort-Term Memory (STM) or Working Memory: It stores information that we are currently aware of and needed to carry out complex cognitive tasks such as learning and reasoning. Short-term memory is believed to have the capacity of about 7 items (Miller 1956) and lasts for 20-30 seconds.\\n\\nReliability of natural language interface: Current agent system relies on natural language as an interface between LLMs and external components such as memory and tools. However, the reliability of model outputs is questionable, as LLMs may make formatting errors and occasionally exhibit rebellious behavior (e.g. refuse to follow an instruction). Consequently, much of the agent demo code focuses on parsing model output.\\n\\n\\nCitation#\\nCited as:', name='retrieve_blog_posts', id='e17e06d8-42ac-4d97-a0e2-bec51904e7ff', tool_call_id='call_vmEKcqIC4XwosJ4j3C44vTzo')\n",
            "AIMessage(content='The components of memory include Long-Term Memory (LTM) and Short-Term Memory (STM). LTM can retain information for a long period, while STM holds information temporarily for immediate tasks, typically lasting 20-30 seconds. Each type has distinct functions and capacities relevant to cognitive processes.', additional_kwargs={}, response_metadata={}, id='c6bcd666-21cb-45b8-9e07-117c99aa750c')\n"
          ]
        }
      ]
    },
    {
      "cell_type": "code",
      "source": [
        "graph.get_state(config).values.get(\"summary\",\"\")"
      ],
      "metadata": {
        "colab": {
          "base_uri": "https://localhost:8080/",
          "height": 123
        },
        "id": "y2kFdeq3Nkys",
        "outputId": "eddeed96-a657-4926-bc27-12bd40926860"
      },
      "execution_count": null,
      "outputs": [
        {
          "output_type": "execute_result",
          "data": {
            "text/plain": [
              "\"In the conversation, the user inquired about the architecture and advancements of GPT-5 compared to its predecessors. The assistant provided an overview of GPT-5 as a multimodal large language model developed by OpenAI. Key features highlighted include its unified architecture that allows for intelligent routing of user requests, enhanced reasoning and instruction-following capabilities, multimodal processing (text and voice), a router mechanism for optimized responses through specialized subnetworks, and targeted development aimed at improving collaboration on complex projects. These advancements represent a significant leap in the capabilities of generative pre-trained transformer models.\\n\\nAdditionally, the user asked about the concept of Agent System Overview and Task Decomposition. The assistant explained that within a large language model (LLM)-powered autonomous agent system, the LLM acts as the brain, involving key components such as planning, memory, and tool use. Task decomposition was discussed as a method for breaking down complex tasks into smaller, manageable steps. This can be accomplished through different techniques, including simple prompting and task-specific instructions. The use of methods like Chain of Thought (CoT) enhances the model's reasoning by directing it to think step by step, which is essential for effective problem-solving and task execution.\""
            ],
            "application/vnd.google.colaboratory.intrinsic+json": {
              "type": "string"
            }
          },
          "metadata": {},
          "execution_count": 50
        }
      ]
    },
    {
      "cell_type": "code",
      "source": [
        "query = \"need all i asked before to you and need this in list of points \"\n",
        "inputs = {\"messages\": [HumanMessage(content=query)],\n",
        "          \"rewrite_count\": 0}\n",
        "output = graph.invoke(inputs,config)"
      ],
      "metadata": {
        "id": "nJQFYo0MNndt",
        "colab": {
          "base_uri": "https://localhost:8080/"
        },
        "outputId": "f6a28f03-7c66-457a-e66d-7117889de001"
      },
      "execution_count": null,
      "outputs": [
        {
          "output_type": "stream",
          "name": "stdout",
          "text": [
            "---CALL AGENT---\n"
          ]
        }
      ]
    },
    {
      "cell_type": "code",
      "source": [
        "display(Markdown(output['messages'][-1].content))"
      ],
      "metadata": {
        "colab": {
          "base_uri": "https://localhost:8080/",
          "height": 694
        },
        "id": "-ya19OW183Dw",
        "outputId": "46734f29-3cc3-4201-ef83-82085d07dc37"
      },
      "execution_count": null,
      "outputs": [
        {
          "output_type": "display_data",
          "data": {
            "text/plain": [
              "<IPython.core.display.Markdown object>"
            ],
            "text/markdown": "Here’s a summary of the information you've inquired about, formatted as a list of points:\n\n### GPT-5 Architecture and Advancements:\n1. **Multimodal Large Language Model:** Developed by OpenAI.\n2. **Unified Architecture:** Allows for intelligent routing of user requests.\n3. **Enhanced Reasoning:** Improved instruction-following capabilities.\n4. **Multimodal Processing:** Capable of handling both text and voice.\n5. **Router Mechanism:** Optimizes responses through specialized subnetworks.\n6. **Targeted Development:** Aimed at enhancing collaboration on complex projects.\n7. **Significant Leap in Capabilities:** Represents an advancement over previous generative pre-trained transformer models.\n\n### Agent System Overview and Task Decomposition:\n1. **LLM as the Brain:** The model acts as the central processing unit in the agent system.\n2. **Essential Components:**\n   - **Planning:** Identifies and organizes necessary steps to complete tasks.\n   - **Memory:** Stores, retains, and retrieves information.\n   - **Tool Use:** Utilization of tools for executing specialized tasks.\n3. **Task Decomposition:**\n   - **Definition:** Breaking down complex tasks into smaller, manageable steps.\n   - **Techniques:**\n     - Simple prompting (e.g., \"Steps for XYZ.\\n1.\")\n     - Task-specific instructions (e.g., \"Write a story outline.\")\n     - Human inputs could also guide decomposition.\n   - **Chain of Thought (CoT):** A prompting technique that encourages step-by-step reasoning.\n\n### Components of Memory:\n1. **Types of Memory:**\n   - **Long-Term Memory (LTM):** Stores information for extended periods; essentially unlimited capacity.\n     - Two subtypes: [Additional details not specified in the previous context]\n   - **Short-Term Memory (STM) or Working Memory:** Holds information temporarily for cognitive tasks; capacity is about 7 items, lasting for 20-30 seconds.\n\nIf you have any further questions or need additional details, feel free to ask!"
          },
          "metadata": {}
        }
      ]
    },
    {
      "cell_type": "code",
      "source": [
        "from pprint import pprint\n",
        "for m in output['messages']:\n",
        "  pprint(m)"
      ],
      "metadata": {
        "colab": {
          "base_uri": "https://localhost:8080/"
        },
        "id": "CgwnNJ7c86HF",
        "outputId": "fdd35631-7198-47b4-c973-b4722c43a647"
      },
      "execution_count": null,
      "outputs": [
        {
          "output_type": "stream",
          "name": "stdout",
          "text": [
            "HumanMessage(content=\"What's Task Decomposition?\", additional_kwargs={}, response_metadata={}, id='76441482-8d5d-406e-a4de-029600131b7c')\n",
            "AIMessage(content='', additional_kwargs={'tool_calls': [{'id': 'call_ThWzbVlkvCagSfmhOQ0yQxWn', 'function': {'arguments': '{\"query\":\"Task Decomposition in LLMs\"}', 'name': 'retrieve_blog_posts'}, 'type': 'function'}], 'refusal': None}, response_metadata={'token_usage': {'completion_tokens': 22, 'prompt_tokens': 2041, 'total_tokens': 2063, 'completion_tokens_details': {'accepted_prediction_tokens': 0, 'audio_tokens': 0, 'reasoning_tokens': 0, 'rejected_prediction_tokens': 0}, 'prompt_tokens_details': {'audio_tokens': 0, 'cached_tokens': 1408}}, 'model_name': 'gpt-4o-mini-2024-07-18', 'system_fingerprint': 'fp_efad92c60b', 'id': 'chatcmpl-CJvHtwQWIeZYRDcdbzlFhosp04rSS', 'service_tier': None, 'finish_reason': 'tool_calls', 'logprobs': None}, id='run--69647396-8cc4-419e-9b1b-d38094f421d5-0', tool_calls=[{'name': 'retrieve_blog_posts', 'args': {'query': 'Task Decomposition in LLMs'}, 'id': 'call_ThWzbVlkvCagSfmhOQ0yQxWn', 'type': 'tool_call'}], usage_metadata={'input_tokens': 2041, 'output_tokens': 22, 'total_tokens': 2063, 'input_token_details': {'audio': 0, 'cache_read': 1408}, 'output_token_details': {'audio': 0, 'reasoning': 0}})\n",
            "ToolMessage(content='Task decomposition can be done (1) by LLM with simple prompting like \"Steps for XYZ.\\\\n1.\", \"What are the subgoals for achieving XYZ?\", (2) by using task-specific instructions; e.g. \"Write a story outline.\" for writing a novel, or (3) with human inputs.\\n\\nTask Decomposition#\\nChain of thought (CoT; Wei et al. 2022) has become a standard prompting technique for enhancing model performance on complex tasks. The model is instructed to “think step by step” to utilize more test-time computation to decompose hard tasks into smaller and simpler steps. CoT transforms big tasks into multiple manageable tasks and shed lights into an interpretation of the model’s thinking process.\\n\\nTable of Contents\\n\\n\\n\\nAgent System Overview\\n\\nComponent One: Planning\\n\\nTask Decomposition\\n\\nSelf-Reflection\\n\\n\\nComponent Two: Memory\\n\\nTypes of Memory\\n\\nMaximum Inner Product Search (MIPS)\\n\\n\\nComponent Three: Tool Use\\n\\nCase Studies\\n\\nScientific Discovery Agent\\n\\nGenerative Agents Simulation\\n\\nProof-of-Concept Examples\\n\\n\\nChallenges\\n\\nCitation\\n\\nReferences\\n\\nLLM Powered Autonomous Agents\\n    \\nDate: June 23, 2023  |  Estimated Reading Time: 31 min  |  Author: Lilian Weng\\n\\n\\n \\n\\n\\nTable of Contents\\n\\n\\n\\nAgent System Overview\\n\\nComponent One: Planning\\n\\nTask Decomposition\\n\\nSelf-Reflection\\n\\n\\nComponent Two: Memory\\n\\nTypes of Memory\\n\\nMaximum Inner Product Search (MIPS)\\n\\n(3) Task execution: Expert models execute on the specific tasks and log results.\\nInstruction:\\n\\n18. Send Tweet: \"send_tweet\", args: \"text\": \"<text>\"\\n19. Do Nothing: \"do_nothing\", args:\\n20. Task Complete (Shutdown): \"task_complete\", args: \"reason\": \"<reason>\"\\n\\nExtrinsic Hallucinations in LLMs | Lil\\'Log\\n\\n\\n\\n\\n\\n\\n\\n\\n\\n\\n\\n\\n\\n\\n\\n\\n\\n\\n\\n\\n\\n\\n\\n\\n\\n\\n\\n\\n\\n\\n\\n\\n\\n\\n\\n\\n\\n\\n\\nLil\\'Log\\n\\n\\n\\n\\n\\n\\n\\n\\n\\n\\n\\n\\n\\n\\n\\n\\n\\n|\\n\\n\\n\\n\\n\\n\\nPosts\\n\\n\\n\\n\\nArchive\\n\\n\\n\\n\\nSearch\\n\\n\\n\\n\\nTags\\n\\n\\n\\n\\nFAQ\\n\\nComponent One: Planning#\\nA complicated task usually involves many steps. An agent needs to know what they are and plan ahead.\\nTask Decomposition#\\n\\nWith the input and the inference results, the AI assistant needs to describe the process and results. The previous stages can be formed as - User Input: {{ User Input }}, Task Planning: {{ Tasks }}, Model Selection: {{ Model Assignment }}, Task Execution: {{ Predictions }}. You must first answer the user\\'s request in a straightforward manner. Then describe the task process and show your analysis and model inference results to the user in the first person. If inference results contain a file\\n\\n[24] DeepSeek-AI. “DeepSeek-V3 Technical Report.” arXiv preprint arXiv:2412.19437 (2024).\\n[25] DeepSeek-AI. “DeepSeek-R1: Incentivizing Reasoning Capability in LLMs via Reinforcement Learning.”. arXiv preprint arXiv:2501.12948 (2025).', name='retrieve_blog_posts', id='8eed83ae-e984-4213-ae94-747bc027a6e6', tool_call_id='call_ThWzbVlkvCagSfmhOQ0yQxWn')\n",
            "AIMessage(content='Task decomposition is the process of breaking down complex tasks into smaller, manageable steps or subgoals, which can be achieved through various methods, such as prompting a large language model (LLM) or using specific instructions. This approach enhances the model\\'s performance by allowing it to \"think step by step,\" effectively transforming larger tasks into simpler ones. It facilitates better planning and execution by clarifying the overall process and guiding the model’s reasoning.', additional_kwargs={}, response_metadata={}, id='81cb7917-2c59-4174-a6e5-5709e91e8be4')\n",
            "HumanMessage(content='what is Component of Memory', additional_kwargs={}, response_metadata={}, id='23a4e88c-ae0a-43e4-b6fc-368854f882c2')\n",
            "AIMessage(content='', additional_kwargs={'tool_calls': [{'id': 'call_vmEKcqIC4XwosJ4j3C44vTzo', 'function': {'arguments': '{\"query\":\"Components of Memory in LLMs\"}', 'name': 'retrieve_blog_posts'}, 'type': 'function'}], 'refusal': None}, response_metadata={'token_usage': {'completion_tokens': 22, 'prompt_tokens': 1087, 'total_tokens': 1109, 'completion_tokens_details': {'accepted_prediction_tokens': 0, 'audio_tokens': 0, 'reasoning_tokens': 0, 'rejected_prediction_tokens': 0}, 'prompt_tokens_details': {'audio_tokens': 0, 'cached_tokens': 0}}, 'model_name': 'gpt-4o-mini-2024-07-18', 'system_fingerprint': 'fp_efad92c60b', 'id': 'chatcmpl-CJvIQH3Db1ZrW6gmfyQDShiFrnGWH', 'service_tier': None, 'finish_reason': 'tool_calls', 'logprobs': None}, id='run--fe8144eb-e102-4b3f-8f8b-7060b99ea0a5-0', tool_calls=[{'name': 'retrieve_blog_posts', 'args': {'query': 'Components of Memory in LLMs'}, 'id': 'call_vmEKcqIC4XwosJ4j3C44vTzo', 'type': 'tool_call'}], usage_metadata={'input_tokens': 1087, 'output_tokens': 22, 'total_tokens': 1109, 'input_token_details': {'audio': 0, 'cache_read': 0}, 'output_token_details': {'audio': 0, 'reasoning': 0}})\n",
            "ToolMessage(content='memory as an information retrieval mechanism. Within RECITE’s recite-and-answer scheme, the LLM is asked to first recite relevant information and then generate the output. Precisely, we can use few-shot in-context prompting to teach the model to generate recitation and then generate answers conditioned on recitation. Further it can be combined with self-consistency ensemble consuming multiple samples and extended to support multi-hop QA.\\n\\nComponent Two: Memory#\\n(Big thank you to ChatGPT for helping me draft this section. I’ve learned a lot about the human brain and data structure for fast MIPS in my conversations with ChatGPT.)\\nTypes of Memory#\\nMemory can be defined as the processes used to acquire, store, retain, and later retrieve information. There are several types of memory in human brains.\\n\\nTable of Contents\\n\\n\\n\\nAgent System Overview\\n\\nComponent One: Planning\\n\\nTask Decomposition\\n\\nSelf-Reflection\\n\\n\\nComponent Two: Memory\\n\\nTypes of Memory\\n\\nMaximum Inner Product Search (MIPS)\\n\\n\\nComponent Three: Tool Use\\n\\nCase Studies\\n\\nScientific Discovery Agent\\n\\nGenerative Agents Simulation\\n\\nProof-of-Concept Examples\\n\\n\\nChallenges\\n\\nCitation\\n\\nReferences\\n\\nLLM Powered Autonomous Agents\\n    \\nDate: June 23, 2023  |  Estimated Reading Time: 31 min  |  Author: Lilian Weng\\n\\n\\n \\n\\n\\nTable of Contents\\n\\n\\n\\nAgent System Overview\\n\\nComponent One: Planning\\n\\nTask Decomposition\\n\\nSelf-Reflection\\n\\n\\nComponent Two: Memory\\n\\nTypes of Memory\\n\\nMaximum Inner Product Search (MIPS)\\n\\nLong-Term Memory (LTM): Long-term memory can store information for a remarkably long time, ranging from a few days to decades, with an essentially unlimited storage capacity. There are two subtypes of LTM:\\n\\n[10] Xuezhi Wang, et al. “Self-consistency Improves Chain of Thought Reasoning in Language Models.”. ACL 2023.\\n[11] Ryo Kamoi, et al. “When Can LLMs Actually Correct Their Own Mistakes? A Critical Survey of Self-Correction of LLMs.”. TACL 2024.\\n\\nChatGPT Plugins and OpenAI API  function calling are good examples of LLMs augmented with tool use capability working in practice. The collection of tool APIs can be provided by other developers (as in Plugins) or self-defined (as in function calls).\\n\\nShort-Term Memory (STM) or Working Memory: It stores information that we are currently aware of and needed to carry out complex cognitive tasks such as learning and reasoning. Short-term memory is believed to have the capacity of about 7 items (Miller 1956) and lasts for 20-30 seconds.\\n\\nReliability of natural language interface: Current agent system relies on natural language as an interface between LLMs and external components such as memory and tools. However, the reliability of model outputs is questionable, as LLMs may make formatting errors and occasionally exhibit rebellious behavior (e.g. refuse to follow an instruction). Consequently, much of the agent demo code focuses on parsing model output.\\n\\n\\nCitation#\\nCited as:', name='retrieve_blog_posts', id='e17e06d8-42ac-4d97-a0e2-bec51904e7ff', tool_call_id='call_vmEKcqIC4XwosJ4j3C44vTzo')\n",
            "AIMessage(content='The components of memory include Long-Term Memory (LTM) and Short-Term Memory (STM). LTM can retain information for a long period, while STM holds information temporarily for immediate tasks, typically lasting 20-30 seconds. Each type has distinct functions and capacities relevant to cognitive processes.', additional_kwargs={}, response_metadata={}, id='c6bcd666-21cb-45b8-9e07-117c99aa750c')\n",
            "HumanMessage(content='need all i asked before to you and need this in list of points ', additional_kwargs={}, response_metadata={}, id='e7f595f8-4849-4ae2-919d-55a0cb9ab67c')\n",
            "AIMessage(content='Here’s a summary of the information you\\'ve inquired about, formatted as a list of points:\\n\\n### GPT-5 Architecture and Advancements:\\n1. **Multimodal Large Language Model:** Developed by OpenAI.\\n2. **Unified Architecture:** Allows for intelligent routing of user requests.\\n3. **Enhanced Reasoning:** Improved instruction-following capabilities.\\n4. **Multimodal Processing:** Capable of handling both text and voice.\\n5. **Router Mechanism:** Optimizes responses through specialized subnetworks.\\n6. **Targeted Development:** Aimed at enhancing collaboration on complex projects.\\n7. **Significant Leap in Capabilities:** Represents an advancement over previous generative pre-trained transformer models.\\n\\n### Agent System Overview and Task Decomposition:\\n1. **LLM as the Brain:** The model acts as the central processing unit in the agent system.\\n2. **Essential Components:**\\n   - **Planning:** Identifies and organizes necessary steps to complete tasks.\\n   - **Memory:** Stores, retains, and retrieves information.\\n   - **Tool Use:** Utilization of tools for executing specialized tasks.\\n3. **Task Decomposition:**\\n   - **Definition:** Breaking down complex tasks into smaller, manageable steps.\\n   - **Techniques:**\\n     - Simple prompting (e.g., \"Steps for XYZ.\\\\n1.\")\\n     - Task-specific instructions (e.g., \"Write a story outline.\")\\n     - Human inputs could also guide decomposition.\\n   - **Chain of Thought (CoT):** A prompting technique that encourages step-by-step reasoning.\\n\\n### Components of Memory:\\n1. **Types of Memory:**\\n   - **Long-Term Memory (LTM):** Stores information for extended periods; essentially unlimited capacity.\\n     - Two subtypes: [Additional details not specified in the previous context]\\n   - **Short-Term Memory (STM) or Working Memory:** Holds information temporarily for cognitive tasks; capacity is about 7 items, lasting for 20-30 seconds.\\n\\nIf you have any further questions or need additional details, feel free to ask!', additional_kwargs={'refusal': None}, response_metadata={'token_usage': {'completion_tokens': 415, 'prompt_tokens': 1813, 'total_tokens': 2228, 'completion_tokens_details': {'accepted_prediction_tokens': 0, 'audio_tokens': 0, 'reasoning_tokens': 0, 'rejected_prediction_tokens': 0}, 'prompt_tokens_details': {'audio_tokens': 0, 'cached_tokens': 1024}}, 'model_name': 'gpt-4o-mini-2024-07-18', 'system_fingerprint': 'fp_efad92c60b', 'id': 'chatcmpl-CJvJ1GNaYq1SXvhioc6bO8wJALoa5', 'service_tier': None, 'finish_reason': 'stop', 'logprobs': None}, id='run--a506c40a-ebc5-4b9e-8430-d3cfa494d739-0', usage_metadata={'input_tokens': 1813, 'output_tokens': 415, 'total_tokens': 2228, 'input_token_details': {'audio': 0, 'cache_read': 1024}, 'output_token_details': {'audio': 0, 'reasoning': 0}})\n"
          ]
        }
      ]
    },
    {
      "cell_type": "code",
      "source": [
        "graph.get_state(config).values.get(\"summary\",\"\")"
      ],
      "metadata": {
        "colab": {
          "base_uri": "https://localhost:8080/",
          "height": 123
        },
        "id": "wyigv2ij88EQ",
        "outputId": "68813195-d9e1-40f2-adbb-666afbb7661f"
      },
      "execution_count": null,
      "outputs": [
        {
          "output_type": "execute_result",
          "data": {
            "text/plain": [
              "\"In the conversation, the user inquired about the architecture and advancements of GPT-5 compared to its predecessors. The assistant provided an overview of GPT-5 as a multimodal large language model developed by OpenAI. Key features highlighted include its unified architecture that allows for intelligent routing of user requests, enhanced reasoning and instruction-following capabilities, multimodal processing (text and voice), a router mechanism for optimized responses through specialized subnetworks, and targeted development aimed at improving collaboration on complex projects. These advancements represent a significant leap in the capabilities of generative pre-trained transformer models.\\n\\nAdditionally, the user asked about the concept of Agent System Overview and Task Decomposition. The assistant explained that within a large language model (LLM)-powered autonomous agent system, the LLM acts as the brain, involving key components such as planning, memory, and tool use. Task decomposition was discussed as a method for breaking down complex tasks into smaller, manageable steps. This can be accomplished through different techniques, including simple prompting and task-specific instructions. The use of methods like Chain of Thought (CoT) enhances the model's reasoning by directing it to think step by step, which is essential for effective problem-solving and task execution.\""
            ],
            "application/vnd.google.colaboratory.intrinsic+json": {
              "type": "string"
            }
          },
          "metadata": {},
          "execution_count": 54
        }
      ]
    },
    {
      "cell_type": "code",
      "source": [],
      "metadata": {
        "id": "nu2qSjqj-gq2"
      },
      "execution_count": null,
      "outputs": []
    }
  ],
  "metadata": {
    "accelerator": "GPU",
    "colab": {
      "gpuType": "T4",
      "provenance": []
    },
    "kernelspec": {
      "display_name": "Python 3",
      "name": "python3"
    },
    "language_info": {
      "name": "python"
    },
    "widgets": {
      "application/vnd.jupyter.widget-state+json": {
        "3dc2d1c674a1414f8a6c09fbbf02f1df": {
          "model_module": "@jupyter-widgets/controls",
          "model_name": "HBoxModel",
          "model_module_version": "1.5.0",
          "state": {
            "_dom_classes": [],
            "_model_module": "@jupyter-widgets/controls",
            "_model_module_version": "1.5.0",
            "_model_name": "HBoxModel",
            "_view_count": null,
            "_view_module": "@jupyter-widgets/controls",
            "_view_module_version": "1.5.0",
            "_view_name": "HBoxView",
            "box_style": "",
            "children": [
              "IPY_MODEL_8dfcea0265c149f3878f5bf6de578045",
              "IPY_MODEL_3096fdf6e8a54a9680c78649ac17180c",
              "IPY_MODEL_642d53c2898c457f95c4cbd080c73422"
            ],
            "layout": "IPY_MODEL_f244301444ba4f5886fdc94fd839712c"
          }
        },
        "8dfcea0265c149f3878f5bf6de578045": {
          "model_module": "@jupyter-widgets/controls",
          "model_name": "HTMLModel",
          "model_module_version": "1.5.0",
          "state": {
            "_dom_classes": [],
            "_model_module": "@jupyter-widgets/controls",
            "_model_module_version": "1.5.0",
            "_model_name": "HTMLModel",
            "_view_count": null,
            "_view_module": "@jupyter-widgets/controls",
            "_view_module_version": "1.5.0",
            "_view_name": "HTMLView",
            "description": "",
            "description_tooltip": null,
            "layout": "IPY_MODEL_6dd4667c3b4944e6bf275b3379060f89",
            "placeholder": "​",
            "style": "IPY_MODEL_e9e29e6478464f8e93ec68d246299826",
            "value": "modules.json: 100%"
          }
        },
        "3096fdf6e8a54a9680c78649ac17180c": {
          "model_module": "@jupyter-widgets/controls",
          "model_name": "FloatProgressModel",
          "model_module_version": "1.5.0",
          "state": {
            "_dom_classes": [],
            "_model_module": "@jupyter-widgets/controls",
            "_model_module_version": "1.5.0",
            "_model_name": "FloatProgressModel",
            "_view_count": null,
            "_view_module": "@jupyter-widgets/controls",
            "_view_module_version": "1.5.0",
            "_view_name": "ProgressView",
            "bar_style": "success",
            "description": "",
            "description_tooltip": null,
            "layout": "IPY_MODEL_54dec151227744bd863d5dc8f42a05b8",
            "max": 229,
            "min": 0,
            "orientation": "horizontal",
            "style": "IPY_MODEL_7ad0b01f38a04b0ea094c447a88ee060",
            "value": 229
          }
        },
        "642d53c2898c457f95c4cbd080c73422": {
          "model_module": "@jupyter-widgets/controls",
          "model_name": "HTMLModel",
          "model_module_version": "1.5.0",
          "state": {
            "_dom_classes": [],
            "_model_module": "@jupyter-widgets/controls",
            "_model_module_version": "1.5.0",
            "_model_name": "HTMLModel",
            "_view_count": null,
            "_view_module": "@jupyter-widgets/controls",
            "_view_module_version": "1.5.0",
            "_view_name": "HTMLView",
            "description": "",
            "description_tooltip": null,
            "layout": "IPY_MODEL_bf442e1e0f9a43b3890f8c02300537e0",
            "placeholder": "​",
            "style": "IPY_MODEL_0d0e5fe213d34dd0a686d647758b3218",
            "value": " 229/229 [00:00&lt;00:00, 16.5kB/s]"
          }
        },
        "f244301444ba4f5886fdc94fd839712c": {
          "model_module": "@jupyter-widgets/base",
          "model_name": "LayoutModel",
          "model_module_version": "1.2.0",
          "state": {
            "_model_module": "@jupyter-widgets/base",
            "_model_module_version": "1.2.0",
            "_model_name": "LayoutModel",
            "_view_count": null,
            "_view_module": "@jupyter-widgets/base",
            "_view_module_version": "1.2.0",
            "_view_name": "LayoutView",
            "align_content": null,
            "align_items": null,
            "align_self": null,
            "border": null,
            "bottom": null,
            "display": null,
            "flex": null,
            "flex_flow": null,
            "grid_area": null,
            "grid_auto_columns": null,
            "grid_auto_flow": null,
            "grid_auto_rows": null,
            "grid_column": null,
            "grid_gap": null,
            "grid_row": null,
            "grid_template_areas": null,
            "grid_template_columns": null,
            "grid_template_rows": null,
            "height": null,
            "justify_content": null,
            "justify_items": null,
            "left": null,
            "margin": null,
            "max_height": null,
            "max_width": null,
            "min_height": null,
            "min_width": null,
            "object_fit": null,
            "object_position": null,
            "order": null,
            "overflow": null,
            "overflow_x": null,
            "overflow_y": null,
            "padding": null,
            "right": null,
            "top": null,
            "visibility": null,
            "width": null
          }
        },
        "6dd4667c3b4944e6bf275b3379060f89": {
          "model_module": "@jupyter-widgets/base",
          "model_name": "LayoutModel",
          "model_module_version": "1.2.0",
          "state": {
            "_model_module": "@jupyter-widgets/base",
            "_model_module_version": "1.2.0",
            "_model_name": "LayoutModel",
            "_view_count": null,
            "_view_module": "@jupyter-widgets/base",
            "_view_module_version": "1.2.0",
            "_view_name": "LayoutView",
            "align_content": null,
            "align_items": null,
            "align_self": null,
            "border": null,
            "bottom": null,
            "display": null,
            "flex": null,
            "flex_flow": null,
            "grid_area": null,
            "grid_auto_columns": null,
            "grid_auto_flow": null,
            "grid_auto_rows": null,
            "grid_column": null,
            "grid_gap": null,
            "grid_row": null,
            "grid_template_areas": null,
            "grid_template_columns": null,
            "grid_template_rows": null,
            "height": null,
            "justify_content": null,
            "justify_items": null,
            "left": null,
            "margin": null,
            "max_height": null,
            "max_width": null,
            "min_height": null,
            "min_width": null,
            "object_fit": null,
            "object_position": null,
            "order": null,
            "overflow": null,
            "overflow_x": null,
            "overflow_y": null,
            "padding": null,
            "right": null,
            "top": null,
            "visibility": null,
            "width": null
          }
        },
        "e9e29e6478464f8e93ec68d246299826": {
          "model_module": "@jupyter-widgets/controls",
          "model_name": "DescriptionStyleModel",
          "model_module_version": "1.5.0",
          "state": {
            "_model_module": "@jupyter-widgets/controls",
            "_model_module_version": "1.5.0",
            "_model_name": "DescriptionStyleModel",
            "_view_count": null,
            "_view_module": "@jupyter-widgets/base",
            "_view_module_version": "1.2.0",
            "_view_name": "StyleView",
            "description_width": ""
          }
        },
        "54dec151227744bd863d5dc8f42a05b8": {
          "model_module": "@jupyter-widgets/base",
          "model_name": "LayoutModel",
          "model_module_version": "1.2.0",
          "state": {
            "_model_module": "@jupyter-widgets/base",
            "_model_module_version": "1.2.0",
            "_model_name": "LayoutModel",
            "_view_count": null,
            "_view_module": "@jupyter-widgets/base",
            "_view_module_version": "1.2.0",
            "_view_name": "LayoutView",
            "align_content": null,
            "align_items": null,
            "align_self": null,
            "border": null,
            "bottom": null,
            "display": null,
            "flex": null,
            "flex_flow": null,
            "grid_area": null,
            "grid_auto_columns": null,
            "grid_auto_flow": null,
            "grid_auto_rows": null,
            "grid_column": null,
            "grid_gap": null,
            "grid_row": null,
            "grid_template_areas": null,
            "grid_template_columns": null,
            "grid_template_rows": null,
            "height": null,
            "justify_content": null,
            "justify_items": null,
            "left": null,
            "margin": null,
            "max_height": null,
            "max_width": null,
            "min_height": null,
            "min_width": null,
            "object_fit": null,
            "object_position": null,
            "order": null,
            "overflow": null,
            "overflow_x": null,
            "overflow_y": null,
            "padding": null,
            "right": null,
            "top": null,
            "visibility": null,
            "width": null
          }
        },
        "7ad0b01f38a04b0ea094c447a88ee060": {
          "model_module": "@jupyter-widgets/controls",
          "model_name": "ProgressStyleModel",
          "model_module_version": "1.5.0",
          "state": {
            "_model_module": "@jupyter-widgets/controls",
            "_model_module_version": "1.5.0",
            "_model_name": "ProgressStyleModel",
            "_view_count": null,
            "_view_module": "@jupyter-widgets/base",
            "_view_module_version": "1.2.0",
            "_view_name": "StyleView",
            "bar_color": null,
            "description_width": ""
          }
        },
        "bf442e1e0f9a43b3890f8c02300537e0": {
          "model_module": "@jupyter-widgets/base",
          "model_name": "LayoutModel",
          "model_module_version": "1.2.0",
          "state": {
            "_model_module": "@jupyter-widgets/base",
            "_model_module_version": "1.2.0",
            "_model_name": "LayoutModel",
            "_view_count": null,
            "_view_module": "@jupyter-widgets/base",
            "_view_module_version": "1.2.0",
            "_view_name": "LayoutView",
            "align_content": null,
            "align_items": null,
            "align_self": null,
            "border": null,
            "bottom": null,
            "display": null,
            "flex": null,
            "flex_flow": null,
            "grid_area": null,
            "grid_auto_columns": null,
            "grid_auto_flow": null,
            "grid_auto_rows": null,
            "grid_column": null,
            "grid_gap": null,
            "grid_row": null,
            "grid_template_areas": null,
            "grid_template_columns": null,
            "grid_template_rows": null,
            "height": null,
            "justify_content": null,
            "justify_items": null,
            "left": null,
            "margin": null,
            "max_height": null,
            "max_width": null,
            "min_height": null,
            "min_width": null,
            "object_fit": null,
            "object_position": null,
            "order": null,
            "overflow": null,
            "overflow_x": null,
            "overflow_y": null,
            "padding": null,
            "right": null,
            "top": null,
            "visibility": null,
            "width": null
          }
        },
        "0d0e5fe213d34dd0a686d647758b3218": {
          "model_module": "@jupyter-widgets/controls",
          "model_name": "DescriptionStyleModel",
          "model_module_version": "1.5.0",
          "state": {
            "_model_module": "@jupyter-widgets/controls",
            "_model_module_version": "1.5.0",
            "_model_name": "DescriptionStyleModel",
            "_view_count": null,
            "_view_module": "@jupyter-widgets/base",
            "_view_module_version": "1.2.0",
            "_view_name": "StyleView",
            "description_width": ""
          }
        },
        "a426138fc87d479e99db3b0c2bf9fa38": {
          "model_module": "@jupyter-widgets/controls",
          "model_name": "HBoxModel",
          "model_module_version": "1.5.0",
          "state": {
            "_dom_classes": [],
            "_model_module": "@jupyter-widgets/controls",
            "_model_module_version": "1.5.0",
            "_model_name": "HBoxModel",
            "_view_count": null,
            "_view_module": "@jupyter-widgets/controls",
            "_view_module_version": "1.5.0",
            "_view_name": "HBoxView",
            "box_style": "",
            "children": [
              "IPY_MODEL_20cb7e53bb7c432d82f3f1a3c5f79b24",
              "IPY_MODEL_9cdc005ada1c4d3c8a9491824f08c24e",
              "IPY_MODEL_5f50e56194e048f19dab2cb2d87479f7"
            ],
            "layout": "IPY_MODEL_d5c0eb6cb184477d95331ef897000ffe"
          }
        },
        "20cb7e53bb7c432d82f3f1a3c5f79b24": {
          "model_module": "@jupyter-widgets/controls",
          "model_name": "HTMLModel",
          "model_module_version": "1.5.0",
          "state": {
            "_dom_classes": [],
            "_model_module": "@jupyter-widgets/controls",
            "_model_module_version": "1.5.0",
            "_model_name": "HTMLModel",
            "_view_count": null,
            "_view_module": "@jupyter-widgets/controls",
            "_view_module_version": "1.5.0",
            "_view_name": "HTMLView",
            "description": "",
            "description_tooltip": null,
            "layout": "IPY_MODEL_26a7123678424bf2a884b7f9e16cf59f",
            "placeholder": "​",
            "style": "IPY_MODEL_392d1f9c1d7a475a804f01eb638133ed",
            "value": "config_sentence_transformers.json: 100%"
          }
        },
        "9cdc005ada1c4d3c8a9491824f08c24e": {
          "model_module": "@jupyter-widgets/controls",
          "model_name": "FloatProgressModel",
          "model_module_version": "1.5.0",
          "state": {
            "_dom_classes": [],
            "_model_module": "@jupyter-widgets/controls",
            "_model_module_version": "1.5.0",
            "_model_name": "FloatProgressModel",
            "_view_count": null,
            "_view_module": "@jupyter-widgets/controls",
            "_view_module_version": "1.5.0",
            "_view_name": "ProgressView",
            "bar_style": "success",
            "description": "",
            "description_tooltip": null,
            "layout": "IPY_MODEL_890009f4173740c5980e13545d28c260",
            "max": 122,
            "min": 0,
            "orientation": "horizontal",
            "style": "IPY_MODEL_9c243691968946f4bfaab00447cecb2b",
            "value": 122
          }
        },
        "5f50e56194e048f19dab2cb2d87479f7": {
          "model_module": "@jupyter-widgets/controls",
          "model_name": "HTMLModel",
          "model_module_version": "1.5.0",
          "state": {
            "_dom_classes": [],
            "_model_module": "@jupyter-widgets/controls",
            "_model_module_version": "1.5.0",
            "_model_name": "HTMLModel",
            "_view_count": null,
            "_view_module": "@jupyter-widgets/controls",
            "_view_module_version": "1.5.0",
            "_view_name": "HTMLView",
            "description": "",
            "description_tooltip": null,
            "layout": "IPY_MODEL_6b89e96456174b9faa2a071ae8023311",
            "placeholder": "​",
            "style": "IPY_MODEL_184c60615622487888b5ae2af5ad66df",
            "value": " 122/122 [00:00&lt;00:00, 13.9kB/s]"
          }
        },
        "d5c0eb6cb184477d95331ef897000ffe": {
          "model_module": "@jupyter-widgets/base",
          "model_name": "LayoutModel",
          "model_module_version": "1.2.0",
          "state": {
            "_model_module": "@jupyter-widgets/base",
            "_model_module_version": "1.2.0",
            "_model_name": "LayoutModel",
            "_view_count": null,
            "_view_module": "@jupyter-widgets/base",
            "_view_module_version": "1.2.0",
            "_view_name": "LayoutView",
            "align_content": null,
            "align_items": null,
            "align_self": null,
            "border": null,
            "bottom": null,
            "display": null,
            "flex": null,
            "flex_flow": null,
            "grid_area": null,
            "grid_auto_columns": null,
            "grid_auto_flow": null,
            "grid_auto_rows": null,
            "grid_column": null,
            "grid_gap": null,
            "grid_row": null,
            "grid_template_areas": null,
            "grid_template_columns": null,
            "grid_template_rows": null,
            "height": null,
            "justify_content": null,
            "justify_items": null,
            "left": null,
            "margin": null,
            "max_height": null,
            "max_width": null,
            "min_height": null,
            "min_width": null,
            "object_fit": null,
            "object_position": null,
            "order": null,
            "overflow": null,
            "overflow_x": null,
            "overflow_y": null,
            "padding": null,
            "right": null,
            "top": null,
            "visibility": null,
            "width": null
          }
        },
        "26a7123678424bf2a884b7f9e16cf59f": {
          "model_module": "@jupyter-widgets/base",
          "model_name": "LayoutModel",
          "model_module_version": "1.2.0",
          "state": {
            "_model_module": "@jupyter-widgets/base",
            "_model_module_version": "1.2.0",
            "_model_name": "LayoutModel",
            "_view_count": null,
            "_view_module": "@jupyter-widgets/base",
            "_view_module_version": "1.2.0",
            "_view_name": "LayoutView",
            "align_content": null,
            "align_items": null,
            "align_self": null,
            "border": null,
            "bottom": null,
            "display": null,
            "flex": null,
            "flex_flow": null,
            "grid_area": null,
            "grid_auto_columns": null,
            "grid_auto_flow": null,
            "grid_auto_rows": null,
            "grid_column": null,
            "grid_gap": null,
            "grid_row": null,
            "grid_template_areas": null,
            "grid_template_columns": null,
            "grid_template_rows": null,
            "height": null,
            "justify_content": null,
            "justify_items": null,
            "left": null,
            "margin": null,
            "max_height": null,
            "max_width": null,
            "min_height": null,
            "min_width": null,
            "object_fit": null,
            "object_position": null,
            "order": null,
            "overflow": null,
            "overflow_x": null,
            "overflow_y": null,
            "padding": null,
            "right": null,
            "top": null,
            "visibility": null,
            "width": null
          }
        },
        "392d1f9c1d7a475a804f01eb638133ed": {
          "model_module": "@jupyter-widgets/controls",
          "model_name": "DescriptionStyleModel",
          "model_module_version": "1.5.0",
          "state": {
            "_model_module": "@jupyter-widgets/controls",
            "_model_module_version": "1.5.0",
            "_model_name": "DescriptionStyleModel",
            "_view_count": null,
            "_view_module": "@jupyter-widgets/base",
            "_view_module_version": "1.2.0",
            "_view_name": "StyleView",
            "description_width": ""
          }
        },
        "890009f4173740c5980e13545d28c260": {
          "model_module": "@jupyter-widgets/base",
          "model_name": "LayoutModel",
          "model_module_version": "1.2.0",
          "state": {
            "_model_module": "@jupyter-widgets/base",
            "_model_module_version": "1.2.0",
            "_model_name": "LayoutModel",
            "_view_count": null,
            "_view_module": "@jupyter-widgets/base",
            "_view_module_version": "1.2.0",
            "_view_name": "LayoutView",
            "align_content": null,
            "align_items": null,
            "align_self": null,
            "border": null,
            "bottom": null,
            "display": null,
            "flex": null,
            "flex_flow": null,
            "grid_area": null,
            "grid_auto_columns": null,
            "grid_auto_flow": null,
            "grid_auto_rows": null,
            "grid_column": null,
            "grid_gap": null,
            "grid_row": null,
            "grid_template_areas": null,
            "grid_template_columns": null,
            "grid_template_rows": null,
            "height": null,
            "justify_content": null,
            "justify_items": null,
            "left": null,
            "margin": null,
            "max_height": null,
            "max_width": null,
            "min_height": null,
            "min_width": null,
            "object_fit": null,
            "object_position": null,
            "order": null,
            "overflow": null,
            "overflow_x": null,
            "overflow_y": null,
            "padding": null,
            "right": null,
            "top": null,
            "visibility": null,
            "width": null
          }
        },
        "9c243691968946f4bfaab00447cecb2b": {
          "model_module": "@jupyter-widgets/controls",
          "model_name": "ProgressStyleModel",
          "model_module_version": "1.5.0",
          "state": {
            "_model_module": "@jupyter-widgets/controls",
            "_model_module_version": "1.5.0",
            "_model_name": "ProgressStyleModel",
            "_view_count": null,
            "_view_module": "@jupyter-widgets/base",
            "_view_module_version": "1.2.0",
            "_view_name": "StyleView",
            "bar_color": null,
            "description_width": ""
          }
        },
        "6b89e96456174b9faa2a071ae8023311": {
          "model_module": "@jupyter-widgets/base",
          "model_name": "LayoutModel",
          "model_module_version": "1.2.0",
          "state": {
            "_model_module": "@jupyter-widgets/base",
            "_model_module_version": "1.2.0",
            "_model_name": "LayoutModel",
            "_view_count": null,
            "_view_module": "@jupyter-widgets/base",
            "_view_module_version": "1.2.0",
            "_view_name": "LayoutView",
            "align_content": null,
            "align_items": null,
            "align_self": null,
            "border": null,
            "bottom": null,
            "display": null,
            "flex": null,
            "flex_flow": null,
            "grid_area": null,
            "grid_auto_columns": null,
            "grid_auto_flow": null,
            "grid_auto_rows": null,
            "grid_column": null,
            "grid_gap": null,
            "grid_row": null,
            "grid_template_areas": null,
            "grid_template_columns": null,
            "grid_template_rows": null,
            "height": null,
            "justify_content": null,
            "justify_items": null,
            "left": null,
            "margin": null,
            "max_height": null,
            "max_width": null,
            "min_height": null,
            "min_width": null,
            "object_fit": null,
            "object_position": null,
            "order": null,
            "overflow": null,
            "overflow_x": null,
            "overflow_y": null,
            "padding": null,
            "right": null,
            "top": null,
            "visibility": null,
            "width": null
          }
        },
        "184c60615622487888b5ae2af5ad66df": {
          "model_module": "@jupyter-widgets/controls",
          "model_name": "DescriptionStyleModel",
          "model_module_version": "1.5.0",
          "state": {
            "_model_module": "@jupyter-widgets/controls",
            "_model_module_version": "1.5.0",
            "_model_name": "DescriptionStyleModel",
            "_view_count": null,
            "_view_module": "@jupyter-widgets/base",
            "_view_module_version": "1.2.0",
            "_view_name": "StyleView",
            "description_width": ""
          }
        },
        "c014b675c6524bed90cd58b53fb63642": {
          "model_module": "@jupyter-widgets/controls",
          "model_name": "HBoxModel",
          "model_module_version": "1.5.0",
          "state": {
            "_dom_classes": [],
            "_model_module": "@jupyter-widgets/controls",
            "_model_module_version": "1.5.0",
            "_model_name": "HBoxModel",
            "_view_count": null,
            "_view_module": "@jupyter-widgets/controls",
            "_view_module_version": "1.5.0",
            "_view_name": "HBoxView",
            "box_style": "",
            "children": [
              "IPY_MODEL_1c3a97ae61304439ac209dd93f6ae3c8",
              "IPY_MODEL_bfbd273a35f04af0ac2a1778672bf690",
              "IPY_MODEL_d3493488451446aba825dc8977201a98"
            ],
            "layout": "IPY_MODEL_ff0cbf645027448490953db4ece4c4c6"
          }
        },
        "1c3a97ae61304439ac209dd93f6ae3c8": {
          "model_module": "@jupyter-widgets/controls",
          "model_name": "HTMLModel",
          "model_module_version": "1.5.0",
          "state": {
            "_dom_classes": [],
            "_model_module": "@jupyter-widgets/controls",
            "_model_module_version": "1.5.0",
            "_model_name": "HTMLModel",
            "_view_count": null,
            "_view_module": "@jupyter-widgets/controls",
            "_view_module_version": "1.5.0",
            "_view_name": "HTMLView",
            "description": "",
            "description_tooltip": null,
            "layout": "IPY_MODEL_3f67e248b9f348339571dd9d5eb05859",
            "placeholder": "​",
            "style": "IPY_MODEL_996088e21e484de2a9b40acc82e72a10",
            "value": "README.md: "
          }
        },
        "bfbd273a35f04af0ac2a1778672bf690": {
          "model_module": "@jupyter-widgets/controls",
          "model_name": "FloatProgressModel",
          "model_module_version": "1.5.0",
          "state": {
            "_dom_classes": [],
            "_model_module": "@jupyter-widgets/controls",
            "_model_module_version": "1.5.0",
            "_model_name": "FloatProgressModel",
            "_view_count": null,
            "_view_module": "@jupyter-widgets/controls",
            "_view_module_version": "1.5.0",
            "_view_name": "ProgressView",
            "bar_style": "success",
            "description": "",
            "description_tooltip": null,
            "layout": "IPY_MODEL_4aea2aa46476440286b2704f2202c8a4",
            "max": 1,
            "min": 0,
            "orientation": "horizontal",
            "style": "IPY_MODEL_65b9c64793bf4619a88240a82469881e",
            "value": 1
          }
        },
        "d3493488451446aba825dc8977201a98": {
          "model_module": "@jupyter-widgets/controls",
          "model_name": "HTMLModel",
          "model_module_version": "1.5.0",
          "state": {
            "_dom_classes": [],
            "_model_module": "@jupyter-widgets/controls",
            "_model_module_version": "1.5.0",
            "_model_name": "HTMLModel",
            "_view_count": null,
            "_view_module": "@jupyter-widgets/controls",
            "_view_module_version": "1.5.0",
            "_view_name": "HTMLView",
            "description": "",
            "description_tooltip": null,
            "layout": "IPY_MODEL_b7c0d710e409490a8fa47bef3c0b6622",
            "placeholder": "​",
            "style": "IPY_MODEL_63915f4b4a524d4ca746f06daf666151",
            "value": " 3.89k/? [00:00&lt;00:00, 343kB/s]"
          }
        },
        "ff0cbf645027448490953db4ece4c4c6": {
          "model_module": "@jupyter-widgets/base",
          "model_name": "LayoutModel",
          "model_module_version": "1.2.0",
          "state": {
            "_model_module": "@jupyter-widgets/base",
            "_model_module_version": "1.2.0",
            "_model_name": "LayoutModel",
            "_view_count": null,
            "_view_module": "@jupyter-widgets/base",
            "_view_module_version": "1.2.0",
            "_view_name": "LayoutView",
            "align_content": null,
            "align_items": null,
            "align_self": null,
            "border": null,
            "bottom": null,
            "display": null,
            "flex": null,
            "flex_flow": null,
            "grid_area": null,
            "grid_auto_columns": null,
            "grid_auto_flow": null,
            "grid_auto_rows": null,
            "grid_column": null,
            "grid_gap": null,
            "grid_row": null,
            "grid_template_areas": null,
            "grid_template_columns": null,
            "grid_template_rows": null,
            "height": null,
            "justify_content": null,
            "justify_items": null,
            "left": null,
            "margin": null,
            "max_height": null,
            "max_width": null,
            "min_height": null,
            "min_width": null,
            "object_fit": null,
            "object_position": null,
            "order": null,
            "overflow": null,
            "overflow_x": null,
            "overflow_y": null,
            "padding": null,
            "right": null,
            "top": null,
            "visibility": null,
            "width": null
          }
        },
        "3f67e248b9f348339571dd9d5eb05859": {
          "model_module": "@jupyter-widgets/base",
          "model_name": "LayoutModel",
          "model_module_version": "1.2.0",
          "state": {
            "_model_module": "@jupyter-widgets/base",
            "_model_module_version": "1.2.0",
            "_model_name": "LayoutModel",
            "_view_count": null,
            "_view_module": "@jupyter-widgets/base",
            "_view_module_version": "1.2.0",
            "_view_name": "LayoutView",
            "align_content": null,
            "align_items": null,
            "align_self": null,
            "border": null,
            "bottom": null,
            "display": null,
            "flex": null,
            "flex_flow": null,
            "grid_area": null,
            "grid_auto_columns": null,
            "grid_auto_flow": null,
            "grid_auto_rows": null,
            "grid_column": null,
            "grid_gap": null,
            "grid_row": null,
            "grid_template_areas": null,
            "grid_template_columns": null,
            "grid_template_rows": null,
            "height": null,
            "justify_content": null,
            "justify_items": null,
            "left": null,
            "margin": null,
            "max_height": null,
            "max_width": null,
            "min_height": null,
            "min_width": null,
            "object_fit": null,
            "object_position": null,
            "order": null,
            "overflow": null,
            "overflow_x": null,
            "overflow_y": null,
            "padding": null,
            "right": null,
            "top": null,
            "visibility": null,
            "width": null
          }
        },
        "996088e21e484de2a9b40acc82e72a10": {
          "model_module": "@jupyter-widgets/controls",
          "model_name": "DescriptionStyleModel",
          "model_module_version": "1.5.0",
          "state": {
            "_model_module": "@jupyter-widgets/controls",
            "_model_module_version": "1.5.0",
            "_model_name": "DescriptionStyleModel",
            "_view_count": null,
            "_view_module": "@jupyter-widgets/base",
            "_view_module_version": "1.2.0",
            "_view_name": "StyleView",
            "description_width": ""
          }
        },
        "4aea2aa46476440286b2704f2202c8a4": {
          "model_module": "@jupyter-widgets/base",
          "model_name": "LayoutModel",
          "model_module_version": "1.2.0",
          "state": {
            "_model_module": "@jupyter-widgets/base",
            "_model_module_version": "1.2.0",
            "_model_name": "LayoutModel",
            "_view_count": null,
            "_view_module": "@jupyter-widgets/base",
            "_view_module_version": "1.2.0",
            "_view_name": "LayoutView",
            "align_content": null,
            "align_items": null,
            "align_self": null,
            "border": null,
            "bottom": null,
            "display": null,
            "flex": null,
            "flex_flow": null,
            "grid_area": null,
            "grid_auto_columns": null,
            "grid_auto_flow": null,
            "grid_auto_rows": null,
            "grid_column": null,
            "grid_gap": null,
            "grid_row": null,
            "grid_template_areas": null,
            "grid_template_columns": null,
            "grid_template_rows": null,
            "height": null,
            "justify_content": null,
            "justify_items": null,
            "left": null,
            "margin": null,
            "max_height": null,
            "max_width": null,
            "min_height": null,
            "min_width": null,
            "object_fit": null,
            "object_position": null,
            "order": null,
            "overflow": null,
            "overflow_x": null,
            "overflow_y": null,
            "padding": null,
            "right": null,
            "top": null,
            "visibility": null,
            "width": "20px"
          }
        },
        "65b9c64793bf4619a88240a82469881e": {
          "model_module": "@jupyter-widgets/controls",
          "model_name": "ProgressStyleModel",
          "model_module_version": "1.5.0",
          "state": {
            "_model_module": "@jupyter-widgets/controls",
            "_model_module_version": "1.5.0",
            "_model_name": "ProgressStyleModel",
            "_view_count": null,
            "_view_module": "@jupyter-widgets/base",
            "_view_module_version": "1.2.0",
            "_view_name": "StyleView",
            "bar_color": null,
            "description_width": ""
          }
        },
        "b7c0d710e409490a8fa47bef3c0b6622": {
          "model_module": "@jupyter-widgets/base",
          "model_name": "LayoutModel",
          "model_module_version": "1.2.0",
          "state": {
            "_model_module": "@jupyter-widgets/base",
            "_model_module_version": "1.2.0",
            "_model_name": "LayoutModel",
            "_view_count": null,
            "_view_module": "@jupyter-widgets/base",
            "_view_module_version": "1.2.0",
            "_view_name": "LayoutView",
            "align_content": null,
            "align_items": null,
            "align_self": null,
            "border": null,
            "bottom": null,
            "display": null,
            "flex": null,
            "flex_flow": null,
            "grid_area": null,
            "grid_auto_columns": null,
            "grid_auto_flow": null,
            "grid_auto_rows": null,
            "grid_column": null,
            "grid_gap": null,
            "grid_row": null,
            "grid_template_areas": null,
            "grid_template_columns": null,
            "grid_template_rows": null,
            "height": null,
            "justify_content": null,
            "justify_items": null,
            "left": null,
            "margin": null,
            "max_height": null,
            "max_width": null,
            "min_height": null,
            "min_width": null,
            "object_fit": null,
            "object_position": null,
            "order": null,
            "overflow": null,
            "overflow_x": null,
            "overflow_y": null,
            "padding": null,
            "right": null,
            "top": null,
            "visibility": null,
            "width": null
          }
        },
        "63915f4b4a524d4ca746f06daf666151": {
          "model_module": "@jupyter-widgets/controls",
          "model_name": "DescriptionStyleModel",
          "model_module_version": "1.5.0",
          "state": {
            "_model_module": "@jupyter-widgets/controls",
            "_model_module_version": "1.5.0",
            "_model_name": "DescriptionStyleModel",
            "_view_count": null,
            "_view_module": "@jupyter-widgets/base",
            "_view_module_version": "1.2.0",
            "_view_name": "StyleView",
            "description_width": ""
          }
        },
        "641991b9914743b281a606f36f528bef": {
          "model_module": "@jupyter-widgets/controls",
          "model_name": "HBoxModel",
          "model_module_version": "1.5.0",
          "state": {
            "_dom_classes": [],
            "_model_module": "@jupyter-widgets/controls",
            "_model_module_version": "1.5.0",
            "_model_name": "HBoxModel",
            "_view_count": null,
            "_view_module": "@jupyter-widgets/controls",
            "_view_module_version": "1.5.0",
            "_view_name": "HBoxView",
            "box_style": "",
            "children": [
              "IPY_MODEL_de01cc25260f4644acabbf15c0147acf",
              "IPY_MODEL_03e260b663c94db5a2bee7b6afef8164",
              "IPY_MODEL_ded1170dade743809f90dee9c96cfcc4"
            ],
            "layout": "IPY_MODEL_0059046388784d4bbc8a03c51c2b204e"
          }
        },
        "de01cc25260f4644acabbf15c0147acf": {
          "model_module": "@jupyter-widgets/controls",
          "model_name": "HTMLModel",
          "model_module_version": "1.5.0",
          "state": {
            "_dom_classes": [],
            "_model_module": "@jupyter-widgets/controls",
            "_model_module_version": "1.5.0",
            "_model_name": "HTMLModel",
            "_view_count": null,
            "_view_module": "@jupyter-widgets/controls",
            "_view_module_version": "1.5.0",
            "_view_name": "HTMLView",
            "description": "",
            "description_tooltip": null,
            "layout": "IPY_MODEL_6e7314ad14df4624a5d834e657c1faef",
            "placeholder": "​",
            "style": "IPY_MODEL_26a03bf680304f45b808ab700b985867",
            "value": "sentence_bert_config.json: 100%"
          }
        },
        "03e260b663c94db5a2bee7b6afef8164": {
          "model_module": "@jupyter-widgets/controls",
          "model_name": "FloatProgressModel",
          "model_module_version": "1.5.0",
          "state": {
            "_dom_classes": [],
            "_model_module": "@jupyter-widgets/controls",
            "_model_module_version": "1.5.0",
            "_model_name": "FloatProgressModel",
            "_view_count": null,
            "_view_module": "@jupyter-widgets/controls",
            "_view_module_version": "1.5.0",
            "_view_name": "ProgressView",
            "bar_style": "success",
            "description": "",
            "description_tooltip": null,
            "layout": "IPY_MODEL_69ebc9a3877248f8a88b7ba883a02a14",
            "max": 53,
            "min": 0,
            "orientation": "horizontal",
            "style": "IPY_MODEL_6bff9911ea1d434194a05e0eef24a577",
            "value": 53
          }
        },
        "ded1170dade743809f90dee9c96cfcc4": {
          "model_module": "@jupyter-widgets/controls",
          "model_name": "HTMLModel",
          "model_module_version": "1.5.0",
          "state": {
            "_dom_classes": [],
            "_model_module": "@jupyter-widgets/controls",
            "_model_module_version": "1.5.0",
            "_model_name": "HTMLModel",
            "_view_count": null,
            "_view_module": "@jupyter-widgets/controls",
            "_view_module_version": "1.5.0",
            "_view_name": "HTMLView",
            "description": "",
            "description_tooltip": null,
            "layout": "IPY_MODEL_68ae4cfff6c44be59c50569978e5593d",
            "placeholder": "​",
            "style": "IPY_MODEL_33962d0dd2c34481b2f4edfa47e60752",
            "value": " 53.0/53.0 [00:00&lt;00:00, 6.86kB/s]"
          }
        },
        "0059046388784d4bbc8a03c51c2b204e": {
          "model_module": "@jupyter-widgets/base",
          "model_name": "LayoutModel",
          "model_module_version": "1.2.0",
          "state": {
            "_model_module": "@jupyter-widgets/base",
            "_model_module_version": "1.2.0",
            "_model_name": "LayoutModel",
            "_view_count": null,
            "_view_module": "@jupyter-widgets/base",
            "_view_module_version": "1.2.0",
            "_view_name": "LayoutView",
            "align_content": null,
            "align_items": null,
            "align_self": null,
            "border": null,
            "bottom": null,
            "display": null,
            "flex": null,
            "flex_flow": null,
            "grid_area": null,
            "grid_auto_columns": null,
            "grid_auto_flow": null,
            "grid_auto_rows": null,
            "grid_column": null,
            "grid_gap": null,
            "grid_row": null,
            "grid_template_areas": null,
            "grid_template_columns": null,
            "grid_template_rows": null,
            "height": null,
            "justify_content": null,
            "justify_items": null,
            "left": null,
            "margin": null,
            "max_height": null,
            "max_width": null,
            "min_height": null,
            "min_width": null,
            "object_fit": null,
            "object_position": null,
            "order": null,
            "overflow": null,
            "overflow_x": null,
            "overflow_y": null,
            "padding": null,
            "right": null,
            "top": null,
            "visibility": null,
            "width": null
          }
        },
        "6e7314ad14df4624a5d834e657c1faef": {
          "model_module": "@jupyter-widgets/base",
          "model_name": "LayoutModel",
          "model_module_version": "1.2.0",
          "state": {
            "_model_module": "@jupyter-widgets/base",
            "_model_module_version": "1.2.0",
            "_model_name": "LayoutModel",
            "_view_count": null,
            "_view_module": "@jupyter-widgets/base",
            "_view_module_version": "1.2.0",
            "_view_name": "LayoutView",
            "align_content": null,
            "align_items": null,
            "align_self": null,
            "border": null,
            "bottom": null,
            "display": null,
            "flex": null,
            "flex_flow": null,
            "grid_area": null,
            "grid_auto_columns": null,
            "grid_auto_flow": null,
            "grid_auto_rows": null,
            "grid_column": null,
            "grid_gap": null,
            "grid_row": null,
            "grid_template_areas": null,
            "grid_template_columns": null,
            "grid_template_rows": null,
            "height": null,
            "justify_content": null,
            "justify_items": null,
            "left": null,
            "margin": null,
            "max_height": null,
            "max_width": null,
            "min_height": null,
            "min_width": null,
            "object_fit": null,
            "object_position": null,
            "order": null,
            "overflow": null,
            "overflow_x": null,
            "overflow_y": null,
            "padding": null,
            "right": null,
            "top": null,
            "visibility": null,
            "width": null
          }
        },
        "26a03bf680304f45b808ab700b985867": {
          "model_module": "@jupyter-widgets/controls",
          "model_name": "DescriptionStyleModel",
          "model_module_version": "1.5.0",
          "state": {
            "_model_module": "@jupyter-widgets/controls",
            "_model_module_version": "1.5.0",
            "_model_name": "DescriptionStyleModel",
            "_view_count": null,
            "_view_module": "@jupyter-widgets/base",
            "_view_module_version": "1.2.0",
            "_view_name": "StyleView",
            "description_width": ""
          }
        },
        "69ebc9a3877248f8a88b7ba883a02a14": {
          "model_module": "@jupyter-widgets/base",
          "model_name": "LayoutModel",
          "model_module_version": "1.2.0",
          "state": {
            "_model_module": "@jupyter-widgets/base",
            "_model_module_version": "1.2.0",
            "_model_name": "LayoutModel",
            "_view_count": null,
            "_view_module": "@jupyter-widgets/base",
            "_view_module_version": "1.2.0",
            "_view_name": "LayoutView",
            "align_content": null,
            "align_items": null,
            "align_self": null,
            "border": null,
            "bottom": null,
            "display": null,
            "flex": null,
            "flex_flow": null,
            "grid_area": null,
            "grid_auto_columns": null,
            "grid_auto_flow": null,
            "grid_auto_rows": null,
            "grid_column": null,
            "grid_gap": null,
            "grid_row": null,
            "grid_template_areas": null,
            "grid_template_columns": null,
            "grid_template_rows": null,
            "height": null,
            "justify_content": null,
            "justify_items": null,
            "left": null,
            "margin": null,
            "max_height": null,
            "max_width": null,
            "min_height": null,
            "min_width": null,
            "object_fit": null,
            "object_position": null,
            "order": null,
            "overflow": null,
            "overflow_x": null,
            "overflow_y": null,
            "padding": null,
            "right": null,
            "top": null,
            "visibility": null,
            "width": null
          }
        },
        "6bff9911ea1d434194a05e0eef24a577": {
          "model_module": "@jupyter-widgets/controls",
          "model_name": "ProgressStyleModel",
          "model_module_version": "1.5.0",
          "state": {
            "_model_module": "@jupyter-widgets/controls",
            "_model_module_version": "1.5.0",
            "_model_name": "ProgressStyleModel",
            "_view_count": null,
            "_view_module": "@jupyter-widgets/base",
            "_view_module_version": "1.2.0",
            "_view_name": "StyleView",
            "bar_color": null,
            "description_width": ""
          }
        },
        "68ae4cfff6c44be59c50569978e5593d": {
          "model_module": "@jupyter-widgets/base",
          "model_name": "LayoutModel",
          "model_module_version": "1.2.0",
          "state": {
            "_model_module": "@jupyter-widgets/base",
            "_model_module_version": "1.2.0",
            "_model_name": "LayoutModel",
            "_view_count": null,
            "_view_module": "@jupyter-widgets/base",
            "_view_module_version": "1.2.0",
            "_view_name": "LayoutView",
            "align_content": null,
            "align_items": null,
            "align_self": null,
            "border": null,
            "bottom": null,
            "display": null,
            "flex": null,
            "flex_flow": null,
            "grid_area": null,
            "grid_auto_columns": null,
            "grid_auto_flow": null,
            "grid_auto_rows": null,
            "grid_column": null,
            "grid_gap": null,
            "grid_row": null,
            "grid_template_areas": null,
            "grid_template_columns": null,
            "grid_template_rows": null,
            "height": null,
            "justify_content": null,
            "justify_items": null,
            "left": null,
            "margin": null,
            "max_height": null,
            "max_width": null,
            "min_height": null,
            "min_width": null,
            "object_fit": null,
            "object_position": null,
            "order": null,
            "overflow": null,
            "overflow_x": null,
            "overflow_y": null,
            "padding": null,
            "right": null,
            "top": null,
            "visibility": null,
            "width": null
          }
        },
        "33962d0dd2c34481b2f4edfa47e60752": {
          "model_module": "@jupyter-widgets/controls",
          "model_name": "DescriptionStyleModel",
          "model_module_version": "1.5.0",
          "state": {
            "_model_module": "@jupyter-widgets/controls",
            "_model_module_version": "1.5.0",
            "_model_name": "DescriptionStyleModel",
            "_view_count": null,
            "_view_module": "@jupyter-widgets/base",
            "_view_module_version": "1.2.0",
            "_view_name": "StyleView",
            "description_width": ""
          }
        },
        "55d6175bfa8a4627b812a6fccbf47491": {
          "model_module": "@jupyter-widgets/controls",
          "model_name": "HBoxModel",
          "model_module_version": "1.5.0",
          "state": {
            "_dom_classes": [],
            "_model_module": "@jupyter-widgets/controls",
            "_model_module_version": "1.5.0",
            "_model_name": "HBoxModel",
            "_view_count": null,
            "_view_module": "@jupyter-widgets/controls",
            "_view_module_version": "1.5.0",
            "_view_name": "HBoxView",
            "box_style": "",
            "children": [
              "IPY_MODEL_f5fd29936ac045a5972e69a1fe3e7f05",
              "IPY_MODEL_0668913dcc984fe5909ac27a6bbc9152",
              "IPY_MODEL_58245e5ebe59484bb8717140f9f1ebf7"
            ],
            "layout": "IPY_MODEL_7fc1edb24b2044a9ab95eab376fa7515"
          }
        },
        "f5fd29936ac045a5972e69a1fe3e7f05": {
          "model_module": "@jupyter-widgets/controls",
          "model_name": "HTMLModel",
          "model_module_version": "1.5.0",
          "state": {
            "_dom_classes": [],
            "_model_module": "@jupyter-widgets/controls",
            "_model_module_version": "1.5.0",
            "_model_name": "HTMLModel",
            "_view_count": null,
            "_view_module": "@jupyter-widgets/controls",
            "_view_module_version": "1.5.0",
            "_view_name": "HTMLView",
            "description": "",
            "description_tooltip": null,
            "layout": "IPY_MODEL_fe71bed00c9b41f29c4b6027b9c1f1cf",
            "placeholder": "​",
            "style": "IPY_MODEL_54b9c9ea2b494e5685841ec0eaccd2ae",
            "value": "config.json: 100%"
          }
        },
        "0668913dcc984fe5909ac27a6bbc9152": {
          "model_module": "@jupyter-widgets/controls",
          "model_name": "FloatProgressModel",
          "model_module_version": "1.5.0",
          "state": {
            "_dom_classes": [],
            "_model_module": "@jupyter-widgets/controls",
            "_model_module_version": "1.5.0",
            "_model_name": "FloatProgressModel",
            "_view_count": null,
            "_view_module": "@jupyter-widgets/controls",
            "_view_module_version": "1.5.0",
            "_view_name": "ProgressView",
            "bar_style": "success",
            "description": "",
            "description_tooltip": null,
            "layout": "IPY_MODEL_102de0207c8a4a668e85bd0b24322a7f",
            "max": 645,
            "min": 0,
            "orientation": "horizontal",
            "style": "IPY_MODEL_360729a8fcdc4182ba1bda9f2a52486f",
            "value": 645
          }
        },
        "58245e5ebe59484bb8717140f9f1ebf7": {
          "model_module": "@jupyter-widgets/controls",
          "model_name": "HTMLModel",
          "model_module_version": "1.5.0",
          "state": {
            "_dom_classes": [],
            "_model_module": "@jupyter-widgets/controls",
            "_model_module_version": "1.5.0",
            "_model_name": "HTMLModel",
            "_view_count": null,
            "_view_module": "@jupyter-widgets/controls",
            "_view_module_version": "1.5.0",
            "_view_name": "HTMLView",
            "description": "",
            "description_tooltip": null,
            "layout": "IPY_MODEL_53db6b4b77cd4a4cae44bbe411e13176",
            "placeholder": "​",
            "style": "IPY_MODEL_236854b4f453424ca8040fca5cf2cd0f",
            "value": " 645/645 [00:00&lt;00:00, 79.9kB/s]"
          }
        },
        "7fc1edb24b2044a9ab95eab376fa7515": {
          "model_module": "@jupyter-widgets/base",
          "model_name": "LayoutModel",
          "model_module_version": "1.2.0",
          "state": {
            "_model_module": "@jupyter-widgets/base",
            "_model_module_version": "1.2.0",
            "_model_name": "LayoutModel",
            "_view_count": null,
            "_view_module": "@jupyter-widgets/base",
            "_view_module_version": "1.2.0",
            "_view_name": "LayoutView",
            "align_content": null,
            "align_items": null,
            "align_self": null,
            "border": null,
            "bottom": null,
            "display": null,
            "flex": null,
            "flex_flow": null,
            "grid_area": null,
            "grid_auto_columns": null,
            "grid_auto_flow": null,
            "grid_auto_rows": null,
            "grid_column": null,
            "grid_gap": null,
            "grid_row": null,
            "grid_template_areas": null,
            "grid_template_columns": null,
            "grid_template_rows": null,
            "height": null,
            "justify_content": null,
            "justify_items": null,
            "left": null,
            "margin": null,
            "max_height": null,
            "max_width": null,
            "min_height": null,
            "min_width": null,
            "object_fit": null,
            "object_position": null,
            "order": null,
            "overflow": null,
            "overflow_x": null,
            "overflow_y": null,
            "padding": null,
            "right": null,
            "top": null,
            "visibility": null,
            "width": null
          }
        },
        "fe71bed00c9b41f29c4b6027b9c1f1cf": {
          "model_module": "@jupyter-widgets/base",
          "model_name": "LayoutModel",
          "model_module_version": "1.2.0",
          "state": {
            "_model_module": "@jupyter-widgets/base",
            "_model_module_version": "1.2.0",
            "_model_name": "LayoutModel",
            "_view_count": null,
            "_view_module": "@jupyter-widgets/base",
            "_view_module_version": "1.2.0",
            "_view_name": "LayoutView",
            "align_content": null,
            "align_items": null,
            "align_self": null,
            "border": null,
            "bottom": null,
            "display": null,
            "flex": null,
            "flex_flow": null,
            "grid_area": null,
            "grid_auto_columns": null,
            "grid_auto_flow": null,
            "grid_auto_rows": null,
            "grid_column": null,
            "grid_gap": null,
            "grid_row": null,
            "grid_template_areas": null,
            "grid_template_columns": null,
            "grid_template_rows": null,
            "height": null,
            "justify_content": null,
            "justify_items": null,
            "left": null,
            "margin": null,
            "max_height": null,
            "max_width": null,
            "min_height": null,
            "min_width": null,
            "object_fit": null,
            "object_position": null,
            "order": null,
            "overflow": null,
            "overflow_x": null,
            "overflow_y": null,
            "padding": null,
            "right": null,
            "top": null,
            "visibility": null,
            "width": null
          }
        },
        "54b9c9ea2b494e5685841ec0eaccd2ae": {
          "model_module": "@jupyter-widgets/controls",
          "model_name": "DescriptionStyleModel",
          "model_module_version": "1.5.0",
          "state": {
            "_model_module": "@jupyter-widgets/controls",
            "_model_module_version": "1.5.0",
            "_model_name": "DescriptionStyleModel",
            "_view_count": null,
            "_view_module": "@jupyter-widgets/base",
            "_view_module_version": "1.2.0",
            "_view_name": "StyleView",
            "description_width": ""
          }
        },
        "102de0207c8a4a668e85bd0b24322a7f": {
          "model_module": "@jupyter-widgets/base",
          "model_name": "LayoutModel",
          "model_module_version": "1.2.0",
          "state": {
            "_model_module": "@jupyter-widgets/base",
            "_model_module_version": "1.2.0",
            "_model_name": "LayoutModel",
            "_view_count": null,
            "_view_module": "@jupyter-widgets/base",
            "_view_module_version": "1.2.0",
            "_view_name": "LayoutView",
            "align_content": null,
            "align_items": null,
            "align_self": null,
            "border": null,
            "bottom": null,
            "display": null,
            "flex": null,
            "flex_flow": null,
            "grid_area": null,
            "grid_auto_columns": null,
            "grid_auto_flow": null,
            "grid_auto_rows": null,
            "grid_column": null,
            "grid_gap": null,
            "grid_row": null,
            "grid_template_areas": null,
            "grid_template_columns": null,
            "grid_template_rows": null,
            "height": null,
            "justify_content": null,
            "justify_items": null,
            "left": null,
            "margin": null,
            "max_height": null,
            "max_width": null,
            "min_height": null,
            "min_width": null,
            "object_fit": null,
            "object_position": null,
            "order": null,
            "overflow": null,
            "overflow_x": null,
            "overflow_y": null,
            "padding": null,
            "right": null,
            "top": null,
            "visibility": null,
            "width": null
          }
        },
        "360729a8fcdc4182ba1bda9f2a52486f": {
          "model_module": "@jupyter-widgets/controls",
          "model_name": "ProgressStyleModel",
          "model_module_version": "1.5.0",
          "state": {
            "_model_module": "@jupyter-widgets/controls",
            "_model_module_version": "1.5.0",
            "_model_name": "ProgressStyleModel",
            "_view_count": null,
            "_view_module": "@jupyter-widgets/base",
            "_view_module_version": "1.2.0",
            "_view_name": "StyleView",
            "bar_color": null,
            "description_width": ""
          }
        },
        "53db6b4b77cd4a4cae44bbe411e13176": {
          "model_module": "@jupyter-widgets/base",
          "model_name": "LayoutModel",
          "model_module_version": "1.2.0",
          "state": {
            "_model_module": "@jupyter-widgets/base",
            "_model_module_version": "1.2.0",
            "_model_name": "LayoutModel",
            "_view_count": null,
            "_view_module": "@jupyter-widgets/base",
            "_view_module_version": "1.2.0",
            "_view_name": "LayoutView",
            "align_content": null,
            "align_items": null,
            "align_self": null,
            "border": null,
            "bottom": null,
            "display": null,
            "flex": null,
            "flex_flow": null,
            "grid_area": null,
            "grid_auto_columns": null,
            "grid_auto_flow": null,
            "grid_auto_rows": null,
            "grid_column": null,
            "grid_gap": null,
            "grid_row": null,
            "grid_template_areas": null,
            "grid_template_columns": null,
            "grid_template_rows": null,
            "height": null,
            "justify_content": null,
            "justify_items": null,
            "left": null,
            "margin": null,
            "max_height": null,
            "max_width": null,
            "min_height": null,
            "min_width": null,
            "object_fit": null,
            "object_position": null,
            "order": null,
            "overflow": null,
            "overflow_x": null,
            "overflow_y": null,
            "padding": null,
            "right": null,
            "top": null,
            "visibility": null,
            "width": null
          }
        },
        "236854b4f453424ca8040fca5cf2cd0f": {
          "model_module": "@jupyter-widgets/controls",
          "model_name": "DescriptionStyleModel",
          "model_module_version": "1.5.0",
          "state": {
            "_model_module": "@jupyter-widgets/controls",
            "_model_module_version": "1.5.0",
            "_model_name": "DescriptionStyleModel",
            "_view_count": null,
            "_view_module": "@jupyter-widgets/base",
            "_view_module_version": "1.2.0",
            "_view_name": "StyleView",
            "description_width": ""
          }
        },
        "fd4f3c11a4a445a3b2fab6fa315b6e5d": {
          "model_module": "@jupyter-widgets/controls",
          "model_name": "HBoxModel",
          "model_module_version": "1.5.0",
          "state": {
            "_dom_classes": [],
            "_model_module": "@jupyter-widgets/controls",
            "_model_module_version": "1.5.0",
            "_model_name": "HBoxModel",
            "_view_count": null,
            "_view_module": "@jupyter-widgets/controls",
            "_view_module_version": "1.5.0",
            "_view_name": "HBoxView",
            "box_style": "",
            "children": [
              "IPY_MODEL_1acb1e981c9041b983068b4d32b22ee9",
              "IPY_MODEL_59c713a8ad134c8dbd0f63de95bb8d9c",
              "IPY_MODEL_7f1f5b0f510e45ddb5225df36803f83d"
            ],
            "layout": "IPY_MODEL_e06954c3807743e2861ef0cd65871c33"
          }
        },
        "1acb1e981c9041b983068b4d32b22ee9": {
          "model_module": "@jupyter-widgets/controls",
          "model_name": "HTMLModel",
          "model_module_version": "1.5.0",
          "state": {
            "_dom_classes": [],
            "_model_module": "@jupyter-widgets/controls",
            "_model_module_version": "1.5.0",
            "_model_name": "HTMLModel",
            "_view_count": null,
            "_view_module": "@jupyter-widgets/controls",
            "_view_module_version": "1.5.0",
            "_view_name": "HTMLView",
            "description": "",
            "description_tooltip": null,
            "layout": "IPY_MODEL_5ef38f7dcd064881b0334cf6eef37873",
            "placeholder": "​",
            "style": "IPY_MODEL_a0a2eb4b87924b98841d711241fb1180",
            "value": "model.safetensors: 100%"
          }
        },
        "59c713a8ad134c8dbd0f63de95bb8d9c": {
          "model_module": "@jupyter-widgets/controls",
          "model_name": "FloatProgressModel",
          "model_module_version": "1.5.0",
          "state": {
            "_dom_classes": [],
            "_model_module": "@jupyter-widgets/controls",
            "_model_module_version": "1.5.0",
            "_model_name": "FloatProgressModel",
            "_view_count": null,
            "_view_module": "@jupyter-widgets/controls",
            "_view_module_version": "1.5.0",
            "_view_name": "ProgressView",
            "bar_style": "success",
            "description": "",
            "description_tooltip": null,
            "layout": "IPY_MODEL_02f4aa3be3d44e42aba6b5890f0560d5",
            "max": 470641600,
            "min": 0,
            "orientation": "horizontal",
            "style": "IPY_MODEL_6c0c885b486c49b3830ffacfdd698415",
            "value": 470641600
          }
        },
        "7f1f5b0f510e45ddb5225df36803f83d": {
          "model_module": "@jupyter-widgets/controls",
          "model_name": "HTMLModel",
          "model_module_version": "1.5.0",
          "state": {
            "_dom_classes": [],
            "_model_module": "@jupyter-widgets/controls",
            "_model_module_version": "1.5.0",
            "_model_name": "HTMLModel",
            "_view_count": null,
            "_view_module": "@jupyter-widgets/controls",
            "_view_module_version": "1.5.0",
            "_view_name": "HTMLView",
            "description": "",
            "description_tooltip": null,
            "layout": "IPY_MODEL_bea98f67cf984a19a444784273506105",
            "placeholder": "​",
            "style": "IPY_MODEL_e8b261484d8347d69e7fbb378c5fa7be",
            "value": " 471M/471M [00:05&lt;00:00, 137MB/s]"
          }
        },
        "e06954c3807743e2861ef0cd65871c33": {
          "model_module": "@jupyter-widgets/base",
          "model_name": "LayoutModel",
          "model_module_version": "1.2.0",
          "state": {
            "_model_module": "@jupyter-widgets/base",
            "_model_module_version": "1.2.0",
            "_model_name": "LayoutModel",
            "_view_count": null,
            "_view_module": "@jupyter-widgets/base",
            "_view_module_version": "1.2.0",
            "_view_name": "LayoutView",
            "align_content": null,
            "align_items": null,
            "align_self": null,
            "border": null,
            "bottom": null,
            "display": null,
            "flex": null,
            "flex_flow": null,
            "grid_area": null,
            "grid_auto_columns": null,
            "grid_auto_flow": null,
            "grid_auto_rows": null,
            "grid_column": null,
            "grid_gap": null,
            "grid_row": null,
            "grid_template_areas": null,
            "grid_template_columns": null,
            "grid_template_rows": null,
            "height": null,
            "justify_content": null,
            "justify_items": null,
            "left": null,
            "margin": null,
            "max_height": null,
            "max_width": null,
            "min_height": null,
            "min_width": null,
            "object_fit": null,
            "object_position": null,
            "order": null,
            "overflow": null,
            "overflow_x": null,
            "overflow_y": null,
            "padding": null,
            "right": null,
            "top": null,
            "visibility": null,
            "width": null
          }
        },
        "5ef38f7dcd064881b0334cf6eef37873": {
          "model_module": "@jupyter-widgets/base",
          "model_name": "LayoutModel",
          "model_module_version": "1.2.0",
          "state": {
            "_model_module": "@jupyter-widgets/base",
            "_model_module_version": "1.2.0",
            "_model_name": "LayoutModel",
            "_view_count": null,
            "_view_module": "@jupyter-widgets/base",
            "_view_module_version": "1.2.0",
            "_view_name": "LayoutView",
            "align_content": null,
            "align_items": null,
            "align_self": null,
            "border": null,
            "bottom": null,
            "display": null,
            "flex": null,
            "flex_flow": null,
            "grid_area": null,
            "grid_auto_columns": null,
            "grid_auto_flow": null,
            "grid_auto_rows": null,
            "grid_column": null,
            "grid_gap": null,
            "grid_row": null,
            "grid_template_areas": null,
            "grid_template_columns": null,
            "grid_template_rows": null,
            "height": null,
            "justify_content": null,
            "justify_items": null,
            "left": null,
            "margin": null,
            "max_height": null,
            "max_width": null,
            "min_height": null,
            "min_width": null,
            "object_fit": null,
            "object_position": null,
            "order": null,
            "overflow": null,
            "overflow_x": null,
            "overflow_y": null,
            "padding": null,
            "right": null,
            "top": null,
            "visibility": null,
            "width": null
          }
        },
        "a0a2eb4b87924b98841d711241fb1180": {
          "model_module": "@jupyter-widgets/controls",
          "model_name": "DescriptionStyleModel",
          "model_module_version": "1.5.0",
          "state": {
            "_model_module": "@jupyter-widgets/controls",
            "_model_module_version": "1.5.0",
            "_model_name": "DescriptionStyleModel",
            "_view_count": null,
            "_view_module": "@jupyter-widgets/base",
            "_view_module_version": "1.2.0",
            "_view_name": "StyleView",
            "description_width": ""
          }
        },
        "02f4aa3be3d44e42aba6b5890f0560d5": {
          "model_module": "@jupyter-widgets/base",
          "model_name": "LayoutModel",
          "model_module_version": "1.2.0",
          "state": {
            "_model_module": "@jupyter-widgets/base",
            "_model_module_version": "1.2.0",
            "_model_name": "LayoutModel",
            "_view_count": null,
            "_view_module": "@jupyter-widgets/base",
            "_view_module_version": "1.2.0",
            "_view_name": "LayoutView",
            "align_content": null,
            "align_items": null,
            "align_self": null,
            "border": null,
            "bottom": null,
            "display": null,
            "flex": null,
            "flex_flow": null,
            "grid_area": null,
            "grid_auto_columns": null,
            "grid_auto_flow": null,
            "grid_auto_rows": null,
            "grid_column": null,
            "grid_gap": null,
            "grid_row": null,
            "grid_template_areas": null,
            "grid_template_columns": null,
            "grid_template_rows": null,
            "height": null,
            "justify_content": null,
            "justify_items": null,
            "left": null,
            "margin": null,
            "max_height": null,
            "max_width": null,
            "min_height": null,
            "min_width": null,
            "object_fit": null,
            "object_position": null,
            "order": null,
            "overflow": null,
            "overflow_x": null,
            "overflow_y": null,
            "padding": null,
            "right": null,
            "top": null,
            "visibility": null,
            "width": null
          }
        },
        "6c0c885b486c49b3830ffacfdd698415": {
          "model_module": "@jupyter-widgets/controls",
          "model_name": "ProgressStyleModel",
          "model_module_version": "1.5.0",
          "state": {
            "_model_module": "@jupyter-widgets/controls",
            "_model_module_version": "1.5.0",
            "_model_name": "ProgressStyleModel",
            "_view_count": null,
            "_view_module": "@jupyter-widgets/base",
            "_view_module_version": "1.2.0",
            "_view_name": "StyleView",
            "bar_color": null,
            "description_width": ""
          }
        },
        "bea98f67cf984a19a444784273506105": {
          "model_module": "@jupyter-widgets/base",
          "model_name": "LayoutModel",
          "model_module_version": "1.2.0",
          "state": {
            "_model_module": "@jupyter-widgets/base",
            "_model_module_version": "1.2.0",
            "_model_name": "LayoutModel",
            "_view_count": null,
            "_view_module": "@jupyter-widgets/base",
            "_view_module_version": "1.2.0",
            "_view_name": "LayoutView",
            "align_content": null,
            "align_items": null,
            "align_self": null,
            "border": null,
            "bottom": null,
            "display": null,
            "flex": null,
            "flex_flow": null,
            "grid_area": null,
            "grid_auto_columns": null,
            "grid_auto_flow": null,
            "grid_auto_rows": null,
            "grid_column": null,
            "grid_gap": null,
            "grid_row": null,
            "grid_template_areas": null,
            "grid_template_columns": null,
            "grid_template_rows": null,
            "height": null,
            "justify_content": null,
            "justify_items": null,
            "left": null,
            "margin": null,
            "max_height": null,
            "max_width": null,
            "min_height": null,
            "min_width": null,
            "object_fit": null,
            "object_position": null,
            "order": null,
            "overflow": null,
            "overflow_x": null,
            "overflow_y": null,
            "padding": null,
            "right": null,
            "top": null,
            "visibility": null,
            "width": null
          }
        },
        "e8b261484d8347d69e7fbb378c5fa7be": {
          "model_module": "@jupyter-widgets/controls",
          "model_name": "DescriptionStyleModel",
          "model_module_version": "1.5.0",
          "state": {
            "_model_module": "@jupyter-widgets/controls",
            "_model_module_version": "1.5.0",
            "_model_name": "DescriptionStyleModel",
            "_view_count": null,
            "_view_module": "@jupyter-widgets/base",
            "_view_module_version": "1.2.0",
            "_view_name": "StyleView",
            "description_width": ""
          }
        },
        "d75b2dcd888549f183a9cae83a86711a": {
          "model_module": "@jupyter-widgets/controls",
          "model_name": "HBoxModel",
          "model_module_version": "1.5.0",
          "state": {
            "_dom_classes": [],
            "_model_module": "@jupyter-widgets/controls",
            "_model_module_version": "1.5.0",
            "_model_name": "HBoxModel",
            "_view_count": null,
            "_view_module": "@jupyter-widgets/controls",
            "_view_module_version": "1.5.0",
            "_view_name": "HBoxView",
            "box_style": "",
            "children": [
              "IPY_MODEL_8565f5861d014c6ab42ea45e9c78fe95",
              "IPY_MODEL_8db6dc812c664ef499aa7138c1571a4a",
              "IPY_MODEL_45799691b21a4612863dc24cdecf5014"
            ],
            "layout": "IPY_MODEL_442a1559158a48aca28e8dd91739dec1"
          }
        },
        "8565f5861d014c6ab42ea45e9c78fe95": {
          "model_module": "@jupyter-widgets/controls",
          "model_name": "HTMLModel",
          "model_module_version": "1.5.0",
          "state": {
            "_dom_classes": [],
            "_model_module": "@jupyter-widgets/controls",
            "_model_module_version": "1.5.0",
            "_model_name": "HTMLModel",
            "_view_count": null,
            "_view_module": "@jupyter-widgets/controls",
            "_view_module_version": "1.5.0",
            "_view_name": "HTMLView",
            "description": "",
            "description_tooltip": null,
            "layout": "IPY_MODEL_dac75c1d6a4344b489c71d7c34825f54",
            "placeholder": "​",
            "style": "IPY_MODEL_3ae672446a8d4ec584ced06448ab495b",
            "value": "tokenizer_config.json: 100%"
          }
        },
        "8db6dc812c664ef499aa7138c1571a4a": {
          "model_module": "@jupyter-widgets/controls",
          "model_name": "FloatProgressModel",
          "model_module_version": "1.5.0",
          "state": {
            "_dom_classes": [],
            "_model_module": "@jupyter-widgets/controls",
            "_model_module_version": "1.5.0",
            "_model_name": "FloatProgressModel",
            "_view_count": null,
            "_view_module": "@jupyter-widgets/controls",
            "_view_module_version": "1.5.0",
            "_view_name": "ProgressView",
            "bar_style": "success",
            "description": "",
            "description_tooltip": null,
            "layout": "IPY_MODEL_a17fc30546ab44efbe539700a214ec75",
            "max": 480,
            "min": 0,
            "orientation": "horizontal",
            "style": "IPY_MODEL_89c96f0a56cb4f62b97d7d7d3f316a38",
            "value": 480
          }
        },
        "45799691b21a4612863dc24cdecf5014": {
          "model_module": "@jupyter-widgets/controls",
          "model_name": "HTMLModel",
          "model_module_version": "1.5.0",
          "state": {
            "_dom_classes": [],
            "_model_module": "@jupyter-widgets/controls",
            "_model_module_version": "1.5.0",
            "_model_name": "HTMLModel",
            "_view_count": null,
            "_view_module": "@jupyter-widgets/controls",
            "_view_module_version": "1.5.0",
            "_view_name": "HTMLView",
            "description": "",
            "description_tooltip": null,
            "layout": "IPY_MODEL_c7ced2f4e2f542f0988fe009c0f47cdb",
            "placeholder": "​",
            "style": "IPY_MODEL_245fa94d12324dbe97dd56871d5ee7f9",
            "value": " 480/480 [00:00&lt;00:00, 41.5kB/s]"
          }
        },
        "442a1559158a48aca28e8dd91739dec1": {
          "model_module": "@jupyter-widgets/base",
          "model_name": "LayoutModel",
          "model_module_version": "1.2.0",
          "state": {
            "_model_module": "@jupyter-widgets/base",
            "_model_module_version": "1.2.0",
            "_model_name": "LayoutModel",
            "_view_count": null,
            "_view_module": "@jupyter-widgets/base",
            "_view_module_version": "1.2.0",
            "_view_name": "LayoutView",
            "align_content": null,
            "align_items": null,
            "align_self": null,
            "border": null,
            "bottom": null,
            "display": null,
            "flex": null,
            "flex_flow": null,
            "grid_area": null,
            "grid_auto_columns": null,
            "grid_auto_flow": null,
            "grid_auto_rows": null,
            "grid_column": null,
            "grid_gap": null,
            "grid_row": null,
            "grid_template_areas": null,
            "grid_template_columns": null,
            "grid_template_rows": null,
            "height": null,
            "justify_content": null,
            "justify_items": null,
            "left": null,
            "margin": null,
            "max_height": null,
            "max_width": null,
            "min_height": null,
            "min_width": null,
            "object_fit": null,
            "object_position": null,
            "order": null,
            "overflow": null,
            "overflow_x": null,
            "overflow_y": null,
            "padding": null,
            "right": null,
            "top": null,
            "visibility": null,
            "width": null
          }
        },
        "dac75c1d6a4344b489c71d7c34825f54": {
          "model_module": "@jupyter-widgets/base",
          "model_name": "LayoutModel",
          "model_module_version": "1.2.0",
          "state": {
            "_model_module": "@jupyter-widgets/base",
            "_model_module_version": "1.2.0",
            "_model_name": "LayoutModel",
            "_view_count": null,
            "_view_module": "@jupyter-widgets/base",
            "_view_module_version": "1.2.0",
            "_view_name": "LayoutView",
            "align_content": null,
            "align_items": null,
            "align_self": null,
            "border": null,
            "bottom": null,
            "display": null,
            "flex": null,
            "flex_flow": null,
            "grid_area": null,
            "grid_auto_columns": null,
            "grid_auto_flow": null,
            "grid_auto_rows": null,
            "grid_column": null,
            "grid_gap": null,
            "grid_row": null,
            "grid_template_areas": null,
            "grid_template_columns": null,
            "grid_template_rows": null,
            "height": null,
            "justify_content": null,
            "justify_items": null,
            "left": null,
            "margin": null,
            "max_height": null,
            "max_width": null,
            "min_height": null,
            "min_width": null,
            "object_fit": null,
            "object_position": null,
            "order": null,
            "overflow": null,
            "overflow_x": null,
            "overflow_y": null,
            "padding": null,
            "right": null,
            "top": null,
            "visibility": null,
            "width": null
          }
        },
        "3ae672446a8d4ec584ced06448ab495b": {
          "model_module": "@jupyter-widgets/controls",
          "model_name": "DescriptionStyleModel",
          "model_module_version": "1.5.0",
          "state": {
            "_model_module": "@jupyter-widgets/controls",
            "_model_module_version": "1.5.0",
            "_model_name": "DescriptionStyleModel",
            "_view_count": null,
            "_view_module": "@jupyter-widgets/base",
            "_view_module_version": "1.2.0",
            "_view_name": "StyleView",
            "description_width": ""
          }
        },
        "a17fc30546ab44efbe539700a214ec75": {
          "model_module": "@jupyter-widgets/base",
          "model_name": "LayoutModel",
          "model_module_version": "1.2.0",
          "state": {
            "_model_module": "@jupyter-widgets/base",
            "_model_module_version": "1.2.0",
            "_model_name": "LayoutModel",
            "_view_count": null,
            "_view_module": "@jupyter-widgets/base",
            "_view_module_version": "1.2.0",
            "_view_name": "LayoutView",
            "align_content": null,
            "align_items": null,
            "align_self": null,
            "border": null,
            "bottom": null,
            "display": null,
            "flex": null,
            "flex_flow": null,
            "grid_area": null,
            "grid_auto_columns": null,
            "grid_auto_flow": null,
            "grid_auto_rows": null,
            "grid_column": null,
            "grid_gap": null,
            "grid_row": null,
            "grid_template_areas": null,
            "grid_template_columns": null,
            "grid_template_rows": null,
            "height": null,
            "justify_content": null,
            "justify_items": null,
            "left": null,
            "margin": null,
            "max_height": null,
            "max_width": null,
            "min_height": null,
            "min_width": null,
            "object_fit": null,
            "object_position": null,
            "order": null,
            "overflow": null,
            "overflow_x": null,
            "overflow_y": null,
            "padding": null,
            "right": null,
            "top": null,
            "visibility": null,
            "width": null
          }
        },
        "89c96f0a56cb4f62b97d7d7d3f316a38": {
          "model_module": "@jupyter-widgets/controls",
          "model_name": "ProgressStyleModel",
          "model_module_version": "1.5.0",
          "state": {
            "_model_module": "@jupyter-widgets/controls",
            "_model_module_version": "1.5.0",
            "_model_name": "ProgressStyleModel",
            "_view_count": null,
            "_view_module": "@jupyter-widgets/base",
            "_view_module_version": "1.2.0",
            "_view_name": "StyleView",
            "bar_color": null,
            "description_width": ""
          }
        },
        "c7ced2f4e2f542f0988fe009c0f47cdb": {
          "model_module": "@jupyter-widgets/base",
          "model_name": "LayoutModel",
          "model_module_version": "1.2.0",
          "state": {
            "_model_module": "@jupyter-widgets/base",
            "_model_module_version": "1.2.0",
            "_model_name": "LayoutModel",
            "_view_count": null,
            "_view_module": "@jupyter-widgets/base",
            "_view_module_version": "1.2.0",
            "_view_name": "LayoutView",
            "align_content": null,
            "align_items": null,
            "align_self": null,
            "border": null,
            "bottom": null,
            "display": null,
            "flex": null,
            "flex_flow": null,
            "grid_area": null,
            "grid_auto_columns": null,
            "grid_auto_flow": null,
            "grid_auto_rows": null,
            "grid_column": null,
            "grid_gap": null,
            "grid_row": null,
            "grid_template_areas": null,
            "grid_template_columns": null,
            "grid_template_rows": null,
            "height": null,
            "justify_content": null,
            "justify_items": null,
            "left": null,
            "margin": null,
            "max_height": null,
            "max_width": null,
            "min_height": null,
            "min_width": null,
            "object_fit": null,
            "object_position": null,
            "order": null,
            "overflow": null,
            "overflow_x": null,
            "overflow_y": null,
            "padding": null,
            "right": null,
            "top": null,
            "visibility": null,
            "width": null
          }
        },
        "245fa94d12324dbe97dd56871d5ee7f9": {
          "model_module": "@jupyter-widgets/controls",
          "model_name": "DescriptionStyleModel",
          "model_module_version": "1.5.0",
          "state": {
            "_model_module": "@jupyter-widgets/controls",
            "_model_module_version": "1.5.0",
            "_model_name": "DescriptionStyleModel",
            "_view_count": null,
            "_view_module": "@jupyter-widgets/base",
            "_view_module_version": "1.2.0",
            "_view_name": "StyleView",
            "description_width": ""
          }
        },
        "fb7eff797e964253b9a947ffa1f33787": {
          "model_module": "@jupyter-widgets/controls",
          "model_name": "HBoxModel",
          "model_module_version": "1.5.0",
          "state": {
            "_dom_classes": [],
            "_model_module": "@jupyter-widgets/controls",
            "_model_module_version": "1.5.0",
            "_model_name": "HBoxModel",
            "_view_count": null,
            "_view_module": "@jupyter-widgets/controls",
            "_view_module_version": "1.5.0",
            "_view_name": "HBoxView",
            "box_style": "",
            "children": [
              "IPY_MODEL_94fc2763245645eab03bf00d984d4dfe",
              "IPY_MODEL_96f4d46245db4e4099b1595d630b3fde",
              "IPY_MODEL_49b83f5a1a964ce4a2cb537ca2f4c629"
            ],
            "layout": "IPY_MODEL_8b7245df6fd2465ab675a39870d898c0"
          }
        },
        "94fc2763245645eab03bf00d984d4dfe": {
          "model_module": "@jupyter-widgets/controls",
          "model_name": "HTMLModel",
          "model_module_version": "1.5.0",
          "state": {
            "_dom_classes": [],
            "_model_module": "@jupyter-widgets/controls",
            "_model_module_version": "1.5.0",
            "_model_name": "HTMLModel",
            "_view_count": null,
            "_view_module": "@jupyter-widgets/controls",
            "_view_module_version": "1.5.0",
            "_view_name": "HTMLView",
            "description": "",
            "description_tooltip": null,
            "layout": "IPY_MODEL_b454e6b16e52443e9a133b9be82829d3",
            "placeholder": "​",
            "style": "IPY_MODEL_f26e3f7bcb9f44f0b231c075f1e9d68b",
            "value": "tokenizer.json: 100%"
          }
        },
        "96f4d46245db4e4099b1595d630b3fde": {
          "model_module": "@jupyter-widgets/controls",
          "model_name": "FloatProgressModel",
          "model_module_version": "1.5.0",
          "state": {
            "_dom_classes": [],
            "_model_module": "@jupyter-widgets/controls",
            "_model_module_version": "1.5.0",
            "_model_name": "FloatProgressModel",
            "_view_count": null,
            "_view_module": "@jupyter-widgets/controls",
            "_view_module_version": "1.5.0",
            "_view_name": "ProgressView",
            "bar_style": "success",
            "description": "",
            "description_tooltip": null,
            "layout": "IPY_MODEL_f6e2cc498e0c493a991cdc40a590b169",
            "max": 9081518,
            "min": 0,
            "orientation": "horizontal",
            "style": "IPY_MODEL_d29a7310c1db47209c58a2b8f3fee848",
            "value": 9081518
          }
        },
        "49b83f5a1a964ce4a2cb537ca2f4c629": {
          "model_module": "@jupyter-widgets/controls",
          "model_name": "HTMLModel",
          "model_module_version": "1.5.0",
          "state": {
            "_dom_classes": [],
            "_model_module": "@jupyter-widgets/controls",
            "_model_module_version": "1.5.0",
            "_model_name": "HTMLModel",
            "_view_count": null,
            "_view_module": "@jupyter-widgets/controls",
            "_view_module_version": "1.5.0",
            "_view_name": "HTMLView",
            "description": "",
            "description_tooltip": null,
            "layout": "IPY_MODEL_28ffb7052792489fb943da082a391e49",
            "placeholder": "​",
            "style": "IPY_MODEL_b24c5987cfc94c7ea004bb006755f33b",
            "value": " 9.08M/9.08M [00:00&lt;00:00, 15.8MB/s]"
          }
        },
        "8b7245df6fd2465ab675a39870d898c0": {
          "model_module": "@jupyter-widgets/base",
          "model_name": "LayoutModel",
          "model_module_version": "1.2.0",
          "state": {
            "_model_module": "@jupyter-widgets/base",
            "_model_module_version": "1.2.0",
            "_model_name": "LayoutModel",
            "_view_count": null,
            "_view_module": "@jupyter-widgets/base",
            "_view_module_version": "1.2.0",
            "_view_name": "LayoutView",
            "align_content": null,
            "align_items": null,
            "align_self": null,
            "border": null,
            "bottom": null,
            "display": null,
            "flex": null,
            "flex_flow": null,
            "grid_area": null,
            "grid_auto_columns": null,
            "grid_auto_flow": null,
            "grid_auto_rows": null,
            "grid_column": null,
            "grid_gap": null,
            "grid_row": null,
            "grid_template_areas": null,
            "grid_template_columns": null,
            "grid_template_rows": null,
            "height": null,
            "justify_content": null,
            "justify_items": null,
            "left": null,
            "margin": null,
            "max_height": null,
            "max_width": null,
            "min_height": null,
            "min_width": null,
            "object_fit": null,
            "object_position": null,
            "order": null,
            "overflow": null,
            "overflow_x": null,
            "overflow_y": null,
            "padding": null,
            "right": null,
            "top": null,
            "visibility": null,
            "width": null
          }
        },
        "b454e6b16e52443e9a133b9be82829d3": {
          "model_module": "@jupyter-widgets/base",
          "model_name": "LayoutModel",
          "model_module_version": "1.2.0",
          "state": {
            "_model_module": "@jupyter-widgets/base",
            "_model_module_version": "1.2.0",
            "_model_name": "LayoutModel",
            "_view_count": null,
            "_view_module": "@jupyter-widgets/base",
            "_view_module_version": "1.2.0",
            "_view_name": "LayoutView",
            "align_content": null,
            "align_items": null,
            "align_self": null,
            "border": null,
            "bottom": null,
            "display": null,
            "flex": null,
            "flex_flow": null,
            "grid_area": null,
            "grid_auto_columns": null,
            "grid_auto_flow": null,
            "grid_auto_rows": null,
            "grid_column": null,
            "grid_gap": null,
            "grid_row": null,
            "grid_template_areas": null,
            "grid_template_columns": null,
            "grid_template_rows": null,
            "height": null,
            "justify_content": null,
            "justify_items": null,
            "left": null,
            "margin": null,
            "max_height": null,
            "max_width": null,
            "min_height": null,
            "min_width": null,
            "object_fit": null,
            "object_position": null,
            "order": null,
            "overflow": null,
            "overflow_x": null,
            "overflow_y": null,
            "padding": null,
            "right": null,
            "top": null,
            "visibility": null,
            "width": null
          }
        },
        "f26e3f7bcb9f44f0b231c075f1e9d68b": {
          "model_module": "@jupyter-widgets/controls",
          "model_name": "DescriptionStyleModel",
          "model_module_version": "1.5.0",
          "state": {
            "_model_module": "@jupyter-widgets/controls",
            "_model_module_version": "1.5.0",
            "_model_name": "DescriptionStyleModel",
            "_view_count": null,
            "_view_module": "@jupyter-widgets/base",
            "_view_module_version": "1.2.0",
            "_view_name": "StyleView",
            "description_width": ""
          }
        },
        "f6e2cc498e0c493a991cdc40a590b169": {
          "model_module": "@jupyter-widgets/base",
          "model_name": "LayoutModel",
          "model_module_version": "1.2.0",
          "state": {
            "_model_module": "@jupyter-widgets/base",
            "_model_module_version": "1.2.0",
            "_model_name": "LayoutModel",
            "_view_count": null,
            "_view_module": "@jupyter-widgets/base",
            "_view_module_version": "1.2.0",
            "_view_name": "LayoutView",
            "align_content": null,
            "align_items": null,
            "align_self": null,
            "border": null,
            "bottom": null,
            "display": null,
            "flex": null,
            "flex_flow": null,
            "grid_area": null,
            "grid_auto_columns": null,
            "grid_auto_flow": null,
            "grid_auto_rows": null,
            "grid_column": null,
            "grid_gap": null,
            "grid_row": null,
            "grid_template_areas": null,
            "grid_template_columns": null,
            "grid_template_rows": null,
            "height": null,
            "justify_content": null,
            "justify_items": null,
            "left": null,
            "margin": null,
            "max_height": null,
            "max_width": null,
            "min_height": null,
            "min_width": null,
            "object_fit": null,
            "object_position": null,
            "order": null,
            "overflow": null,
            "overflow_x": null,
            "overflow_y": null,
            "padding": null,
            "right": null,
            "top": null,
            "visibility": null,
            "width": null
          }
        },
        "d29a7310c1db47209c58a2b8f3fee848": {
          "model_module": "@jupyter-widgets/controls",
          "model_name": "ProgressStyleModel",
          "model_module_version": "1.5.0",
          "state": {
            "_model_module": "@jupyter-widgets/controls",
            "_model_module_version": "1.5.0",
            "_model_name": "ProgressStyleModel",
            "_view_count": null,
            "_view_module": "@jupyter-widgets/base",
            "_view_module_version": "1.2.0",
            "_view_name": "StyleView",
            "bar_color": null,
            "description_width": ""
          }
        },
        "28ffb7052792489fb943da082a391e49": {
          "model_module": "@jupyter-widgets/base",
          "model_name": "LayoutModel",
          "model_module_version": "1.2.0",
          "state": {
            "_model_module": "@jupyter-widgets/base",
            "_model_module_version": "1.2.0",
            "_model_name": "LayoutModel",
            "_view_count": null,
            "_view_module": "@jupyter-widgets/base",
            "_view_module_version": "1.2.0",
            "_view_name": "LayoutView",
            "align_content": null,
            "align_items": null,
            "align_self": null,
            "border": null,
            "bottom": null,
            "display": null,
            "flex": null,
            "flex_flow": null,
            "grid_area": null,
            "grid_auto_columns": null,
            "grid_auto_flow": null,
            "grid_auto_rows": null,
            "grid_column": null,
            "grid_gap": null,
            "grid_row": null,
            "grid_template_areas": null,
            "grid_template_columns": null,
            "grid_template_rows": null,
            "height": null,
            "justify_content": null,
            "justify_items": null,
            "left": null,
            "margin": null,
            "max_height": null,
            "max_width": null,
            "min_height": null,
            "min_width": null,
            "object_fit": null,
            "object_position": null,
            "order": null,
            "overflow": null,
            "overflow_x": null,
            "overflow_y": null,
            "padding": null,
            "right": null,
            "top": null,
            "visibility": null,
            "width": null
          }
        },
        "b24c5987cfc94c7ea004bb006755f33b": {
          "model_module": "@jupyter-widgets/controls",
          "model_name": "DescriptionStyleModel",
          "model_module_version": "1.5.0",
          "state": {
            "_model_module": "@jupyter-widgets/controls",
            "_model_module_version": "1.5.0",
            "_model_name": "DescriptionStyleModel",
            "_view_count": null,
            "_view_module": "@jupyter-widgets/base",
            "_view_module_version": "1.2.0",
            "_view_name": "StyleView",
            "description_width": ""
          }
        },
        "975dc24274c949a9a4145e3fa76d1902": {
          "model_module": "@jupyter-widgets/controls",
          "model_name": "HBoxModel",
          "model_module_version": "1.5.0",
          "state": {
            "_dom_classes": [],
            "_model_module": "@jupyter-widgets/controls",
            "_model_module_version": "1.5.0",
            "_model_name": "HBoxModel",
            "_view_count": null,
            "_view_module": "@jupyter-widgets/controls",
            "_view_module_version": "1.5.0",
            "_view_name": "HBoxView",
            "box_style": "",
            "children": [
              "IPY_MODEL_00c51b44812a43a68a0c407d90857fd3",
              "IPY_MODEL_e93b120a398b4423b3aa00f5c32276b9",
              "IPY_MODEL_d322bf88093e404cab0710f0d081ac33"
            ],
            "layout": "IPY_MODEL_72c5cef500d247b78448cb20a98c3448"
          }
        },
        "00c51b44812a43a68a0c407d90857fd3": {
          "model_module": "@jupyter-widgets/controls",
          "model_name": "HTMLModel",
          "model_module_version": "1.5.0",
          "state": {
            "_dom_classes": [],
            "_model_module": "@jupyter-widgets/controls",
            "_model_module_version": "1.5.0",
            "_model_name": "HTMLModel",
            "_view_count": null,
            "_view_module": "@jupyter-widgets/controls",
            "_view_module_version": "1.5.0",
            "_view_name": "HTMLView",
            "description": "",
            "description_tooltip": null,
            "layout": "IPY_MODEL_94da5371a7ec406f852f4ee9600d18aa",
            "placeholder": "​",
            "style": "IPY_MODEL_954f31d95277415ab79831f19470db94",
            "value": "special_tokens_map.json: 100%"
          }
        },
        "e93b120a398b4423b3aa00f5c32276b9": {
          "model_module": "@jupyter-widgets/controls",
          "model_name": "FloatProgressModel",
          "model_module_version": "1.5.0",
          "state": {
            "_dom_classes": [],
            "_model_module": "@jupyter-widgets/controls",
            "_model_module_version": "1.5.0",
            "_model_name": "FloatProgressModel",
            "_view_count": null,
            "_view_module": "@jupyter-widgets/controls",
            "_view_module_version": "1.5.0",
            "_view_name": "ProgressView",
            "bar_style": "success",
            "description": "",
            "description_tooltip": null,
            "layout": "IPY_MODEL_5c9aa9d105fc4ace960d59fc78afdc97",
            "max": 239,
            "min": 0,
            "orientation": "horizontal",
            "style": "IPY_MODEL_6ce6a8a678ed4945a17966a9af35975f",
            "value": 239
          }
        },
        "d322bf88093e404cab0710f0d081ac33": {
          "model_module": "@jupyter-widgets/controls",
          "model_name": "HTMLModel",
          "model_module_version": "1.5.0",
          "state": {
            "_dom_classes": [],
            "_model_module": "@jupyter-widgets/controls",
            "_model_module_version": "1.5.0",
            "_model_name": "HTMLModel",
            "_view_count": null,
            "_view_module": "@jupyter-widgets/controls",
            "_view_module_version": "1.5.0",
            "_view_name": "HTMLView",
            "description": "",
            "description_tooltip": null,
            "layout": "IPY_MODEL_6b8026fd9a984de1b145f5e3568b3817",
            "placeholder": "​",
            "style": "IPY_MODEL_f1fd1fa049384425aea076956955568e",
            "value": " 239/239 [00:00&lt;00:00, 27.6kB/s]"
          }
        },
        "72c5cef500d247b78448cb20a98c3448": {
          "model_module": "@jupyter-widgets/base",
          "model_name": "LayoutModel",
          "model_module_version": "1.2.0",
          "state": {
            "_model_module": "@jupyter-widgets/base",
            "_model_module_version": "1.2.0",
            "_model_name": "LayoutModel",
            "_view_count": null,
            "_view_module": "@jupyter-widgets/base",
            "_view_module_version": "1.2.0",
            "_view_name": "LayoutView",
            "align_content": null,
            "align_items": null,
            "align_self": null,
            "border": null,
            "bottom": null,
            "display": null,
            "flex": null,
            "flex_flow": null,
            "grid_area": null,
            "grid_auto_columns": null,
            "grid_auto_flow": null,
            "grid_auto_rows": null,
            "grid_column": null,
            "grid_gap": null,
            "grid_row": null,
            "grid_template_areas": null,
            "grid_template_columns": null,
            "grid_template_rows": null,
            "height": null,
            "justify_content": null,
            "justify_items": null,
            "left": null,
            "margin": null,
            "max_height": null,
            "max_width": null,
            "min_height": null,
            "min_width": null,
            "object_fit": null,
            "object_position": null,
            "order": null,
            "overflow": null,
            "overflow_x": null,
            "overflow_y": null,
            "padding": null,
            "right": null,
            "top": null,
            "visibility": null,
            "width": null
          }
        },
        "94da5371a7ec406f852f4ee9600d18aa": {
          "model_module": "@jupyter-widgets/base",
          "model_name": "LayoutModel",
          "model_module_version": "1.2.0",
          "state": {
            "_model_module": "@jupyter-widgets/base",
            "_model_module_version": "1.2.0",
            "_model_name": "LayoutModel",
            "_view_count": null,
            "_view_module": "@jupyter-widgets/base",
            "_view_module_version": "1.2.0",
            "_view_name": "LayoutView",
            "align_content": null,
            "align_items": null,
            "align_self": null,
            "border": null,
            "bottom": null,
            "display": null,
            "flex": null,
            "flex_flow": null,
            "grid_area": null,
            "grid_auto_columns": null,
            "grid_auto_flow": null,
            "grid_auto_rows": null,
            "grid_column": null,
            "grid_gap": null,
            "grid_row": null,
            "grid_template_areas": null,
            "grid_template_columns": null,
            "grid_template_rows": null,
            "height": null,
            "justify_content": null,
            "justify_items": null,
            "left": null,
            "margin": null,
            "max_height": null,
            "max_width": null,
            "min_height": null,
            "min_width": null,
            "object_fit": null,
            "object_position": null,
            "order": null,
            "overflow": null,
            "overflow_x": null,
            "overflow_y": null,
            "padding": null,
            "right": null,
            "top": null,
            "visibility": null,
            "width": null
          }
        },
        "954f31d95277415ab79831f19470db94": {
          "model_module": "@jupyter-widgets/controls",
          "model_name": "DescriptionStyleModel",
          "model_module_version": "1.5.0",
          "state": {
            "_model_module": "@jupyter-widgets/controls",
            "_model_module_version": "1.5.0",
            "_model_name": "DescriptionStyleModel",
            "_view_count": null,
            "_view_module": "@jupyter-widgets/base",
            "_view_module_version": "1.2.0",
            "_view_name": "StyleView",
            "description_width": ""
          }
        },
        "5c9aa9d105fc4ace960d59fc78afdc97": {
          "model_module": "@jupyter-widgets/base",
          "model_name": "LayoutModel",
          "model_module_version": "1.2.0",
          "state": {
            "_model_module": "@jupyter-widgets/base",
            "_model_module_version": "1.2.0",
            "_model_name": "LayoutModel",
            "_view_count": null,
            "_view_module": "@jupyter-widgets/base",
            "_view_module_version": "1.2.0",
            "_view_name": "LayoutView",
            "align_content": null,
            "align_items": null,
            "align_self": null,
            "border": null,
            "bottom": null,
            "display": null,
            "flex": null,
            "flex_flow": null,
            "grid_area": null,
            "grid_auto_columns": null,
            "grid_auto_flow": null,
            "grid_auto_rows": null,
            "grid_column": null,
            "grid_gap": null,
            "grid_row": null,
            "grid_template_areas": null,
            "grid_template_columns": null,
            "grid_template_rows": null,
            "height": null,
            "justify_content": null,
            "justify_items": null,
            "left": null,
            "margin": null,
            "max_height": null,
            "max_width": null,
            "min_height": null,
            "min_width": null,
            "object_fit": null,
            "object_position": null,
            "order": null,
            "overflow": null,
            "overflow_x": null,
            "overflow_y": null,
            "padding": null,
            "right": null,
            "top": null,
            "visibility": null,
            "width": null
          }
        },
        "6ce6a8a678ed4945a17966a9af35975f": {
          "model_module": "@jupyter-widgets/controls",
          "model_name": "ProgressStyleModel",
          "model_module_version": "1.5.0",
          "state": {
            "_model_module": "@jupyter-widgets/controls",
            "_model_module_version": "1.5.0",
            "_model_name": "ProgressStyleModel",
            "_view_count": null,
            "_view_module": "@jupyter-widgets/base",
            "_view_module_version": "1.2.0",
            "_view_name": "StyleView",
            "bar_color": null,
            "description_width": ""
          }
        },
        "6b8026fd9a984de1b145f5e3568b3817": {
          "model_module": "@jupyter-widgets/base",
          "model_name": "LayoutModel",
          "model_module_version": "1.2.0",
          "state": {
            "_model_module": "@jupyter-widgets/base",
            "_model_module_version": "1.2.0",
            "_model_name": "LayoutModel",
            "_view_count": null,
            "_view_module": "@jupyter-widgets/base",
            "_view_module_version": "1.2.0",
            "_view_name": "LayoutView",
            "align_content": null,
            "align_items": null,
            "align_self": null,
            "border": null,
            "bottom": null,
            "display": null,
            "flex": null,
            "flex_flow": null,
            "grid_area": null,
            "grid_auto_columns": null,
            "grid_auto_flow": null,
            "grid_auto_rows": null,
            "grid_column": null,
            "grid_gap": null,
            "grid_row": null,
            "grid_template_areas": null,
            "grid_template_columns": null,
            "grid_template_rows": null,
            "height": null,
            "justify_content": null,
            "justify_items": null,
            "left": null,
            "margin": null,
            "max_height": null,
            "max_width": null,
            "min_height": null,
            "min_width": null,
            "object_fit": null,
            "object_position": null,
            "order": null,
            "overflow": null,
            "overflow_x": null,
            "overflow_y": null,
            "padding": null,
            "right": null,
            "top": null,
            "visibility": null,
            "width": null
          }
        },
        "f1fd1fa049384425aea076956955568e": {
          "model_module": "@jupyter-widgets/controls",
          "model_name": "DescriptionStyleModel",
          "model_module_version": "1.5.0",
          "state": {
            "_model_module": "@jupyter-widgets/controls",
            "_model_module_version": "1.5.0",
            "_model_name": "DescriptionStyleModel",
            "_view_count": null,
            "_view_module": "@jupyter-widgets/base",
            "_view_module_version": "1.2.0",
            "_view_name": "StyleView",
            "description_width": ""
          }
        },
        "6427f79b1c5f400bb1083e17751598f7": {
          "model_module": "@jupyter-widgets/controls",
          "model_name": "HBoxModel",
          "model_module_version": "1.5.0",
          "state": {
            "_dom_classes": [],
            "_model_module": "@jupyter-widgets/controls",
            "_model_module_version": "1.5.0",
            "_model_name": "HBoxModel",
            "_view_count": null,
            "_view_module": "@jupyter-widgets/controls",
            "_view_module_version": "1.5.0",
            "_view_name": "HBoxView",
            "box_style": "",
            "children": [
              "IPY_MODEL_9df722513d40475bb24596026e7886e2",
              "IPY_MODEL_9da65765b12341e196f881f3462e6518",
              "IPY_MODEL_23df36013deb429496caf9201277b03b"
            ],
            "layout": "IPY_MODEL_17a1b4c4e75145c2a484794ff713de4c"
          }
        },
        "9df722513d40475bb24596026e7886e2": {
          "model_module": "@jupyter-widgets/controls",
          "model_name": "HTMLModel",
          "model_module_version": "1.5.0",
          "state": {
            "_dom_classes": [],
            "_model_module": "@jupyter-widgets/controls",
            "_model_module_version": "1.5.0",
            "_model_name": "HTMLModel",
            "_view_count": null,
            "_view_module": "@jupyter-widgets/controls",
            "_view_module_version": "1.5.0",
            "_view_name": "HTMLView",
            "description": "",
            "description_tooltip": null,
            "layout": "IPY_MODEL_f0daf5c9ee3041b5b443f7dbafe1f0dc",
            "placeholder": "​",
            "style": "IPY_MODEL_6f8b0fa90c134ebd87c020a24b705226",
            "value": "config.json: 100%"
          }
        },
        "9da65765b12341e196f881f3462e6518": {
          "model_module": "@jupyter-widgets/controls",
          "model_name": "FloatProgressModel",
          "model_module_version": "1.5.0",
          "state": {
            "_dom_classes": [],
            "_model_module": "@jupyter-widgets/controls",
            "_model_module_version": "1.5.0",
            "_model_name": "FloatProgressModel",
            "_view_count": null,
            "_view_module": "@jupyter-widgets/controls",
            "_view_module_version": "1.5.0",
            "_view_name": "ProgressView",
            "bar_style": "success",
            "description": "",
            "description_tooltip": null,
            "layout": "IPY_MODEL_9c97306b25fc4835a441f5a1e8e02c08",
            "max": 190,
            "min": 0,
            "orientation": "horizontal",
            "style": "IPY_MODEL_2e84709743f24ee49163295759e97b6d",
            "value": 190
          }
        },
        "23df36013deb429496caf9201277b03b": {
          "model_module": "@jupyter-widgets/controls",
          "model_name": "HTMLModel",
          "model_module_version": "1.5.0",
          "state": {
            "_dom_classes": [],
            "_model_module": "@jupyter-widgets/controls",
            "_model_module_version": "1.5.0",
            "_model_name": "HTMLModel",
            "_view_count": null,
            "_view_module": "@jupyter-widgets/controls",
            "_view_module_version": "1.5.0",
            "_view_name": "HTMLView",
            "description": "",
            "description_tooltip": null,
            "layout": "IPY_MODEL_de729d4570d74a57b96f257e64f93ed8",
            "placeholder": "​",
            "style": "IPY_MODEL_5b2eac8abe864e1881192affda766405",
            "value": " 190/190 [00:00&lt;00:00, 24.1kB/s]"
          }
        },
        "17a1b4c4e75145c2a484794ff713de4c": {
          "model_module": "@jupyter-widgets/base",
          "model_name": "LayoutModel",
          "model_module_version": "1.2.0",
          "state": {
            "_model_module": "@jupyter-widgets/base",
            "_model_module_version": "1.2.0",
            "_model_name": "LayoutModel",
            "_view_count": null,
            "_view_module": "@jupyter-widgets/base",
            "_view_module_version": "1.2.0",
            "_view_name": "LayoutView",
            "align_content": null,
            "align_items": null,
            "align_self": null,
            "border": null,
            "bottom": null,
            "display": null,
            "flex": null,
            "flex_flow": null,
            "grid_area": null,
            "grid_auto_columns": null,
            "grid_auto_flow": null,
            "grid_auto_rows": null,
            "grid_column": null,
            "grid_gap": null,
            "grid_row": null,
            "grid_template_areas": null,
            "grid_template_columns": null,
            "grid_template_rows": null,
            "height": null,
            "justify_content": null,
            "justify_items": null,
            "left": null,
            "margin": null,
            "max_height": null,
            "max_width": null,
            "min_height": null,
            "min_width": null,
            "object_fit": null,
            "object_position": null,
            "order": null,
            "overflow": null,
            "overflow_x": null,
            "overflow_y": null,
            "padding": null,
            "right": null,
            "top": null,
            "visibility": null,
            "width": null
          }
        },
        "f0daf5c9ee3041b5b443f7dbafe1f0dc": {
          "model_module": "@jupyter-widgets/base",
          "model_name": "LayoutModel",
          "model_module_version": "1.2.0",
          "state": {
            "_model_module": "@jupyter-widgets/base",
            "_model_module_version": "1.2.0",
            "_model_name": "LayoutModel",
            "_view_count": null,
            "_view_module": "@jupyter-widgets/base",
            "_view_module_version": "1.2.0",
            "_view_name": "LayoutView",
            "align_content": null,
            "align_items": null,
            "align_self": null,
            "border": null,
            "bottom": null,
            "display": null,
            "flex": null,
            "flex_flow": null,
            "grid_area": null,
            "grid_auto_columns": null,
            "grid_auto_flow": null,
            "grid_auto_rows": null,
            "grid_column": null,
            "grid_gap": null,
            "grid_row": null,
            "grid_template_areas": null,
            "grid_template_columns": null,
            "grid_template_rows": null,
            "height": null,
            "justify_content": null,
            "justify_items": null,
            "left": null,
            "margin": null,
            "max_height": null,
            "max_width": null,
            "min_height": null,
            "min_width": null,
            "object_fit": null,
            "object_position": null,
            "order": null,
            "overflow": null,
            "overflow_x": null,
            "overflow_y": null,
            "padding": null,
            "right": null,
            "top": null,
            "visibility": null,
            "width": null
          }
        },
        "6f8b0fa90c134ebd87c020a24b705226": {
          "model_module": "@jupyter-widgets/controls",
          "model_name": "DescriptionStyleModel",
          "model_module_version": "1.5.0",
          "state": {
            "_model_module": "@jupyter-widgets/controls",
            "_model_module_version": "1.5.0",
            "_model_name": "DescriptionStyleModel",
            "_view_count": null,
            "_view_module": "@jupyter-widgets/base",
            "_view_module_version": "1.2.0",
            "_view_name": "StyleView",
            "description_width": ""
          }
        },
        "9c97306b25fc4835a441f5a1e8e02c08": {
          "model_module": "@jupyter-widgets/base",
          "model_name": "LayoutModel",
          "model_module_version": "1.2.0",
          "state": {
            "_model_module": "@jupyter-widgets/base",
            "_model_module_version": "1.2.0",
            "_model_name": "LayoutModel",
            "_view_count": null,
            "_view_module": "@jupyter-widgets/base",
            "_view_module_version": "1.2.0",
            "_view_name": "LayoutView",
            "align_content": null,
            "align_items": null,
            "align_self": null,
            "border": null,
            "bottom": null,
            "display": null,
            "flex": null,
            "flex_flow": null,
            "grid_area": null,
            "grid_auto_columns": null,
            "grid_auto_flow": null,
            "grid_auto_rows": null,
            "grid_column": null,
            "grid_gap": null,
            "grid_row": null,
            "grid_template_areas": null,
            "grid_template_columns": null,
            "grid_template_rows": null,
            "height": null,
            "justify_content": null,
            "justify_items": null,
            "left": null,
            "margin": null,
            "max_height": null,
            "max_width": null,
            "min_height": null,
            "min_width": null,
            "object_fit": null,
            "object_position": null,
            "order": null,
            "overflow": null,
            "overflow_x": null,
            "overflow_y": null,
            "padding": null,
            "right": null,
            "top": null,
            "visibility": null,
            "width": null
          }
        },
        "2e84709743f24ee49163295759e97b6d": {
          "model_module": "@jupyter-widgets/controls",
          "model_name": "ProgressStyleModel",
          "model_module_version": "1.5.0",
          "state": {
            "_model_module": "@jupyter-widgets/controls",
            "_model_module_version": "1.5.0",
            "_model_name": "ProgressStyleModel",
            "_view_count": null,
            "_view_module": "@jupyter-widgets/base",
            "_view_module_version": "1.2.0",
            "_view_name": "StyleView",
            "bar_color": null,
            "description_width": ""
          }
        },
        "de729d4570d74a57b96f257e64f93ed8": {
          "model_module": "@jupyter-widgets/base",
          "model_name": "LayoutModel",
          "model_module_version": "1.2.0",
          "state": {
            "_model_module": "@jupyter-widgets/base",
            "_model_module_version": "1.2.0",
            "_model_name": "LayoutModel",
            "_view_count": null,
            "_view_module": "@jupyter-widgets/base",
            "_view_module_version": "1.2.0",
            "_view_name": "LayoutView",
            "align_content": null,
            "align_items": null,
            "align_self": null,
            "border": null,
            "bottom": null,
            "display": null,
            "flex": null,
            "flex_flow": null,
            "grid_area": null,
            "grid_auto_columns": null,
            "grid_auto_flow": null,
            "grid_auto_rows": null,
            "grid_column": null,
            "grid_gap": null,
            "grid_row": null,
            "grid_template_areas": null,
            "grid_template_columns": null,
            "grid_template_rows": null,
            "height": null,
            "justify_content": null,
            "justify_items": null,
            "left": null,
            "margin": null,
            "max_height": null,
            "max_width": null,
            "min_height": null,
            "min_width": null,
            "object_fit": null,
            "object_position": null,
            "order": null,
            "overflow": null,
            "overflow_x": null,
            "overflow_y": null,
            "padding": null,
            "right": null,
            "top": null,
            "visibility": null,
            "width": null
          }
        },
        "5b2eac8abe864e1881192affda766405": {
          "model_module": "@jupyter-widgets/controls",
          "model_name": "DescriptionStyleModel",
          "model_module_version": "1.5.0",
          "state": {
            "_model_module": "@jupyter-widgets/controls",
            "_model_module_version": "1.5.0",
            "_model_name": "DescriptionStyleModel",
            "_view_count": null,
            "_view_module": "@jupyter-widgets/base",
            "_view_module_version": "1.2.0",
            "_view_name": "StyleView",
            "description_width": ""
          }
        }
      }
    }
  },
  "nbformat": 4,
  "nbformat_minor": 0
}